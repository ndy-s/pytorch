{
 "cells": [
  {
   "cell_type": "markdown",
   "source": [
    "# PyTorch Workflow\n",
    "\n",
    "Let's explore an example PyTorch end-to-end workflow.\n",
    "\n",
    "Resources:\n",
    "* Book version of notebook - https://www.learnpytorch.io/01_pytorch_workflow/\n"
   ],
   "metadata": {
    "collapsed": false
   }
  },
  {
   "cell_type": "code",
   "execution_count": 1000,
   "outputs": [
    {
     "data": {
      "text/plain": "{1: 'data (prepare and load)',\n 2: 'build model',\n 3: 'fitting the model to data (training)',\n 4: 'making predictions and evaluating a model (inference)',\n 5: 'saving and loading a model',\n 6: 'putting it all together'}"
     },
     "execution_count": 1000,
     "metadata": {},
     "output_type": "execute_result"
    }
   ],
   "source": [
    "what_were_covering = {1: \"data (prepare and load)\",\n",
    "                      2: \"build model\",\n",
    "                      3: \"fitting the model to data (training)\",\n",
    "                      4: \"making predictions and evaluating a model (inference)\",\n",
    "                      5: \"saving and loading a model\",\n",
    "                      6: \"putting it all together\"}\n",
    "\n",
    "what_were_covering"
   ],
   "metadata": {
    "collapsed": false,
    "ExecuteTime": {
     "end_time": "2023-07-06T17:17:41.770980Z",
     "start_time": "2023-07-06T17:17:40.870386900Z"
    }
   }
  },
  {
   "cell_type": "code",
   "execution_count": 1001,
   "outputs": [
    {
     "name": "stdout",
     "output_type": "stream",
     "text": [
      "Requirement already satisfied: torch in c:\\storage\\programming\\general practice\\machine learning\\pytorch\\venv\\lib\\site-packages (2.0.1)\n",
      "Requirement already satisfied: filelock in c:\\storage\\programming\\general practice\\machine learning\\pytorch\\venv\\lib\\site-packages (from torch) (3.12.2)\n",
      "Requirement already satisfied: typing-extensions in c:\\storage\\programming\\general practice\\machine learning\\pytorch\\venv\\lib\\site-packages (from torch) (4.7.1)\n",
      "Requirement already satisfied: sympy in c:\\storage\\programming\\general practice\\machine learning\\pytorch\\venv\\lib\\site-packages (from torch) (1.12)\n",
      "Requirement already satisfied: networkx in c:\\storage\\programming\\general practice\\machine learning\\pytorch\\venv\\lib\\site-packages (from torch) (3.1)\n",
      "Requirement already satisfied: jinja2 in c:\\storage\\programming\\general practice\\machine learning\\pytorch\\venv\\lib\\site-packages (from torch) (3.1.2)\n",
      "Requirement already satisfied: MarkupSafe>=2.0 in c:\\storage\\programming\\general practice\\machine learning\\pytorch\\venv\\lib\\site-packages (from jinja2->torch) (2.1.3)\n",
      "Requirement already satisfied: mpmath>=0.19 in c:\\storage\\programming\\general practice\\machine learning\\pytorch\\venv\\lib\\site-packages (from sympy->torch) (1.3.0)\n"
     ]
    },
    {
     "name": "stderr",
     "output_type": "stream",
     "text": [
      "\n",
      "[notice] A new release of pip available: 22.3.1 -> 23.1.2\n",
      "[notice] To update, run: python.exe -m pip install --upgrade pip\n"
     ]
    },
    {
     "name": "stdout",
     "output_type": "stream",
     "text": [
      "Requirement already satisfied: matplotlib in c:\\storage\\programming\\general practice\\machine learning\\pytorch\\venv\\lib\\site-packages (3.7.1)\n",
      "Requirement already satisfied: contourpy>=1.0.1 in c:\\storage\\programming\\general practice\\machine learning\\pytorch\\venv\\lib\\site-packages (from matplotlib) (1.1.0)\n",
      "Requirement already satisfied: cycler>=0.10 in c:\\storage\\programming\\general practice\\machine learning\\pytorch\\venv\\lib\\site-packages (from matplotlib) (0.11.0)\n",
      "Requirement already satisfied: fonttools>=4.22.0 in c:\\storage\\programming\\general practice\\machine learning\\pytorch\\venv\\lib\\site-packages (from matplotlib) (4.40.0)\n",
      "Requirement already satisfied: kiwisolver>=1.0.1 in c:\\storage\\programming\\general practice\\machine learning\\pytorch\\venv\\lib\\site-packages (from matplotlib) (1.4.4)\n",
      "Requirement already satisfied: numpy>=1.20 in c:\\storage\\programming\\general practice\\machine learning\\pytorch\\venv\\lib\\site-packages (from matplotlib) (1.25.0)\n",
      "Requirement already satisfied: packaging>=20.0 in c:\\storage\\programming\\general practice\\machine learning\\pytorch\\venv\\lib\\site-packages (from matplotlib) (23.1)\n",
      "Requirement already satisfied: pillow>=6.2.0 in c:\\storage\\programming\\general practice\\machine learning\\pytorch\\venv\\lib\\site-packages (from matplotlib) (10.0.0)\n",
      "Requirement already satisfied: pyparsing>=2.3.1 in c:\\storage\\programming\\general practice\\machine learning\\pytorch\\venv\\lib\\site-packages (from matplotlib) (3.1.0)\n",
      "Requirement already satisfied: python-dateutil>=2.7 in c:\\storage\\programming\\general practice\\machine learning\\pytorch\\venv\\lib\\site-packages (from matplotlib) (2.8.2)\n",
      "Requirement already satisfied: six>=1.5 in c:\\storage\\programming\\general practice\\machine learning\\pytorch\\venv\\lib\\site-packages (from python-dateutil>=2.7->matplotlib) (1.16.0)\n"
     ]
    },
    {
     "name": "stderr",
     "output_type": "stream",
     "text": [
      "\n",
      "[notice] A new release of pip available: 22.3.1 -> 23.1.2\n",
      "[notice] To update, run: python.exe -m pip install --upgrade pip\n"
     ]
    }
   ],
   "source": [
    "!pip install torch\n",
    "!pip install matplotlib"
   ],
   "metadata": {
    "collapsed": false,
    "ExecuteTime": {
     "end_time": "2023-07-06T17:17:47.870946600Z",
     "start_time": "2023-07-06T17:17:40.881199800Z"
    }
   }
  },
  {
   "cell_type": "code",
   "execution_count": 1002,
   "outputs": [
    {
     "data": {
      "text/plain": "'2.0.1+cpu'"
     },
     "execution_count": 1002,
     "metadata": {},
     "output_type": "execute_result"
    }
   ],
   "source": [
    "import torch\n",
    "from torch import nn # nn contains all of PyTorch's building blocks for neural networks\n",
    "import matplotlib.pyplot as plt\n",
    "\n",
    "# Check PyTorch version\n",
    "torch.__version__"
   ],
   "metadata": {
    "collapsed": false,
    "ExecuteTime": {
     "end_time": "2023-07-06T17:17:47.876852800Z",
     "start_time": "2023-07-06T17:17:47.870946600Z"
    }
   }
  },
  {
   "cell_type": "markdown",
   "source": [
    "## 1. Data (preparing and loading)\n",
    "\n",
    "Data can be almost anything... in machine learning\n",
    "* Excel spreadsheet\n",
    "* Images of any kind\n",
    "* Videos (YouTube has lots of data...)\n",
    "* Audio like songs or podcasts\n",
    "* DNA\n",
    "* Text\n",
    "\n",
    "Machine learning is a game of two parts:\n",
    "1. Get data into a numerical representations.\n",
    "2. Build a model to learn patterns in that numerical representation.\n",
    "\n",
    "To showcase this, let's create some *known* data using the linear regression formula.\n",
    "\n",
    "We'll use a linear regression formula to make a straight line with *known* **parameters**."
   ],
   "metadata": {
    "collapsed": false
   }
  },
  {
   "cell_type": "code",
   "execution_count": 1003,
   "outputs": [
    {
     "data": {
      "text/plain": "(tensor([[0.0000],\n         [0.0200],\n         [0.0400],\n         [0.0600],\n         [0.0800],\n         [0.1000],\n         [0.1200],\n         [0.1400],\n         [0.1600],\n         [0.1800]]),\n tensor([[0.3000],\n         [0.3140],\n         [0.3280],\n         [0.3420],\n         [0.3560],\n         [0.3700],\n         [0.3840],\n         [0.3980],\n         [0.4120],\n         [0.4260]]))"
     },
     "execution_count": 1003,
     "metadata": {},
     "output_type": "execute_result"
    }
   ],
   "source": [
    "# Create *known* parameters\n",
    "weight = 0.7\n",
    "bias = 0.3\n",
    "\n",
    "# Create\n",
    "start = 0\n",
    "end = 1\n",
    "step = 0.02\n",
    "\n",
    "X = torch.arange(start, end, step).unsqueeze(dim=1)\n",
    "y = weight * X + bias\n",
    "\n",
    "X[:10], y[:10]"
   ],
   "metadata": {
    "collapsed": false,
    "ExecuteTime": {
     "end_time": "2023-07-06T17:17:47.896923600Z",
     "start_time": "2023-07-06T17:17:47.880875900Z"
    }
   }
  },
  {
   "cell_type": "code",
   "execution_count": 1004,
   "outputs": [
    {
     "data": {
      "text/plain": "(50, 50)"
     },
     "execution_count": 1004,
     "metadata": {},
     "output_type": "execute_result"
    }
   ],
   "source": [
    "len(X), len(y)"
   ],
   "metadata": {
    "collapsed": false,
    "ExecuteTime": {
     "end_time": "2023-07-06T17:17:48.027090100Z",
     "start_time": "2023-07-06T17:17:47.899941400Z"
    }
   }
  },
  {
   "cell_type": "markdown",
   "source": [
    "### Splitting data into training and test sets (one of the most important concepts in machine learning in general)\n",
    "\n",
    "![three_datasets.png](./assets/three_datasets.png)\n",
    "\n",
    "Let's create a training and test set with our data"
   ],
   "metadata": {
    "collapsed": false
   }
  },
  {
   "cell_type": "code",
   "execution_count": 1005,
   "outputs": [
    {
     "data": {
      "text/plain": "(40, 40, 10, 10)"
     },
     "execution_count": 1005,
     "metadata": {},
     "output_type": "execute_result"
    }
   ],
   "source": [
    "# Create a train/test split\n",
    "train_split = int(0.8 * len(X))\n",
    "X_train, y_train = X[:train_split], y[:train_split]\n",
    "X_test, y_test = X[train_split:], y[train_split:]\n",
    "\n",
    "len(X_train), len(y_train), len(X_test), len(y_test)"
   ],
   "metadata": {
    "collapsed": false,
    "ExecuteTime": {
     "end_time": "2023-07-06T17:17:48.028093900Z",
     "start_time": "2023-07-06T17:17:47.911346800Z"
    }
   }
  },
  {
   "cell_type": "markdown",
   "source": [
    "How might we better visualize our data?\n",
    "\n",
    "This is where the data explorer's motto comes in!\n",
    "\n",
    "\"Visualize, visualize, visualize!\""
   ],
   "metadata": {
    "collapsed": false
   }
  },
  {
   "cell_type": "code",
   "execution_count": 1006,
   "outputs": [],
   "source": [
    "def plot_predictions(train_data=X_train,\n",
    "                     train_labels=y_train,\n",
    "                     test_data=X_test,\n",
    "                     test_labels=y_test,\n",
    "                     predictions=None):\n",
    "    \"\"\"\n",
    "    Plots training data, test data and compares predictions.\n",
    "    \"\"\"\n",
    "    plt.figure(figsize=(10, 7))\n",
    "\n",
    "    # Plot training data in blue\n",
    "    plt.scatter(train_data, train_labels, c=\"b\", s=4, label=\"Training data\")\n",
    "\n",
    "    # Plot test data in green\n",
    "    plt.scatter(test_data, test_labels, c=\"g\", s=4, label=\"Testing data\")\n",
    "\n",
    "    # Are there predictions?\n",
    "    if predictions is not None:\n",
    "        # Plot the predictions if they exist\n",
    "        plt.scatter(test_data, predictions, c=\"r\", s=4, label=\"Predictions\")\n",
    "\n",
    "    # Show the legend\n",
    "    plt.legend(prop={\"size\": 14})"
   ],
   "metadata": {
    "collapsed": false,
    "ExecuteTime": {
     "end_time": "2023-07-06T17:17:48.028093900Z",
     "start_time": "2023-07-06T17:17:47.927893Z"
    }
   }
  },
  {
   "cell_type": "code",
   "execution_count": 1007,
   "outputs": [
    {
     "data": {
      "text/plain": "<Figure size 1000x700 with 1 Axes>",
      "image/png": "[encoded data removed]"
     },
     "metadata": {},
     "output_type": "display_data"
    }
   ],
   "source": [
    "plot_predictions()"
   ],
   "metadata": {
    "collapsed": false,
    "ExecuteTime": {
     "end_time": "2023-07-06T17:17:48.302509800Z",
     "start_time": "2023-07-06T17:17:47.939530900Z"
    }
   }
  },
  {
   "cell_type": "markdown",
   "source": [
    "## 2. Build model\n",
    "\n",
    "Our first PyTorch model!\n",
    "\n",
    "This is very exiting... let's do it!\n",
    "\n",
    "Because we're going to be building classes throughout the course, I'd recommend getting familiar with OOP in Python, to do so you can use the following resource from Real Python: https://realpython.com/python3-object-oriented-programming/\n",
    "\n",
    "What our model does:\n",
    "* Start with random values (weight & bias)\n",
    "* Look at training data and adjust the random values to better represent (or get closer to) the ideal values (the weight & bias values we used to create the data)\n",
    "\n",
    "How does it do so?\n",
    "\n",
    "Through two main algorithms:\n",
    "1. Gradient descent - https://youtu.be/IHZwWFHWa-w\n",
    "2. Backpropagation - https://youtu.be/Ilg3gGewQ5U\n",
    "\n",
    "<img src=\"./assets/LinearRegressionModel_class.png\" alt=\"LinearRegressionModel_class.png\" width=\"1000\" height=\"600\">"
   ],
   "metadata": {
    "collapsed": false
   }
  },
  {
   "cell_type": "code",
   "execution_count": 1008,
   "outputs": [],
   "source": [
    "from torch import nn\n",
    "\n",
    "# Create linear regression model class\n",
    "class LinearRegressionModel(nn.Module): # <- almost everything in PyTorch inherits from nn.Module\n",
    "    def __init__(self):\n",
    "        super().__init__()\n",
    "        self.weights = nn.Parameter(torch.randn(1, # <- start with a random weight and try to adjust it to the ideal weight\n",
    "                                                requires_grad=True, # <- can this parameter be updated via gradient descent?\n",
    "                                                dtype=torch.float)) # <- PyTorch loves the datatype torch.float32\n",
    "\n",
    "        self.bias = nn.Parameter(torch.randn(1, # <- start with a random bias and try to adjust it to the ideal bias\n",
    "                                             requires_grad=True, # <- can this parameter be updated via gradient descent?\n",
    "                                             dtype=torch.float)) # <- PyTorch loves the datatype torch.float32\n",
    "\n",
    "    # Forward method to define the computation in the model\n",
    "    def forward(self, x: torch.Tensor) -> torch.Tensor: # <- \"x\" is the input data\n",
    "        return self.weights * x + self.bias # this is the linear regression formula\n"
   ],
   "metadata": {
    "collapsed": false,
    "ExecuteTime": {
     "end_time": "2023-07-06T17:17:48.303517400Z",
     "start_time": "2023-07-06T17:17:48.290307300Z"
    }
   }
  },
  {
   "cell_type": "markdown",
   "source": [
    "### PyTorch model building essentials\n",
    "\n",
    "* torch.nn - contains all of the buildings for computational graphs (a neural network can be considered a computational graphs)\n",
    "* torch.nn.Parameter - what parameters should our model try and learn, oftern a PyTorch layer from torch.nn will set these for us\n",
    "* torch.nn.Module - The base class for all neural network modules, if you subclass it, you should overwrite forward()\n",
    "* torch.optim - this where the optimizers in PyTorch live, they will help with gradient descent\n",
    "* def forward() - All nn.Module subclasses require you to overwrite forward(), this method defines what happens in the forward computation\n",
    "\n",
    "<img src=\"./assets/pytorch_nn_building.png\" alt=\"pytorch_nn_building.png\" width=\"1000\" height=\"600\">\n",
    "\n",
    "See more of these essential modules via the PyTorch cheatsheet - https://pytorch.org/tutorials/beginner/ptcheat.html\n",
    "\n",
    "<img src=\"./assets/workflow_essential.png\" alt=\"workflow_essential.png\" width=\"1000\" height=\"600\">"
   ],
   "metadata": {
    "collapsed": false
   }
  },
  {
   "cell_type": "markdown",
   "source": [
    "### Checking the contents of our PyTorch model\n",
    "\n",
    "Now we've created a model, let's see what's inside...\n",
    "\n",
    "So we can check our model parameters or what's inside our model using `.parameters()`."
   ],
   "metadata": {
    "collapsed": false
   }
  },
  {
   "cell_type": "code",
   "execution_count": 1009,
   "outputs": [
    {
     "data": {
      "text/plain": "[Parameter containing:\n tensor([0.3367], requires_grad=True),\n Parameter containing:\n tensor([0.1288], requires_grad=True)]"
     },
     "execution_count": 1009,
     "metadata": {},
     "output_type": "execute_result"
    }
   ],
   "source": [
    "# Create a random seed\n",
    "torch.manual_seed(42)\n",
    "\n",
    "# Create an instance of the model (this is a subclass of nn.Module)\n",
    "model_0 = LinearRegressionModel()\n",
    "\n",
    "# Check out the parameters\n",
    "list(model_0.parameters())"
   ],
   "metadata": {
    "collapsed": false,
    "ExecuteTime": {
     "end_time": "2023-07-06T17:17:48.335212200Z",
     "start_time": "2023-07-06T17:17:48.297510200Z"
    }
   }
  },
  {
   "cell_type": "code",
   "execution_count": 1010,
   "outputs": [
    {
     "data": {
      "text/plain": "OrderedDict([('weights', tensor([0.3367])), ('bias', tensor([0.1288]))])"
     },
     "execution_count": 1010,
     "metadata": {},
     "output_type": "execute_result"
    }
   ],
   "source": [
    "# List named parameters\n",
    "model_0.state_dict()"
   ],
   "metadata": {
    "collapsed": false,
    "ExecuteTime": {
     "end_time": "2023-07-06T17:17:48.461188600Z",
     "start_time": "2023-07-06T17:17:48.319279100Z"
    }
   }
  },
  {
   "cell_type": "code",
   "execution_count": 1011,
   "outputs": [
    {
     "data": {
      "text/plain": "(0.7, 0.3)"
     },
     "execution_count": 1011,
     "metadata": {},
     "output_type": "execute_result"
    }
   ],
   "source": [
    "weight, bias"
   ],
   "metadata": {
    "collapsed": false,
    "ExecuteTime": {
     "end_time": "2023-07-06T17:17:48.461188600Z",
     "start_time": "2023-07-06T17:17:48.331218100Z"
    }
   }
  },
  {
   "cell_type": "markdown",
   "source": [
    "### Making prediction using `torch.inference_mode()`\n",
    "\n",
    "To check our model's predictive power, let's see how well it predicts `y_test` based on `X_test`.\n",
    "\n",
    "When we pass data through our model, it's going to run it through the `forward()` method."
   ],
   "metadata": {
    "collapsed": false
   }
  },
  {
   "cell_type": "code",
   "execution_count": 1012,
   "outputs": [
    {
     "data": {
      "text/plain": "tensor([[0.3982],\n        [0.4049],\n        [0.4116],\n        [0.4184],\n        [0.4251],\n        [0.4318],\n        [0.4386],\n        [0.4453],\n        [0.4520],\n        [0.4588]], grad_fn=<AddBackward0>)"
     },
     "execution_count": 1012,
     "metadata": {},
     "output_type": "execute_result"
    }
   ],
   "source": [
    "y_preds = model_0(X_test)\n",
    "y_preds"
   ],
   "metadata": {
    "collapsed": false,
    "ExecuteTime": {
     "end_time": "2023-07-06T17:17:48.462180100Z",
     "start_time": "2023-07-06T17:17:48.346852700Z"
    }
   }
  },
  {
   "cell_type": "code",
   "execution_count": 1013,
   "outputs": [
    {
     "data": {
      "text/plain": "tensor([[0.3982],\n        [0.4049],\n        [0.4116],\n        [0.4184],\n        [0.4251],\n        [0.4318],\n        [0.4386],\n        [0.4453],\n        [0.4520],\n        [0.4588]])"
     },
     "execution_count": 1013,
     "metadata": {},
     "output_type": "execute_result"
    }
   ],
   "source": [
    "# Make predictions with model\n",
    "with torch.inference_mode():\n",
    "    y_preds = model_0(X_test)\n",
    "\n",
    "# You can also do something similar with torch.no_grad(), however, torch.inference_mode() is preferred\n",
    "# with torch.no_grad():\n",
    "#     y_preds = model_0(X_test)\n",
    "\n",
    "y_preds"
   ],
   "metadata": {
    "collapsed": false,
    "ExecuteTime": {
     "end_time": "2023-07-06T17:17:48.462180100Z",
     "start_time": "2023-07-06T17:17:48.364896900Z"
    }
   }
  },
  {
   "cell_type": "markdown",
   "source": [
    "See more on inference mode here - https://twitter.com/PyTorch/status/1437838231505096708?s=20"
   ],
   "metadata": {
    "collapsed": false
   }
  },
  {
   "cell_type": "code",
   "execution_count": 1014,
   "outputs": [
    {
     "data": {
      "text/plain": "tensor([[0.8600],\n        [0.8740],\n        [0.8880],\n        [0.9020],\n        [0.9160],\n        [0.9300],\n        [0.9440],\n        [0.9580],\n        [0.9720],\n        [0.9860]])"
     },
     "execution_count": 1014,
     "metadata": {},
     "output_type": "execute_result"
    }
   ],
   "source": [
    "y_test"
   ],
   "metadata": {
    "collapsed": false,
    "ExecuteTime": {
     "end_time": "2023-07-06T17:17:48.464180400Z",
     "start_time": "2023-07-06T17:17:48.383643800Z"
    }
   }
  },
  {
   "cell_type": "code",
   "execution_count": 1015,
   "outputs": [
    {
     "data": {
      "text/plain": "<Figure size 1000x700 with 1 Axes>",
      "image/png": "[encoded data removed]"
     },
     "metadata": {},
     "output_type": "display_data"
    }
   ],
   "source": [
    "plot_predictions(predictions=y_preds)"
   ],
   "metadata": {
    "collapsed": false,
    "ExecuteTime": {
     "end_time": "2023-07-06T17:17:48.759717800Z",
     "start_time": "2023-07-06T17:17:48.401188300Z"
    }
   }
  },
  {
   "cell_type": "markdown",
   "source": [
    "### 3. Train model\n",
    "\n",
    "The whole idea of training is for a model to move from some *unknown* parameters (these may be random) to some *known* parameters.\n",
    "\n",
    "Or in other words from a poor representation of the data to a better representation of the data.\n",
    "\n",
    "One way to measure how poor or how wrong your models predictions are is to use a loss function.\n",
    "\n",
    "* Note: Loss function may also called cost function or criterion in different areas. For our case, we're going to refer to if as a loss function.\n",
    "\n",
    "Things we need to train:\n",
    "\n",
    "* **Loss function:** A function to measure how wrong your model's prediction are to the ideal outputs, lower is better.\n",
    "* **Optimizer:** Takes into account the loss of a model and adjusts the model's parameters (e.g. weight & bias in our case) to improve the loss function. - https://pytorch.org/docs/stable/optim.html#module-torch-optim\n",
    "    * Inside a optimizer you'll often have to set two parameters:\n",
    "        * `params` - the model parameters you'd like to optimize, for example `params=model_0.parameters()`\n",
    "        * `lr` (learning rate) - learning rate is a hyperparameter that defines how big/small the optimizer changes the parameters with each step (a small `lr` results in small changes, a large `lr` results in large changes)\n",
    "\n",
    "And specifically for PyTorch, we need:\n",
    "* A training loop\n",
    "* A testing loop"
   ],
   "metadata": {
    "collapsed": false
   }
  },
  {
   "cell_type": "code",
   "execution_count": 1016,
   "outputs": [
    {
     "data": {
      "text/plain": "[Parameter containing:\n tensor([0.3367], requires_grad=True),\n Parameter containing:\n tensor([0.1288], requires_grad=True)]"
     },
     "execution_count": 1016,
     "metadata": {},
     "output_type": "execute_result"
    }
   ],
   "source": [
    "list(model_0.parameters())"
   ],
   "metadata": {
    "collapsed": false,
    "ExecuteTime": {
     "end_time": "2023-07-06T17:17:48.760725600Z",
     "start_time": "2023-07-06T17:17:48.748380800Z"
    }
   }
  },
  {
   "cell_type": "code",
   "execution_count": 1017,
   "outputs": [
    {
     "data": {
      "text/plain": "OrderedDict([('weights', tensor([0.3367])), ('bias', tensor([0.1288]))])"
     },
     "execution_count": 1017,
     "metadata": {},
     "output_type": "execute_result"
    }
   ],
   "source": [
    "# Check out our model's parameters (a parameter is a value that the model sets itself)\n",
    "model_0.state_dict()"
   ],
   "metadata": {
    "collapsed": false,
    "ExecuteTime": {
     "end_time": "2023-07-06T17:17:48.771024800Z",
     "start_time": "2023-07-06T17:17:48.759717800Z"
    }
   }
  },
  {
   "cell_type": "markdown",
   "source": [
    "<p>\n",
    "    <img src=\"./assets/mean_abs_error.png\" alt=\"mean_abs_error.png\">\n",
    "</p>"
   ],
   "metadata": {
    "collapsed": false
   }
  },
  {
   "cell_type": "code",
   "execution_count": 1018,
   "outputs": [],
   "source": [
    "# Setup a loss function\n",
    "loss_fn = nn.L1Loss()\n",
    "\n",
    "# Setup an optimizer (stochastic gradient descent)\n",
    "optimizer = torch.optim.SGD(params=model_0.parameters(),\n",
    "                            lr=0.01) # lr = learning rate = possibly the most the import hyperparameter you can set"
   ],
   "metadata": {
    "collapsed": false,
    "ExecuteTime": {
     "end_time": "2023-07-06T17:17:48.776396800Z",
     "start_time": "2023-07-06T17:17:48.771024800Z"
    }
   }
  },
  {
   "cell_type": "markdown",
   "source": [
    "**Q:** Which loss function and optimizer should I use?\n",
    "\n",
    "**A:** This will be problem specific. But with experience, you'll get an idea of what works and what doesn't with your particular problem set.\n",
    "\n",
    "For example, for regression problem (like ours), a loss function of `nn.L1Loss()` and an optimizer like `torch.optim.SGD()` will suffice.\n",
    "\n",
    "But for a classification problem like classifying whether a photo is of a dog or cat, you'll likely want to use a loss function of `nn.BCELoss()` (binary cross entropy loss)."
   ],
   "metadata": {
    "collapsed": false
   }
  },
  {
   "cell_type": "markdown",
   "source": [
    "### Building a training loop (and a testing loop) in PyTorch\n",
    "\n",
    "A couple of things we need in a training loop:\n",
    "0. Loop through the data and do...\n",
    "1. Forward pass (this involves data moving through our model's `forward()` functions) to make predictions on data - also called forward propagation\n",
    "2. Calculate the loss (compare forward pass predictions to ground truth labels)\n",
    "3. Optimizer zero grad\n",
    "4. Loss backward - move backwards through the network to calculate the gradients of each of the parameters of our model with respect to the loss (**backpropagation** - https://youtu.be/Ilg3gGewQ5U)\n",
    "5. Optimizer step - use the optimizer to adjust our model's parameters to try and improve the loss (**gradient descent** - https://youtu.be/IHZwWFHWa-w)\n",
    "\n",
    "<img src=\"./assets/training_loop.png\" alt=\"training_loop.png\">\n",
    "<br>\n",
    "<img src=\"./assets/testing_loop.png\" alt=\"testing_loop.png\">"
   ],
   "metadata": {
    "collapsed": false
   }
  },
  {
   "cell_type": "code",
   "execution_count": 1019,
   "outputs": [
    {
     "name": "stdout",
     "output_type": "stream",
     "text": [
      "Epoch: 0 | Loss: 0.31288138031959534 | Test loss: 0.48106518387794495\n",
      "OrderedDict([('weights', tensor([0.3406])), ('bias', tensor([0.1388]))])\n",
      "Epoch: 10 | Loss: 0.1976713240146637 | Test loss: 0.3463551998138428\n",
      "OrderedDict([('weights', tensor([0.3796])), ('bias', tensor([0.2388]))])\n",
      "Epoch: 20 | Loss: 0.08908725529909134 | Test loss: 0.21729660034179688\n",
      "OrderedDict([('weights', tensor([0.4184])), ('bias', tensor([0.3333]))])\n",
      "Epoch: 30 | Loss: 0.053148526698350906 | Test loss: 0.14464017748832703\n",
      "OrderedDict([('weights', tensor([0.4512])), ('bias', tensor([0.3768]))])\n",
      "Epoch: 40 | Loss: 0.04543796554207802 | Test loss: 0.11360953003168106\n",
      "OrderedDict([('weights', tensor([0.4748])), ('bias', tensor([0.3868]))])\n",
      "Epoch: 50 | Loss: 0.04167863354086876 | Test loss: 0.09919948130846024\n",
      "OrderedDict([('weights', tensor([0.4938])), ('bias', tensor([0.3843]))])\n",
      "Epoch: 60 | Loss: 0.03818932920694351 | Test loss: 0.08886633068323135\n",
      "OrderedDict([('weights', tensor([0.5116])), ('bias', tensor([0.3788]))])\n",
      "Epoch: 70 | Loss: 0.03476089984178543 | Test loss: 0.0805937647819519\n",
      "OrderedDict([('weights', tensor([0.5288])), ('bias', tensor([0.3718]))])\n",
      "Epoch: 80 | Loss: 0.03132382780313492 | Test loss: 0.07232122868299484\n",
      "OrderedDict([('weights', tensor([0.5459])), ('bias', tensor([0.3648]))])\n",
      "Epoch: 90 | Loss: 0.02788739837706089 | Test loss: 0.06473556160926819\n",
      "OrderedDict([('weights', tensor([0.5629])), ('bias', tensor([0.3573]))])\n",
      "Epoch: 100 | Loss: 0.024458957836031914 | Test loss: 0.05646304413676262\n",
      "OrderedDict([('weights', tensor([0.5800])), ('bias', tensor([0.3503]))])\n",
      "Epoch: 110 | Loss: 0.021020207554101944 | Test loss: 0.04819049686193466\n",
      "OrderedDict([('weights', tensor([0.5972])), ('bias', tensor([0.3433]))])\n",
      "Epoch: 120 | Loss: 0.01758546568453312 | Test loss: 0.04060482233762741\n",
      "OrderedDict([('weights', tensor([0.6141])), ('bias', tensor([0.3358]))])\n",
      "Epoch: 130 | Loss: 0.014155393466353416 | Test loss: 0.03233227878808975\n",
      "OrderedDict([('weights', tensor([0.6313])), ('bias', tensor([0.3288]))])\n",
      "Epoch: 140 | Loss: 0.010716589167714119 | Test loss: 0.024059748277068138\n",
      "OrderedDict([('weights', tensor([0.6485])), ('bias', tensor([0.3218]))])\n",
      "Epoch: 150 | Loss: 0.0072835334576666355 | Test loss: 0.016474086791276932\n",
      "OrderedDict([('weights', tensor([0.6654])), ('bias', tensor([0.3143]))])\n",
      "Epoch: 160 | Loss: 0.0038517764769494534 | Test loss: 0.008201557211577892\n",
      "OrderedDict([('weights', tensor([0.6826])), ('bias', tensor([0.3073]))])\n",
      "Epoch: 170 | Loss: 0.008932482451200485 | Test loss: 0.005023092031478882\n",
      "OrderedDict([('weights', tensor([0.6951])), ('bias', tensor([0.2993]))])\n",
      "Epoch: 180 | Loss: 0.008932482451200485 | Test loss: 0.005023092031478882\n",
      "OrderedDict([('weights', tensor([0.6951])), ('bias', tensor([0.2993]))])\n",
      "Epoch: 190 | Loss: 0.008932482451200485 | Test loss: 0.005023092031478882\n",
      "OrderedDict([('weights', tensor([0.6951])), ('bias', tensor([0.2993]))])\n"
     ]
    }
   ],
   "source": [
    "torch.manual_seed(42)\n",
    "\n",
    "# An epoch is one loop through the data... (this is a hyperparameter because we've set it ourselves)\n",
    "epochs = 200\n",
    "\n",
    "# Track different values\n",
    "epoch_count = []\n",
    "loss_values = []\n",
    "test_loss_values = []\n",
    "\n",
    "### Training\n",
    "# 0. Loop through the data\n",
    "for epoch in range(epochs):\n",
    "    # Set the model to training mode\n",
    "    model_0.train() # train mode in PyTorch sets all parameters that require gradients to require gradients\n",
    "\n",
    "    # 1. Forward pass\n",
    "    y_pred = model_0(X_train)\n",
    "\n",
    "    # 2. Calculate the loss\n",
    "    loss = loss_fn(y_pred, y_train)\n",
    "\n",
    "    # 3. Optimizer zero grad\n",
    "    optimizer.zero_grad()\n",
    "\n",
    "    # 4. Perform backpropagation on the loss with respect to the parameters of the model\n",
    "    loss.backward()\n",
    "\n",
    "    # 5. Step the optimizer (perform gradient descent)\n",
    "    optimizer.step() # by default how the optimizer changes will accumulate through the loops so... we have to zero them above in step 3 for the next iteration of the loop\n",
    "\n",
    "    ### Testing\n",
    "    model_0.eval() # turns off different settings in the model not needed for evaluation/testing (dropout/batch norm layers)\n",
    "    with torch.inference_mode(): # turns off gradient tracking & couple more things behind the scenes - https://twitter.com/PyTorch/status/1437838231505096708?s=20\n",
    "    # with torch.no_grad: # you may also see torch.no_grad() in older PyTorch code\n",
    "        # 1. Do the forward pass\n",
    "        test_pred = model_0(X_test)\n",
    "\n",
    "        # 2. Calculate the loss\n",
    "        test_loss = loss_fn(test_pred, y_test)\n",
    "\n",
    "    # Print out what's happenin'\n",
    "    if epoch % 10 == 0:\n",
    "        epoch_count.append(epoch)\n",
    "        loss_values.append(loss)\n",
    "        test_loss_values.append(test_loss)\n",
    "        print(f\"Epoch: {epoch} | Loss: {loss} | Test loss: {test_loss}\")\n",
    "        # Print out model state_dict()\n",
    "        print(model_0.state_dict())"
   ],
   "metadata": {
    "collapsed": false,
    "ExecuteTime": {
     "end_time": "2023-07-06T17:17:48.958391Z",
     "start_time": "2023-07-06T17:17:48.778394300Z"
    }
   }
  },
  {
   "cell_type": "code",
   "execution_count": 1020,
   "outputs": [
    {
     "data": {
      "text/plain": "(array([0.31288138, 0.19767132, 0.08908726, 0.05314853, 0.04543797,\n        0.04167863, 0.03818933, 0.0347609 , 0.03132383, 0.0278874 ,\n        0.02445896, 0.02102021, 0.01758547, 0.01415539, 0.01071659,\n        0.00728353, 0.00385178, 0.00893248, 0.00893248, 0.00893248],\n       dtype=float32),\n [tensor(0.4811),\n  tensor(0.3464),\n  tensor(0.2173),\n  tensor(0.1446),\n  tensor(0.1136),\n  tensor(0.0992),\n  tensor(0.0889),\n  tensor(0.0806),\n  tensor(0.0723),\n  tensor(0.0647),\n  tensor(0.0565),\n  tensor(0.0482),\n  tensor(0.0406),\n  tensor(0.0323),\n  tensor(0.0241),\n  tensor(0.0165),\n  tensor(0.0082),\n  tensor(0.0050),\n  tensor(0.0050),\n  tensor(0.0050)])"
     },
     "execution_count": 1020,
     "metadata": {},
     "output_type": "execute_result"
    }
   ],
   "source": [
    "import numpy as np\n",
    "np.array(torch.tensor(loss_values).numpy()), test_loss_values"
   ],
   "metadata": {
    "collapsed": false,
    "ExecuteTime": {
     "end_time": "2023-07-06T17:17:49.037940700Z",
     "start_time": "2023-07-06T17:17:48.927075600Z"
    }
   }
  },
  {
   "cell_type": "code",
   "execution_count": 1021,
   "outputs": [
    {
     "data": {
      "text/plain": "<matplotlib.legend.Legend at 0x143e46d6cd0>"
     },
     "execution_count": 1021,
     "metadata": {},
     "output_type": "execute_result"
    },
    {
     "data": {
      "text/plain": "<Figure size 640x480 with 1 Axes>",
      "image/png": "[encoded data removed]"
     },
     "metadata": {},
     "output_type": "display_data"
    }
   ],
   "source": [
    "# Plot the loss curves\n",
    "plt.plot(epoch_count, np.array(torch.tensor(loss_values).numpy()), label=\"Train loss\")\n",
    "plt.plot(epoch_count, test_loss_values, label=\"Test loss\")\n",
    "plt.title(\"Training and test loss curves\")\n",
    "plt.ylabel(\"Loss\")\n",
    "plt.xlabel(\"Epochs\")\n",
    "plt.legend()"
   ],
   "metadata": {
    "collapsed": false,
    "ExecuteTime": {
     "end_time": "2023-07-06T17:17:49.285318200Z",
     "start_time": "2023-07-06T17:17:48.947398300Z"
    }
   }
  },
  {
   "cell_type": "code",
   "execution_count": 1022,
   "outputs": [],
   "source": [
    "with torch.inference_mode():\n",
    "    y_preds_new = model_0(X_test)"
   ],
   "metadata": {
    "collapsed": false,
    "ExecuteTime": {
     "end_time": "2023-07-06T17:17:49.286208Z",
     "start_time": "2023-07-06T17:17:49.258546300Z"
    }
   }
  },
  {
   "cell_type": "code",
   "execution_count": 1023,
   "outputs": [
    {
     "data": {
      "text/plain": "OrderedDict([('weights', tensor([0.6990])), ('bias', tensor([0.3093]))])"
     },
     "execution_count": 1023,
     "metadata": {},
     "output_type": "execute_result"
    }
   ],
   "source": [
    "model_0.state_dict()"
   ],
   "metadata": {
    "collapsed": false,
    "ExecuteTime": {
     "end_time": "2023-07-06T17:17:49.303281Z",
     "start_time": "2023-07-06T17:17:49.285318200Z"
    }
   }
  },
  {
   "cell_type": "code",
   "execution_count": 1024,
   "outputs": [
    {
     "data": {
      "text/plain": "(0.7, 0.3)"
     },
     "execution_count": 1024,
     "metadata": {},
     "output_type": "execute_result"
    }
   ],
   "source": [
    "weight, bias"
   ],
   "metadata": {
    "collapsed": false,
    "ExecuteTime": {
     "end_time": "2023-07-06T17:17:49.303281Z",
     "start_time": "2023-07-06T17:17:49.286720900Z"
    }
   }
  },
  {
   "cell_type": "code",
   "execution_count": 1025,
   "outputs": [
    {
     "data": {
      "text/plain": "<Figure size 1000x700 with 1 Axes>",
      "image/png": "[encoded data removed]"
     },
     "metadata": {},
     "output_type": "display_data"
    }
   ],
   "source": [
    "plot_predictions(predictions=y_preds)"
   ],
   "metadata": {
    "collapsed": false,
    "ExecuteTime": {
     "end_time": "2023-07-06T17:17:49.676878300Z",
     "start_time": "2023-07-06T17:17:49.301291700Z"
    }
   }
  },
  {
   "cell_type": "code",
   "execution_count": 1026,
   "outputs": [
    {
     "data": {
      "text/plain": "<Figure size 1000x700 with 1 Axes>",
      "image/png": "[encoded data removed]"
     },
     "metadata": {},
     "output_type": "display_data"
    }
   ],
   "source": [
    "plot_predictions(predictions=y_preds_new)"
   ],
   "metadata": {
    "collapsed": false,
    "ExecuteTime": {
     "end_time": "2023-07-06T17:17:50.177997500Z",
     "start_time": "2023-07-06T17:17:49.678875700Z"
    }
   }
  },
  {
   "cell_type": "markdown",
   "source": [
    "## Saving a model in PyTorch\n",
    "\n",
    "There are three main methods you should know about for saving and loading models in PyTorch.\n",
    "\n",
    "1. `torch.save()` - allows you save a PyTorch object in Python's pickle format\n",
    "2. `torch.load()` - allows you load a saved PyTorch object\n",
    "3. `torch.nn.Module.load_state_dict` - this allows to load a model's saved state dictionary\n",
    "\n",
    "PyTorch save & load code tutorial + extra-curriculum - https://pytorch.org/tutorials/beginner/saving_loading_models.html#saving-loading-model-for-inference"
   ],
   "metadata": {
    "collapsed": false
   }
  },
  {
   "cell_type": "code",
   "execution_count": 1027,
   "outputs": [
    {
     "name": "stdout",
     "output_type": "stream",
     "text": [
      "Saving model to: models\\01_pytorch_workflow_model_0.pth\n"
     ]
    }
   ],
   "source": [
    "# Saving our PyTorch model\n",
    "from pathlib import Path\n",
    "\n",
    "# 1. Create models directory\n",
    "MODEL_PATH = Path(\"models\")\n",
    "MODEL_PATH.mkdir(parents=True, exist_ok=True)\n",
    "\n",
    "# 2. Create model save path\n",
    "MODEL_NAME = \"01_pytorch_workflow_model_0.pth\"\n",
    "MODEL_SAVE_PATH = MODEL_PATH / MODEL_NAME\n",
    "\n",
    "# 3. Save the model\n",
    "print(f\"Saving model to: {MODEL_SAVE_PATH}\")\n",
    "torch.save(obj=model_0.state_dict(),\n",
    "           f=MODEL_SAVE_PATH)"
   ],
   "metadata": {
    "collapsed": false,
    "ExecuteTime": {
     "end_time": "2023-07-06T17:17:50.179012900Z",
     "start_time": "2023-07-06T17:17:50.177005600Z"
    }
   }
  },
  {
   "cell_type": "code",
   "execution_count": 1028,
   "outputs": [
    {
     "name": "stdout",
     "output_type": "stream",
     "text": [
      " Volume in drive C is OS"
     ]
    },
    {
     "name": "stderr",
     "output_type": "stream",
     "text": [
      "File Not Found\n"
     ]
    },
    {
     "name": "stdout",
     "output_type": "stream",
     "text": [
      "\n",
      " Volume Serial Number is 8250-464A\n",
      "\n",
      " Directory of C:\\Storage\\Programming\\General Practice\\Machine Learning\\PyTorch\n",
      "\n",
      "\n",
      " Directory of C:\\Storage\\Programming\\General Practice\\Machine Learning\\PyTorch\\models\n",
      "\n",
      "07/07/2023  12:15 AM    <DIR>          .\n",
      "07/07/2023  12:17 AM    <DIR>          ..\n",
      "07/07/2023  12:17 AM             1,207 01_pytorch_workflow_model_0.pth\n",
      "07/07/2023  12:16 AM             1,271 01_pytorch_workflow_model_1.pth\n",
      "07/07/2023  12:16 AM             1,271 01_pytorch_workflow_model_2.pth\n",
      "               3 File(s)          3,749 bytes\n",
      "               2 Dir(s)  99,182,149,632 bytes free\n"
     ]
    }
   ],
   "source": [
    "ls -l models"
   ],
   "metadata": {
    "collapsed": false,
    "ExecuteTime": {
     "end_time": "2023-07-06T17:17:50.183966400Z",
     "start_time": "2023-07-06T17:17:50.179012900Z"
    }
   }
  },
  {
   "cell_type": "markdown",
   "source": [
    "## Loading a PyTorch model\n",
    "\n",
    "Since we saved our model's `state_dict()` rather the entire model, we'll create a new instance of our model class and load the saved `state_dict()` into that."
   ],
   "metadata": {
    "collapsed": false
   }
  },
  {
   "cell_type": "code",
   "execution_count": 1029,
   "outputs": [
    {
     "data": {
      "text/plain": "OrderedDict([('weights', tensor([0.6990])), ('bias', tensor([0.3093]))])"
     },
     "execution_count": 1029,
     "metadata": {},
     "output_type": "execute_result"
    }
   ],
   "source": [
    "model_0.state_dict()"
   ],
   "metadata": {
    "collapsed": false,
    "ExecuteTime": {
     "end_time": "2023-07-06T17:17:50.184969800Z",
     "start_time": "2023-07-06T17:17:50.179927700Z"
    }
   }
  },
  {
   "cell_type": "code",
   "execution_count": 1030,
   "outputs": [
    {
     "data": {
      "text/plain": "<All keys matched successfully>"
     },
     "execution_count": 1030,
     "metadata": {},
     "output_type": "execute_result"
    }
   ],
   "source": [
    "# To load in a saved state_dict we have to instantiate a new instance of our model class\n",
    "loaded_model_0 = LinearRegressionModel()\n",
    "\n",
    "# Load the saved state_dict of model_0 (this will update the new instance with updated parameters)\n",
    "loaded_model_0.load_state_dict(torch.load(f=MODEL_SAVE_PATH))"
   ],
   "metadata": {
    "collapsed": false,
    "ExecuteTime": {
     "end_time": "2023-07-06T17:17:50.184969800Z",
     "start_time": "2023-07-06T17:17:50.179927700Z"
    }
   }
  },
  {
   "cell_type": "code",
   "execution_count": 1031,
   "outputs": [
    {
     "data": {
      "text/plain": "OrderedDict([('weights', tensor([0.6990])), ('bias', tensor([0.3093]))])"
     },
     "execution_count": 1031,
     "metadata": {},
     "output_type": "execute_result"
    }
   ],
   "source": [
    "loaded_model_0.state_dict()"
   ],
   "metadata": {
    "collapsed": false,
    "ExecuteTime": {
     "end_time": "2023-07-06T17:17:50.185970300Z",
     "start_time": "2023-07-06T17:17:50.180949400Z"
    }
   }
  },
  {
   "cell_type": "code",
   "execution_count": 1032,
   "outputs": [
    {
     "data": {
      "text/plain": "tensor([[0.8685],\n        [0.8825],\n        [0.8965],\n        [0.9105],\n        [0.9245],\n        [0.9384],\n        [0.9524],\n        [0.9664],\n        [0.9804],\n        [0.9944]])"
     },
     "execution_count": 1032,
     "metadata": {},
     "output_type": "execute_result"
    }
   ],
   "source": [
    "# Make some predictions with our loaded model\n",
    "loaded_model_0.eval()\n",
    "with torch.inference_mode():\n",
    "    loaded_model_preds = loaded_model_0(X_test)\n",
    "\n",
    "loaded_model_preds"
   ],
   "metadata": {
    "collapsed": false,
    "ExecuteTime": {
     "end_time": "2023-07-06T17:17:50.202967200Z",
     "start_time": "2023-07-06T17:17:50.191964Z"
    }
   }
  },
  {
   "cell_type": "code",
   "execution_count": 1033,
   "outputs": [
    {
     "data": {
      "text/plain": "tensor([[0.8685],\n        [0.8825],\n        [0.8965],\n        [0.9105],\n        [0.9245],\n        [0.9384],\n        [0.9524],\n        [0.9664],\n        [0.9804],\n        [0.9944]])"
     },
     "execution_count": 1033,
     "metadata": {},
     "output_type": "execute_result"
    }
   ],
   "source": [
    "# Make some models preds\n",
    "model_0.eval()\n",
    "with torch.inference_mode():\n",
    "    y_preds = model_0(X_test)\n",
    "\n",
    "y_preds"
   ],
   "metadata": {
    "collapsed": false,
    "ExecuteTime": {
     "end_time": "2023-07-06T17:17:50.410306700Z",
     "start_time": "2023-07-06T17:17:50.204966800Z"
    }
   }
  },
  {
   "cell_type": "code",
   "execution_count": 1034,
   "outputs": [
    {
     "data": {
      "text/plain": "tensor([[True],\n        [True],\n        [True],\n        [True],\n        [True],\n        [True],\n        [True],\n        [True],\n        [True],\n        [True]])"
     },
     "execution_count": 1034,
     "metadata": {},
     "output_type": "execute_result"
    }
   ],
   "source": [
    "# Compare loaded model preds with original model preds\n",
    "y_preds == loaded_model_preds"
   ],
   "metadata": {
    "collapsed": false,
    "ExecuteTime": {
     "end_time": "2023-07-06T17:17:50.411306900Z",
     "start_time": "2023-07-06T17:17:50.226539800Z"
    }
   }
  },
  {
   "cell_type": "markdown",
   "source": [
    "## 6. Putting it all together\n",
    "\n",
    "Let's go back through the steps above and see it all in one place."
   ],
   "metadata": {
    "collapsed": false
   }
  },
  {
   "cell_type": "code",
   "execution_count": 1035,
   "outputs": [
    {
     "data": {
      "text/plain": "'2.0.1+cpu'"
     },
     "execution_count": 1035,
     "metadata": {},
     "output_type": "execute_result"
    }
   ],
   "source": [
    "# Import PyTorch and matplotlib\n",
    "import torch\n",
    "from torch import nn\n",
    "import matplotlib.pyplot as plt\n",
    "\n",
    "# Check PyTorch version\n",
    "torch.__version__"
   ],
   "metadata": {
    "collapsed": false,
    "ExecuteTime": {
     "end_time": "2023-07-06T17:17:50.411306900Z",
     "start_time": "2023-07-06T17:17:50.242632700Z"
    }
   }
  },
  {
   "cell_type": "markdown",
   "source": [
    "Create device-agnostic code.\n",
    "\n",
    "This means if we've got access to a GPU, our code will use it (for potentially faster computing).\n",
    "\n",
    "If no GPU is available, the code will default to using CPU."
   ],
   "metadata": {
    "collapsed": false
   }
  },
  {
   "cell_type": "code",
   "execution_count": 1036,
   "outputs": [
    {
     "name": "stdout",
     "output_type": "stream",
     "text": [
      "Using device: cpu\n"
     ]
    }
   ],
   "source": [
    "# Setup device agnostic code\n",
    "\n",
    "device = \"cuda\" if torch.cuda.is_available() else \"cpu\"\n",
    "print(f\"Using device: {device}\")"
   ],
   "metadata": {
    "collapsed": false,
    "ExecuteTime": {
     "end_time": "2023-07-06T17:17:50.412308100Z",
     "start_time": "2023-07-06T17:17:50.252107800Z"
    }
   }
  },
  {
   "cell_type": "markdown",
   "source": [
    "### 6.1. Data"
   ],
   "metadata": {
    "collapsed": false
   }
  },
  {
   "cell_type": "code",
   "execution_count": 1037,
   "outputs": [
    {
     "data": {
      "text/plain": "(tensor([[0.0000],\n         [0.0200],\n         [0.0400],\n         [0.0600],\n         [0.0800],\n         [0.1000],\n         [0.1200],\n         [0.1400],\n         [0.1600],\n         [0.1800]]),\n tensor([[0.3000],\n         [0.3140],\n         [0.3280],\n         [0.3420],\n         [0.3560],\n         [0.3700],\n         [0.3840],\n         [0.3980],\n         [0.4120],\n         [0.4260]]))"
     },
     "execution_count": 1037,
     "metadata": {},
     "output_type": "execute_result"
    }
   ],
   "source": [
    "# Create some data using the linear regression formula of y = weight * X + bias\n",
    "weight = 0.7\n",
    "bias = 0.3\n",
    "\n",
    "# Create range values\n",
    "start = 0\n",
    "end = 1\n",
    "step = 0.02\n",
    "\n",
    "# Create X and y (features and labels)\n",
    "X = torch.arange(start, end, step).unsqueeze(dim=1) # without unsqueeze, errors will pop up\n",
    "y = weight * X + bias\n",
    "X[:10], y[:10]"
   ],
   "metadata": {
    "collapsed": false,
    "ExecuteTime": {
     "end_time": "2023-07-06T17:17:50.412308100Z",
     "start_time": "2023-07-06T17:17:50.264471700Z"
    }
   }
  },
  {
   "cell_type": "code",
   "execution_count": 1038,
   "outputs": [
    {
     "data": {
      "text/plain": "(40, 40, 10, 10)"
     },
     "execution_count": 1038,
     "metadata": {},
     "output_type": "execute_result"
    }
   ],
   "source": [
    "# Split data\n",
    "train_split = int(0.8 * len(X))\n",
    "X_train, y_train = X[:train_split], y[:train_split]\n",
    "X_test, y_test = X[train_split:], y[train_split:]\n",
    "len(X_train), len(y_train), len(X_test), len(y_test)"
   ],
   "metadata": {
    "collapsed": false,
    "ExecuteTime": {
     "end_time": "2023-07-06T17:17:50.413308900Z",
     "start_time": "2023-07-06T17:17:50.280049200Z"
    }
   }
  },
  {
   "cell_type": "code",
   "execution_count": 1039,
   "outputs": [
    {
     "data": {
      "text/plain": "<Figure size 1000x700 with 1 Axes>",
      "image/png": "[encoded data removed]"
     },
     "metadata": {},
     "output_type": "display_data"
    }
   ],
   "source": [
    "# Plot the data\n",
    "# Note: if you don't have the plot_predictions() function loaded, this will error\n",
    "plot_predictions(X_train, y_train, X_test, y_test)"
   ],
   "metadata": {
    "collapsed": false,
    "ExecuteTime": {
     "end_time": "2023-07-06T17:17:50.691138300Z",
     "start_time": "2023-07-06T17:17:50.291217600Z"
    }
   }
  },
  {
   "cell_type": "markdown",
   "source": [
    "## 6.2. Building a PyTorch Linear model\n",
    "\n",
    "<img src=\"./assets/linear_reg_model.png\" alt=\"./assets/linear_reg_model.png\">"
   ],
   "metadata": {
    "collapsed": false
   }
  },
  {
   "cell_type": "code",
   "execution_count": 1040,
   "outputs": [
    {
     "data": {
      "text/plain": "(LinearRegressionModelV2(\n   (linear_layer): Linear(in_features=1, out_features=1, bias=True)\n ),\n OrderedDict([('linear_layer.weight', tensor([[0.7645]])),\n              ('linear_layer.bias', tensor([0.8300]))]))"
     },
     "execution_count": 1040,
     "metadata": {},
     "output_type": "execute_result"
    }
   ],
   "source": [
    "# Create a linear model by subclassing nn.Module\n",
    "class LinearRegressionModelV2(nn.Module):\n",
    "    def __init__(self):\n",
    "        super().__init__()\n",
    "        # Use nn.Linear() for creating the model parameters / also called: linear transform, probing layer, fully connected layer, dense layer\n",
    "        self.linear_layer = nn.Linear(in_features=1,\n",
    "                                      out_features=1)\n",
    "\n",
    "    def forward(self, x: torch.Tensor) -> torch.Tensor:\n",
    "        return self.linear_layer(x)\n",
    "\n",
    "# Set the manual seed\n",
    "torch.manual_seed(42)\n",
    "model_1 = LinearRegressionModelV2()\n",
    "model_1, model_1.state_dict()"
   ],
   "metadata": {
    "collapsed": false,
    "ExecuteTime": {
     "end_time": "2023-07-06T17:17:50.721685500Z",
     "start_time": "2023-07-06T17:17:50.629973400Z"
    }
   }
  },
  {
   "cell_type": "code",
   "execution_count": 1041,
   "outputs": [
    {
     "data": {
      "text/plain": "device(type='cpu')"
     },
     "execution_count": 1041,
     "metadata": {},
     "output_type": "execute_result"
    }
   ],
   "source": [
    "# Check the model current device\n",
    "next(model_1.parameters()).device"
   ],
   "metadata": {
    "collapsed": false,
    "ExecuteTime": {
     "end_time": "2023-07-06T17:17:50.752680600Z",
     "start_time": "2023-07-06T17:17:50.644142700Z"
    }
   }
  },
  {
   "cell_type": "code",
   "execution_count": 1042,
   "outputs": [
    {
     "data": {
      "text/plain": "device(type='cpu')"
     },
     "execution_count": 1042,
     "metadata": {},
     "output_type": "execute_result"
    }
   ],
   "source": [
    "# Set the model to use target device\n",
    "model_1.to(device)\n",
    "next(model_1.parameters()).device"
   ],
   "metadata": {
    "collapsed": false,
    "ExecuteTime": {
     "end_time": "2023-07-06T17:17:50.757680600Z",
     "start_time": "2023-07-06T17:17:50.652598Z"
    }
   }
  },
  {
   "cell_type": "code",
   "execution_count": 1043,
   "outputs": [
    {
     "data": {
      "text/plain": "OrderedDict([('linear_layer.weight', tensor([[0.7645]])),\n             ('linear_layer.bias', tensor([0.8300]))])"
     },
     "execution_count": 1043,
     "metadata": {},
     "output_type": "execute_result"
    }
   ],
   "source": [
    "model_1.state_dict()"
   ],
   "metadata": {
    "collapsed": false,
    "ExecuteTime": {
     "end_time": "2023-07-06T17:17:50.757680600Z",
     "start_time": "2023-07-06T17:17:50.664383500Z"
    }
   }
  },
  {
   "cell_type": "markdown",
   "source": [
    "### 6.3. Training\n",
    "\n",
    "For training we need:\n",
    "* Loss function\n",
    "* Optimizer\n",
    "* Training loop\n",
    "* Testing loop"
   ],
   "metadata": {
    "collapsed": false
   }
  },
  {
   "cell_type": "code",
   "execution_count": 1044,
   "outputs": [],
   "source": [
    "# Setup loss function\n",
    "loss_fn = nn.L1Loss() # same as MAE\n",
    "\n",
    "# Setup our optimizer\n",
    "optimizer = torch.optim.SGD(params=model_1.parameters(),\n",
    "                            lr=0.01)"
   ],
   "metadata": {
    "collapsed": false,
    "ExecuteTime": {
     "end_time": "2023-07-06T17:17:50.895060500Z",
     "start_time": "2023-07-06T17:17:50.677398900Z"
    }
   }
  },
  {
   "cell_type": "code",
   "execution_count": 1045,
   "outputs": [
    {
     "name": "stdout",
     "output_type": "stream",
     "text": [
      "Epoch: 0 | Loss: 0.5551779866218567 | Test loss: 0.5739762187004089\n",
      "Epoch: 10 | Loss: 0.4399680495262146 | Test loss: 0.4392663538455963\n",
      "Epoch: 20 | Loss: 0.3247582018375397 | Test loss: 0.30455657839775085\n",
      "Epoch: 30 | Loss: 0.20954827964305878 | Test loss: 0.16984674334526062\n",
      "Epoch: 40 | Loss: 0.09433844685554504 | Test loss: 0.03513689711689949\n",
      "Epoch: 50 | Loss: 0.023886386305093765 | Test loss: 0.04784906655550003\n",
      "Epoch: 60 | Loss: 0.0199567973613739 | Test loss: 0.04580312222242355\n",
      "Epoch: 70 | Loss: 0.016517987474799156 | Test loss: 0.0375305712223053\n",
      "Epoch: 80 | Loss: 0.013089170679450035 | Test loss: 0.029944902285933495\n",
      "Epoch: 90 | Loss: 0.009653178043663502 | Test loss: 0.02167237363755703\n",
      "Epoch: 100 | Loss: 0.006215679459273815 | Test loss: 0.014086711220443249\n",
      "Epoch: 110 | Loss: 0.002787243574857712 | Test loss: 0.005814164876937866\n",
      "Epoch: 120 | Loss: 0.0012645035749301314 | Test loss: 0.013801807537674904\n",
      "Epoch: 130 | Loss: 0.0012645035749301314 | Test loss: 0.013801807537674904\n",
      "Epoch: 140 | Loss: 0.0012645035749301314 | Test loss: 0.013801807537674904\n",
      "Epoch: 150 | Loss: 0.0012645035749301314 | Test loss: 0.013801807537674904\n",
      "Epoch: 160 | Loss: 0.0012645035749301314 | Test loss: 0.013801807537674904\n",
      "Epoch: 170 | Loss: 0.0012645035749301314 | Test loss: 0.013801807537674904\n",
      "Epoch: 180 | Loss: 0.0012645035749301314 | Test loss: 0.013801807537674904\n",
      "Epoch: 190 | Loss: 0.0012645035749301314 | Test loss: 0.013801807537674904\n"
     ]
    }
   ],
   "source": [
    "# Let's write a training loop\n",
    "torch.manual_seed(42)\n",
    "\n",
    "epochs = 200\n",
    "\n",
    "# Put data on the target device (device agnostic code for data)\n",
    "X_train = X_train.to(device)\n",
    "y_train = y_train.to(device)\n",
    "X_test = X_test.to(device)\n",
    "y_test = y_test.to(device)\n",
    "\n",
    "for epoch in range(epochs):\n",
    "    model_1.train()\n",
    "\n",
    "    # 1. Forward pass\n",
    "    y_pred = model_1(X_train)\n",
    "\n",
    "    # 2. Calculate the loss\n",
    "    loss = loss_fn(y_pred, y_train)\n",
    "\n",
    "    # 3. Optimizer zero grad\n",
    "    optimizer.zero_grad()\n",
    "\n",
    "    # 4. Perform backpropagation\n",
    "    loss.backward()\n",
    "\n",
    "    # 5. Optimizer step\n",
    "    optimizer.step()\n",
    "\n",
    "    ### Testing\n",
    "    model_1.eval()\n",
    "    with torch.inference_mode():\n",
    "        test_pred = model_1(X_test)\n",
    "\n",
    "        test_loss = loss_fn(test_pred, y_test)\n",
    "\n",
    "    # Print out what's happening\n",
    "    if epoch % 10 == 0:\n",
    "        print(f\"Epoch: {epoch} | Loss: {loss} | Test loss: {test_loss}\")"
   ],
   "metadata": {
    "collapsed": false,
    "ExecuteTime": {
     "end_time": "2023-07-06T17:17:50.941595500Z",
     "start_time": "2023-07-06T17:17:50.691138300Z"
    }
   }
  },
  {
   "cell_type": "code",
   "execution_count": 1046,
   "outputs": [
    {
     "data": {
      "text/plain": "OrderedDict([('linear_layer.weight', tensor([[0.6968]])),\n             ('linear_layer.bias', tensor([0.3025]))])"
     },
     "execution_count": 1046,
     "metadata": {},
     "output_type": "execute_result"
    }
   ],
   "source": [
    "model_1.state_dict()"
   ],
   "metadata": {
    "collapsed": false,
    "ExecuteTime": {
     "end_time": "2023-07-06T17:17:50.949613600Z",
     "start_time": "2023-07-06T17:17:50.805140900Z"
    }
   }
  },
  {
   "cell_type": "code",
   "execution_count": 1047,
   "outputs": [
    {
     "data": {
      "text/plain": "(0.7, 0.3)"
     },
     "execution_count": 1047,
     "metadata": {},
     "output_type": "execute_result"
    }
   ],
   "source": [
    "weight, bias"
   ],
   "metadata": {
    "collapsed": false,
    "ExecuteTime": {
     "end_time": "2023-07-06T17:17:50.950625700Z",
     "start_time": "2023-07-06T17:17:50.817676200Z"
    }
   }
  },
  {
   "cell_type": "markdown",
   "source": [
    "### 6.4. Making and evaluating predictions"
   ],
   "metadata": {
    "collapsed": false
   }
  },
  {
   "cell_type": "code",
   "execution_count": 1048,
   "outputs": [
    {
     "data": {
      "text/plain": "tensor([[0.8600],\n        [0.8739],\n        [0.8878],\n        [0.9018],\n        [0.9157],\n        [0.9296],\n        [0.9436],\n        [0.9575],\n        [0.9714],\n        [0.9854]])"
     },
     "execution_count": 1048,
     "metadata": {},
     "output_type": "execute_result"
    }
   ],
   "source": [
    "# Turn model into evaluation mode\n",
    "model_1.eval()\n",
    "\n",
    "# Make predictions on the test data\n",
    "with torch.inference_mode():\n",
    "    y_preds = model_1(X_test)\n",
    "y_preds"
   ],
   "metadata": {
    "collapsed": false,
    "ExecuteTime": {
     "end_time": "2023-07-06T17:17:50.950625700Z",
     "start_time": "2023-07-06T17:17:50.827593600Z"
    }
   }
  },
  {
   "cell_type": "code",
   "execution_count": 1049,
   "outputs": [
    {
     "data": {
      "text/plain": "<Figure size 1000x700 with 1 Axes>",
      "image/png": "[encoded data removed]"
     },
     "metadata": {},
     "output_type": "display_data"
    }
   ],
   "source": [
    "# Check out our model predictions visually\n",
    "plot_predictions(predictions=y_preds.cpu())"
   ],
   "metadata": {
    "collapsed": false,
    "ExecuteTime": {
     "end_time": "2023-07-06T17:17:51.193731300Z",
     "start_time": "2023-07-06T17:17:50.841050100Z"
    }
   }
  },
  {
   "cell_type": "markdown",
   "source": [
    "### 6.5. Saving & loading a trained model"
   ],
   "metadata": {
    "collapsed": false
   }
  },
  {
   "cell_type": "code",
   "execution_count": 1050,
   "outputs": [
    {
     "name": "stdout",
     "output_type": "stream",
     "text": [
      "Saving model to: models\\01_pytorch_workflow_model_1.pth\n"
     ]
    }
   ],
   "source": [
    "from pathlib import Path\n",
    "\n",
    "# 1. Create models directory\n",
    "MODEL_PATH = Path(\"models\")\n",
    "MODEL_PATH.mkdir(parents=True, exist_ok=True)\n",
    "\n",
    "# 2. Create model save path\n",
    "MODEL_NAME = \"01_pytorch_workflow_model_1.pth\"\n",
    "MODEL_SAVE_PATH = MODEL_PATH / MODEL_NAME\n",
    "\n",
    "# 3. Save the model state dict\n",
    "print(f\"Saving model to: {MODEL_SAVE_PATH}\")\n",
    "torch.save(obj=model_1.state_dict(),\n",
    "           f=MODEL_SAVE_PATH)"
   ],
   "metadata": {
    "collapsed": false,
    "ExecuteTime": {
     "end_time": "2023-07-06T17:17:51.203218500Z",
     "start_time": "2023-07-06T17:17:51.194744300Z"
    }
   }
  },
  {
   "cell_type": "code",
   "execution_count": 1051,
   "outputs": [
    {
     "data": {
      "text/plain": "OrderedDict([('linear_layer.weight', tensor([[0.6968]])),\n             ('linear_layer.bias', tensor([0.3025]))])"
     },
     "execution_count": 1051,
     "metadata": {},
     "output_type": "execute_result"
    }
   ],
   "source": [
    "model_1.state_dict()"
   ],
   "metadata": {
    "collapsed": false,
    "ExecuteTime": {
     "end_time": "2023-07-06T17:17:51.215536900Z",
     "start_time": "2023-07-06T17:17:51.207221500Z"
    }
   }
  },
  {
   "cell_type": "code",
   "execution_count": 1052,
   "outputs": [
    {
     "data": {
      "text/plain": "LinearRegressionModelV2(\n  (linear_layer): Linear(in_features=1, out_features=1, bias=True)\n)"
     },
     "execution_count": 1052,
     "metadata": {},
     "output_type": "execute_result"
    }
   ],
   "source": [
    "# Load a PyTorch\n",
    "\n",
    "# Create a new instance of linear regression model V2\n",
    "loaded_model_1 = LinearRegressionModelV2()\n",
    "\n",
    "# Load the saved model_1 state_dict\n",
    "loaded_model_1.load_state_dict(torch.load(MODEL_SAVE_PATH))\n",
    "\n",
    "# Put the loaded model to device\n",
    "loaded_model_1.to(device)"
   ],
   "metadata": {
    "collapsed": false,
    "ExecuteTime": {
     "end_time": "2023-07-06T17:17:51.330326800Z",
     "start_time": "2023-07-06T17:17:51.217536500Z"
    }
   }
  },
  {
   "cell_type": "code",
   "execution_count": 1053,
   "outputs": [
    {
     "data": {
      "text/plain": "device(type='cpu')"
     },
     "execution_count": 1053,
     "metadata": {},
     "output_type": "execute_result"
    }
   ],
   "source": [
    "next(loaded_model_1.parameters()).device"
   ],
   "metadata": {
    "collapsed": false,
    "ExecuteTime": {
     "end_time": "2023-07-06T17:17:51.330326800Z",
     "start_time": "2023-07-06T17:17:51.229806300Z"
    }
   }
  },
  {
   "cell_type": "code",
   "execution_count": 1054,
   "outputs": [
    {
     "data": {
      "text/plain": "OrderedDict([('linear_layer.weight', tensor([[0.6968]])),\n             ('linear_layer.bias', tensor([0.3025]))])"
     },
     "execution_count": 1054,
     "metadata": {},
     "output_type": "execute_result"
    }
   ],
   "source": [
    "loaded_model_1.state_dict()"
   ],
   "metadata": {
    "collapsed": false,
    "ExecuteTime": {
     "end_time": "2023-07-06T17:17:51.332328200Z",
     "start_time": "2023-07-06T17:17:51.239770200Z"
    }
   }
  },
  {
   "cell_type": "code",
   "execution_count": 1055,
   "outputs": [
    {
     "data": {
      "text/plain": "tensor([[True],\n        [True],\n        [True],\n        [True],\n        [True],\n        [True],\n        [True],\n        [True],\n        [True],\n        [True]])"
     },
     "execution_count": 1055,
     "metadata": {},
     "output_type": "execute_result"
    }
   ],
   "source": [
    "# Evaluate loaded model\n",
    "loaded_model_1.eval()\n",
    "with torch.inference_mode():\n",
    "    loaded_model_1_preds = loaded_model_1(X_test)\n",
    "y_preds == loaded_model_1_preds"
   ],
   "metadata": {
    "collapsed": false,
    "ExecuteTime": {
     "end_time": "2023-07-06T17:17:51.332328200Z",
     "start_time": "2023-07-06T17:17:51.254215800Z"
    }
   }
  },
  {
   "cell_type": "markdown",
   "source": [
    "## Exercises & Extra-curriculum\n",
    "\n",
    "For exercises & extra-curriculum, refer to: https://www.learnpytorch.io/01_pytorch_workflow/#exercises"
   ],
   "metadata": {
    "collapsed": false
   }
  },
  {
   "cell_type": "code",
   "execution_count": 1056,
   "outputs": [],
   "source": [
    "# Import necessary libraries\n",
    "import torch\n",
    "from torch import nn\n",
    "import matplotlib.pyplot as plt"
   ],
   "metadata": {
    "collapsed": false,
    "ExecuteTime": {
     "end_time": "2023-07-06T17:17:51.332328200Z",
     "start_time": "2023-07-06T17:17:51.264711600Z"
    }
   }
  },
  {
   "cell_type": "code",
   "execution_count": 1057,
   "outputs": [
    {
     "name": "stdout",
     "output_type": "stream",
     "text": [
      "Using device: cpu\n"
     ]
    }
   ],
   "source": [
    "# Setup device-agnostic code\n",
    "device = \"cuda\" if torch.cuda.is_available() else \"cpu\"\n",
    "print(f\"Using device: {device}\")"
   ],
   "metadata": {
    "collapsed": false,
    "ExecuteTime": {
     "end_time": "2023-07-06T17:17:51.333330900Z",
     "start_time": "2023-07-06T17:17:51.273055Z"
    }
   }
  },
  {
   "cell_type": "markdown",
   "source": [
    "### 1. Create a straight line dataset using the linear regression formula (`weight * X + bias`).\n",
    "\n",
    "* Set `weight=0.3` and `bias=0.9` there should be at least 100 datapoints total.\n",
    "* Split the data into 80% training, 20% testing.\n",
    "* Plot the training and testing data so it becomes visual.\n",
    "\n",
    "Your output of the below cell should look something like:\n",
    "\n",
    "```\n",
    "Number of X samples: 100\n",
    "Number of y samples: 100\n",
    "First 10 X & y samples:\n",
    "X: tensor([0.0000, 0.0100, 0.0200, 0.0300, 0.0400, 0.0500, 0.0600, 0.0700, 0.0800, 0.0900])\n",
    "y: tensor([0.9000, 0.9030, 0.9060, 0.9090, 0.9120, 0.9150, 0.9180, 0.9210, 0.9240, 0.9270])\n",
    "```\n",
    "\n",
    "Of course the numbers in `X` and `y` may be different but ideally they're created using the linear regression formula.\n"
   ],
   "metadata": {
    "collapsed": false
   }
  },
  {
   "cell_type": "code",
   "execution_count": 1058,
   "outputs": [
    {
     "name": "stdout",
     "output_type": "stream",
     "text": [
      "Number of X samples: 100\n",
      "Number of y samples: 100\n",
      "First 10 X & y samples:\n",
      "X: tensor([[0.0000],\n",
      "        [0.0100],\n",
      "        [0.0200],\n",
      "        [0.0300],\n",
      "        [0.0400],\n",
      "        [0.0500],\n",
      "        [0.0600],\n",
      "        [0.0700],\n",
      "        [0.0800],\n",
      "        [0.0900]])\n",
      "y: tensor([[0.9000],\n",
      "        [0.9030],\n",
      "        [0.9060],\n",
      "        [0.9090],\n",
      "        [0.9120],\n",
      "        [0.9150],\n",
      "        [0.9180],\n",
      "        [0.9210],\n",
      "        [0.9240],\n",
      "        [0.9270]])\n"
     ]
    }
   ],
   "source": [
    "# Create the data parameters\n",
    "weight = 0.3\n",
    "bias = 0.9\n",
    "\n",
    "start = 0\n",
    "end = 1\n",
    "step = 0.01\n",
    "\n",
    "# Make X and y using linear regression feature\n",
    "X = torch.arange(start, end, step).unsqueeze(dim=1)\n",
    "y = weight * X + bias\n",
    "\n",
    "print(f\"Number of X samples: {len(X)}\")\n",
    "print(f\"Number of y samples: {len(y)}\")\n",
    "print(f\"First 10 X & y samples:\\nX: {X[:10]}\\ny: {y[:10]}\")"
   ],
   "metadata": {
    "collapsed": false,
    "ExecuteTime": {
     "end_time": "2023-07-06T17:17:51.333330900Z",
     "start_time": "2023-07-06T17:17:51.286487900Z"
    }
   }
  },
  {
   "cell_type": "code",
   "execution_count": 1059,
   "outputs": [
    {
     "data": {
      "text/plain": "(80, 80, 20, 20)"
     },
     "execution_count": 1059,
     "metadata": {},
     "output_type": "execute_result"
    }
   ],
   "source": [
    "# Split the data into training and testing\n",
    "train_split = int(0.8 * len(X))\n",
    "X_train, y_train = X[:train_split], y[:train_split]\n",
    "X_test, y_test = X[train_split:], y[train_split:]\n",
    "len(X_train), len(y_train), len(X_test), len(y_test)"
   ],
   "metadata": {
    "collapsed": false,
    "ExecuteTime": {
     "end_time": "2023-07-06T17:17:51.333330900Z",
     "start_time": "2023-07-06T17:17:51.299108500Z"
    }
   }
  },
  {
   "cell_type": "code",
   "execution_count": 1060,
   "outputs": [
    {
     "data": {
      "text/plain": "<Figure size 1000x700 with 1 Axes>",
      "image/png": "[encoded data removed]"
     },
     "metadata": {},
     "output_type": "display_data"
    }
   ],
   "source": [
    "# Plot the training and testing data\n",
    "def plot_predictions(train_data = X_train,\n",
    "                     train_labels = y_train,\n",
    "                     test_data = X_test,\n",
    "                     test_labels = y_test,\n",
    "                     predictions = None):\n",
    "    plt.figure(figsize = (10,7))\n",
    "    plt.scatter(train_data,train_labels,c = 'b',s = 4,label = \"Training data\")\n",
    "    plt.scatter(test_data,test_labels,c = 'g',s = 4,label = \"Test data\")\n",
    "\n",
    "    if predictions is not None:\n",
    "        plt.scatter(test_data,predictions,c = 'r',s = 4,label = \"Predictions\")\n",
    "\n",
    "    plt.legend(prop = {\"size\" : 14})\n",
    "\n",
    "plot_predictions(X_train, y_train, X_test, y_test)"
   ],
   "metadata": {
    "collapsed": false,
    "ExecuteTime": {
     "end_time": "2023-07-06T17:17:51.629553700Z",
     "start_time": "2023-07-06T17:17:51.311334900Z"
    }
   }
  },
  {
   "cell_type": "markdown",
   "source": [
    "### 2. Build a PyTorch model by subclassing `nn.Module`.\n",
    "\n",
    "* Inside should be a randomly initialized `nn.Parameter()` with `requires_grad=True`, one for `weights` and one for `bias`.\n",
    "* Implement the `forward()` method to compute the linear regression function you used to create the dataset in 1.\n",
    "* Once you've constructed the model, make an instance of it and check its `state_dict()`.\n",
    "* **Note:** If you'd like to use `nn.Linear()` instead of `nn.Parameter()` you can."
   ],
   "metadata": {
    "collapsed": false
   }
  },
  {
   "cell_type": "code",
   "execution_count": 1061,
   "outputs": [
    {
     "data": {
      "text/plain": "(LinearRegressionModelV3(\n   (linear_layer): Linear(in_features=1, out_features=1, bias=True)\n ),\n OrderedDict([('linear_layer.weight', tensor([[0.7645]])),\n              ('linear_layer.bias', tensor([0.8300]))]))"
     },
     "execution_count": 1061,
     "metadata": {},
     "output_type": "execute_result"
    }
   ],
   "source": [
    "# Create PyTorch linear regression model by subclassing nn.Module\n",
    "class LinearRegressionModelV3(nn.Module):\n",
    "    def __init__(self):\n",
    "        super().__init__()\n",
    "        self.linear_layer = nn.Linear(in_features=1,\n",
    "                                      out_features=1)\n",
    "\n",
    "    def forward(self, x: torch.Tensor) -> torch.Tensor:\n",
    "        return self.linear_layer(x)\n",
    "\n",
    "torch.manual_seed(42)\n",
    "model_2 = LinearRegressionModelV3()\n",
    "model_2,model_2.state_dict()"
   ],
   "metadata": {
    "collapsed": false,
    "ExecuteTime": {
     "end_time": "2023-07-06T17:17:51.782459300Z",
     "start_time": "2023-07-06T17:17:51.630564400Z"
    }
   }
  },
  {
   "cell_type": "code",
   "execution_count": 1062,
   "outputs": [
    {
     "data": {
      "text/plain": "[Parameter containing:\n tensor([[0.6968]], requires_grad=True),\n Parameter containing:\n tensor([0.3025], requires_grad=True)]"
     },
     "execution_count": 1062,
     "metadata": {},
     "output_type": "execute_result"
    }
   ],
   "source": [
    "# Instantiate the model and put it to the target device\n",
    "next(model_2.parameters()).device\n",
    "\n",
    "model_1.to(device)\n",
    "list(model_1.parameters())"
   ],
   "metadata": {
    "collapsed": false,
    "ExecuteTime": {
     "end_time": "2023-07-06T17:17:51.824405500Z",
     "start_time": "2023-07-06T17:17:51.647765600Z"
    }
   }
  },
  {
   "cell_type": "markdown",
   "source": [
    "### 3. Create a loss function and optimizer using `nn.L1Loss()` and `torch.optim.SGD(params, lr)` respectively.\n",
    "\n",
    "* Set the learning rate of the optimizer to be 0.01 and the parameters to optimize should be the model parameters from the model you created in 2.\n",
    "* Write a training loop to perform the appropriate training steps for 300 epochs.\n",
    "* The training loop should test the model on the test dataset every 20 epochs."
   ],
   "metadata": {
    "collapsed": false
   }
  },
  {
   "cell_type": "code",
   "execution_count": 1063,
   "outputs": [],
   "source": [
    "# Create the loss function and optimizer\n",
    "loss_fn = nn.L1Loss()\n",
    "optimizer = torch.optim.SGD(params=model_2.parameters(),\n",
    "                            lr=0.01)"
   ],
   "metadata": {
    "collapsed": false,
    "ExecuteTime": {
     "end_time": "2023-07-06T17:17:51.824405500Z",
     "start_time": "2023-07-06T17:17:51.659998300Z"
    }
   }
  },
  {
   "cell_type": "code",
   "execution_count": 1064,
   "outputs": [
    {
     "name": "stdout",
     "output_type": "stream",
     "text": [
      "Epoch: 0 | Train loss: 0.128 | Test loss: 0.337\n",
      "Epoch: 20 | Train loss: 0.082 | Test loss: 0.218\n",
      "Epoch: 40 | Train loss: 0.072 | Test loss: 0.175\n",
      "Epoch: 60 | Train loss: 0.065 | Test loss: 0.153\n",
      "Epoch: 80 | Train loss: 0.058 | Test loss: 0.137\n",
      "Epoch: 100 | Train loss: 0.051 | Test loss: 0.121\n",
      "Epoch: 120 | Train loss: 0.045 | Test loss: 0.104\n",
      "Epoch: 140 | Train loss: 0.038 | Test loss: 0.088\n",
      "Epoch: 160 | Train loss: 0.031 | Test loss: 0.072\n",
      "Epoch: 180 | Train loss: 0.024 | Test loss: 0.056\n",
      "Epoch: 200 | Train loss: 0.017 | Test loss: 0.040\n",
      "Epoch: 220 | Train loss: 0.010 | Test loss: 0.024\n",
      "Epoch: 240 | Train loss: 0.003 | Test loss: 0.007\n",
      "Epoch: 260 | Train loss: 0.008 | Test loss: 0.007\n",
      "Epoch: 280 | Train loss: 0.008 | Test loss: 0.007\n"
     ]
    }
   ],
   "source": [
    "# Training loop\n",
    "# Train model for 300 epochs\n",
    "torch.manual_seed(42)\n",
    "epochs = 300\n",
    "\n",
    "# Send data to target device\n",
    "X_train = X_train.to(device)\n",
    "y_train = y_train.to(device)\n",
    "X_test = X_test.to(device)\n",
    "y_test = y_test.to(device)\n",
    "\n",
    "for epoch in range(epochs):\n",
    "    ### Training\n",
    "    # Put model in train mode\n",
    "    model_2.train()\n",
    "\n",
    "    # 1. Forward pass\n",
    "    y_pred = model_2(X_train)\n",
    "\n",
    "    # 2. Calculate loss\n",
    "    loss = loss_fn(y_pred, y_train)\n",
    "\n",
    "    # 3. Zero gradients\n",
    "    optimizer.zero_grad()\n",
    "\n",
    "    # 4. Backpropagation\n",
    "    loss.backward()\n",
    "\n",
    "    # 5. Step the optimizer\n",
    "    optimizer.step()\n",
    "\n",
    "    ### Perform testing every 20 epochs\n",
    "    if epoch % 20 == 0:\n",
    "        # Put model in evaluation mode and setup inference context\n",
    "        model_2.eval()\n",
    "        with torch.inference_mode():\n",
    "            # 1. Forward pass\n",
    "            test_pred = model_2(X_test)\n",
    "\n",
    "            # 2. Calculate test loss\n",
    "            test_loss = loss_fn(test_pred, y_test)\n",
    "\n",
    "            # Print out what's happening\n",
    "            print(f\"Epoch: {epoch} | Train loss: {loss:.3f} | Test loss: {test_loss:.3f}\")"
   ],
   "metadata": {
    "collapsed": false,
    "ExecuteTime": {
     "end_time": "2023-07-06T17:17:51.928326Z",
     "start_time": "2023-07-06T17:17:51.675904800Z"
    }
   }
  },
  {
   "cell_type": "markdown",
   "source": [
    "### 4. Make predictions with the trained model on the test data.\n",
    "\n",
    "* Visualize these predictions against the original training and testing data (**note:** you may need to make sure the predictions are not on the GPU if you want to use non-CUDA-enabled libraries such as matplotlib to plot)."
   ],
   "metadata": {
    "collapsed": false
   }
  },
  {
   "cell_type": "code",
   "execution_count": 1065,
   "outputs": [
    {
     "data": {
      "text/plain": "tensor([[1.1333],\n        [1.1363],\n        [1.1393],\n        [1.1423],\n        [1.1454],\n        [1.1484],\n        [1.1514],\n        [1.1545],\n        [1.1575],\n        [1.1605],\n        [1.1635],\n        [1.1666],\n        [1.1696],\n        [1.1726],\n        [1.1757],\n        [1.1787],\n        [1.1817],\n        [1.1847],\n        [1.1878],\n        [1.1908]])"
     },
     "execution_count": 1065,
     "metadata": {},
     "output_type": "execute_result"
    }
   ],
   "source": [
    "# Make predictions with the model\n",
    "model_2.eval()\n",
    "\n",
    "with torch.inference_mode():\n",
    "    y_preds = model_2(X_test)\n",
    "y_preds"
   ],
   "metadata": {
    "collapsed": false,
    "ExecuteTime": {
     "end_time": "2023-07-06T17:17:51.929318Z",
     "start_time": "2023-07-06T17:17:51.817162500Z"
    }
   }
  },
  {
   "cell_type": "code",
   "execution_count": 1066,
   "outputs": [
    {
     "data": {
      "text/plain": "<Figure size 1000x700 with 1 Axes>",
      "image/png": "[encoded data removed]"
     },
     "metadata": {},
     "output_type": "display_data"
    }
   ],
   "source": [
    "# Plot the predictions (these may need to be on a specific device)\n",
    "plot_predictions(predictions=y_preds.cpu())"
   ],
   "metadata": {
    "collapsed": false,
    "ExecuteTime": {
     "end_time": "2023-07-06T17:17:52.209299500Z",
     "start_time": "2023-07-06T17:17:51.845939Z"
    }
   }
  },
  {
   "cell_type": "markdown",
   "source": [
    "### 5. Save your trained model's `state_dict()` to file.\n",
    "\n",
    "* Create a new instance of your model class you made in 2. and load in the `state_dict()` you just saved to it.\n",
    "* Perform predictions on your test data with the loaded model and confirm they match the original model predictions from 4.\n",
    "\n"
   ],
   "metadata": {
    "collapsed": false
   }
  },
  {
   "cell_type": "code",
   "execution_count": 1067,
   "outputs": [
    {
     "name": "stdout",
     "output_type": "stream",
     "text": [
      "Saving model to: models\\01_pytorch_workflow_model_2.pth\n"
     ]
    }
   ],
   "source": [
    "from pathlib import Path\n",
    "\n",
    "# 1. Create models directory\n",
    "MODEL_PATH = Path(\"models\")\n",
    "MODEL_PATH.mkdir(parents=True, exist_ok=True)\n",
    "\n",
    "# 2. Create model save path\n",
    "MODEL_NAME = \"01_pytorch_workflow_model_2.pth\"\n",
    "MODEL_SAVE_PATH = MODEL_PATH / MODEL_NAME\n",
    "\n",
    "# 3. Save the model state dict\n",
    "print(f\"Saving model to: {MODEL_SAVE_PATH}\")\n",
    "torch.save(obj=model_2.state_dict(),\n",
    "           f=MODEL_SAVE_PATH)"
   ],
   "metadata": {
    "collapsed": false,
    "ExecuteTime": {
     "end_time": "2023-07-06T17:17:52.219130800Z",
     "start_time": "2023-07-06T17:17:52.208303300Z"
    }
   }
  },
  {
   "cell_type": "code",
   "execution_count": 1068,
   "outputs": [
    {
     "data": {
      "text/plain": "LinearRegressionModelV3(\n  (linear_layer): Linear(in_features=1, out_features=1, bias=True)\n)"
     },
     "execution_count": 1068,
     "metadata": {},
     "output_type": "execute_result"
    }
   ],
   "source": [
    "# Create new instance of model and load saved state dict (make sure to put it on the target device)\n",
    "loaded_model_2 = LinearRegressionModelV3()\n",
    "loaded_model_2.load_state_dict(torch.load(MODEL_SAVE_PATH))\n",
    "loaded_model_2.to(device)"
   ],
   "metadata": {
    "collapsed": false,
    "ExecuteTime": {
     "end_time": "2023-07-06T17:17:52.341210300Z",
     "start_time": "2023-07-06T17:17:52.231127300Z"
    }
   }
  },
  {
   "cell_type": "code",
   "execution_count": 1069,
   "outputs": [
    {
     "data": {
      "text/plain": "tensor([[True],\n        [True],\n        [True],\n        [True],\n        [True],\n        [True],\n        [True],\n        [True],\n        [True],\n        [True],\n        [True],\n        [True],\n        [True],\n        [True],\n        [True],\n        [True],\n        [True],\n        [True],\n        [True],\n        [True]])"
     },
     "execution_count": 1069,
     "metadata": {},
     "output_type": "execute_result"
    }
   ],
   "source": [
    "# Make predictions with loaded model and compare them to the previous\n",
    "loaded_model_2.eval()\n",
    "with torch.inference_mode():\n",
    "    loaded_model_2_preds = loaded_model_2(X_test)\n",
    "y_preds == loaded_model_2_preds"
   ],
   "metadata": {
    "collapsed": false,
    "ExecuteTime": {
     "end_time": "2023-07-06T17:17:52.342215700Z",
     "start_time": "2023-07-06T17:17:52.242293900Z"
    }
   }
  },
  {
   "cell_type": "code",
   "execution_count": 1069,
   "outputs": [],
   "source": [],
   "metadata": {
    "collapsed": false,
    "ExecuteTime": {
     "end_time": "2023-07-06T17:17:52.342215700Z",
     "start_time": "2023-07-06T17:17:52.254765Z"
    }
   }
  }
 ],
 "metadata": {
  "kernelspec": {
   "display_name": "Python 3",
   "language": "python",
   "name": "python3"
  },
  "language_info": {
   "codemirror_mode": {
    "name": "ipython",
    "version": 2
   },
   "file_extension": ".py",
   "mimetype": "text/x-python",
   "name": "python",
   "nbconvert_exporter": "python",
   "pygments_lexer": "ipython2",
   "version": "2.7.6"
  }
 },
 "nbformat": 4,
 "nbformat_minor": 0
}
