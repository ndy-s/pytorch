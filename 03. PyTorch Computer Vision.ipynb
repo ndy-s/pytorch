{
 "cells": [
  {
   "cell_type": "markdown",
   "source": [
    "# \"What is a computer vision problem?\"\n",
    "\n",
    "## Example of Computer Vision Problem\n",
    "<img src=\"./assets/example_cv_prob.png\">\n",
    "\n",
    "<br>\n",
    "\n",
    "## Tesla Computer Vision\n",
    "<img src=\"./assets/tesla_cv.png\">\n",
    "<br>\n",
    "<img src=\"./assets/tesla_cv_2.png\">"
   ],
   "metadata": {
    "collapsed": false
   },
   "id": "7b90d9c849944981"
  },
  {
   "cell_type": "markdown",
   "source": [
    "## What we're going to cover (broadly)\n",
    "* Getting a vision dataset to work with using `torchvision.datasets`\n",
    "* Architecture of a **convolutional neural network** (CNN) with PyTorch\n",
    "* An end-to-end multi-class image classification problem\n",
    "* Steps in modeling with **CNNs in PyTorch**\n",
    "    * Creating a CNN model with PyTorch\n",
    "    * Picking a loss and optimizer\n",
    "    * Training a PyTorch computer vision model\n",
    "    * Evaluation a model"
   ],
   "metadata": {
    "collapsed": false
   },
   "id": "d5a58f42a2d0b9ce"
  },
  {
   "cell_type": "markdown",
   "source": [
    "## Computer vision inputs and outputs\n",
    "<img src=\"./assets/cv_in_out.png\">\n",
    "<br>\n",
    "<img src=\"./assets/cv_in_out_2.png\">\n",
    "<br>\n",
    "<img src=\"./assets/cv_in_out_3.png\">"
   ],
   "metadata": {
    "collapsed": false
   },
   "id": "e068d9aabc61d7cb"
  },
  {
   "cell_type": "markdown",
   "source": [
    "## PyTorch Computer Vision Workflow\n",
    "<img src=\"./assets/cv_work.png\">"
   ],
   "metadata": {
    "collapsed": false
   },
   "id": "b95ecf4e073906c5"
  },
  {
   "cell_type": "markdown",
   "source": [
    "## \"What is a convolutional neural network (CNN)?\"\n",
    "<img src=\"./assets/cnn_arch.png\">"
   ],
   "metadata": {
    "collapsed": false
   },
   "id": "7874ec688221bff8"
  },
  {
   "cell_type": "markdown",
   "source": [
    "# PyTorch Computer Vision\n",
    "\n",
    "* See reference notebook - https://github.com/mrdbourke/pytorch-deep-learning/blob/main/03_pytorch_computer_vision.ipynb\n",
    "* See reference online book - https://www.learnpytorch.io/03_pytorch_computer_vision/"
   ],
   "metadata": {
    "collapsed": false
   },
   "id": "f5c871db488ba75f"
  },
  {
   "cell_type": "markdown",
   "source": [
    "## 0. Computer vision libraries in PyTorch\n",
    "\n",
    "* [`torchvision`](https://www.learnpytorch.io/03_pytorch_computer_vision/) - base domain library for PyTorch computer vision\n",
    "* `torchvision.datasets` - get datasets and data loading functions for computer vision here\n",
    "* `torchvision.models` - get pretrained computer vision models that you can leverage for your own problems\n",
    "* `torchvision.transforms` - functions for manipulation your vision data (images) to be suitable for use with an ML model\n",
    "* `torch.utils.data.Dataset` - Base dataset class for PyTorch\n",
    "* `torch.utils.data.DataLoader` - Creates a Python iterable over a dataset"
   ],
   "metadata": {
    "collapsed": false
   },
   "id": "ccea9f4405ce08ac"
  },
  {
   "cell_type": "code",
   "execution_count": 170,
   "outputs": [
    {
     "name": "stdout",
     "output_type": "stream",
     "text": [
      "2.0.1+cpu\n",
      "0.15.2+cpu\n"
     ]
    }
   ],
   "source": [
    "# Import PyTorch\n",
    "import torch\n",
    "from torch import nn\n",
    "\n",
    "# Import torchvision\n",
    "import torchvision\n",
    "from torchvision import datasets\n",
    "from torchvision import transforms\n",
    "from torchvision.transforms import ToTensor\n",
    "\n",
    "# Import matplotlib for visualization\n",
    "import matplotlib.pyplot as plt\n",
    "\n",
    "# Check versions\n",
    "print(torch.__version__)\n",
    "print(torchvision.__version__)"
   ],
   "metadata": {
    "collapsed": false,
    "ExecuteTime": {
     "end_time": "2023-08-21T14:07:23.512596100Z",
     "start_time": "2023-08-21T14:07:21.139743500Z"
    }
   },
   "id": "31bab80063c7d6b1"
  },
  {
   "cell_type": "markdown",
   "source": [
    "## 1. Getting a dataset\n",
    "\n",
    "The dataset we'll be using FashionMNIST from `torchvision.datasets` - https://pytorch.org/vision/stable/generated/torchvision.datasets.FashionMNIST.html#torchvision.datasets.FashionMNIST."
   ],
   "metadata": {
    "collapsed": false
   },
   "id": "1bde5242d7dd0af3"
  },
  {
   "cell_type": "code",
   "execution_count": 171,
   "outputs": [],
   "source": [
    "# Setup training data\n",
    "from torchvision import datasets\n",
    "train_data = datasets.FashionMNIST(\n",
    "    root=\"data\", # where to download data to?\n",
    "    train=True, # do we want the training dataset?\n",
    "    download=True, # do you want to download yes/no?\n",
    "    transform=torchvision.transforms.ToTensor(), # how do we want to tranform the data?\n",
    "    target_transform=None # how do we want to transform the labels/targets?\n",
    ")\n",
    "\n",
    "test_data = datasets.FashionMNIST(\n",
    "    root=\"data\",\n",
    "    train=False,\n",
    "    download=True,\n",
    "    transform=ToTensor(),\n",
    "    target_transform=None\n",
    ")"
   ],
   "metadata": {
    "collapsed": false,
    "ExecuteTime": {
     "end_time": "2023-08-21T14:07:24.475125300Z",
     "start_time": "2023-08-21T14:07:21.177001100Z"
    }
   },
   "id": "340dae892f4e7b4e"
  },
  {
   "cell_type": "code",
   "execution_count": 172,
   "outputs": [
    {
     "data": {
      "text/plain": "(60000, 10000)"
     },
     "execution_count": 172,
     "metadata": {},
     "output_type": "execute_result"
    }
   ],
   "source": [
    "len(train_data), len(test_data)"
   ],
   "metadata": {
    "collapsed": false,
    "ExecuteTime": {
     "end_time": "2023-08-21T14:07:24.526579200Z",
     "start_time": "2023-08-21T14:07:21.421519700Z"
    }
   },
   "id": "effb669c65fbcf31"
  },
  {
   "cell_type": "code",
   "execution_count": 173,
   "outputs": [
    {
     "data": {
      "text/plain": "(tensor([[[0.0000, 0.0000, 0.0000, 0.0000, 0.0000, 0.0000, 0.0000, 0.0000,\n           0.0000, 0.0000, 0.0000, 0.0000, 0.0000, 0.0000, 0.0000, 0.0000,\n           0.0000, 0.0000, 0.0000, 0.0000, 0.0000, 0.0000, 0.0000, 0.0000,\n           0.0000, 0.0000, 0.0000, 0.0000],\n          [0.0000, 0.0000, 0.0000, 0.0000, 0.0000, 0.0000, 0.0000, 0.0000,\n           0.0000, 0.0000, 0.0000, 0.0000, 0.0000, 0.0000, 0.0000, 0.0000,\n           0.0000, 0.0000, 0.0000, 0.0000, 0.0000, 0.0000, 0.0000, 0.0000,\n           0.0000, 0.0000, 0.0000, 0.0000],\n          [0.0000, 0.0000, 0.0000, 0.0000, 0.0000, 0.0000, 0.0000, 0.0000,\n           0.0000, 0.0000, 0.0000, 0.0000, 0.0000, 0.0000, 0.0000, 0.0000,\n           0.0000, 0.0000, 0.0000, 0.0000, 0.0000, 0.0000, 0.0000, 0.0000,\n           0.0000, 0.0000, 0.0000, 0.0000],\n          [0.0000, 0.0000, 0.0000, 0.0000, 0.0000, 0.0000, 0.0000, 0.0000,\n           0.0000, 0.0000, 0.0000, 0.0000, 0.0039, 0.0000, 0.0000, 0.0510,\n           0.2863, 0.0000, 0.0000, 0.0039, 0.0157, 0.0000, 0.0000, 0.0000,\n           0.0000, 0.0039, 0.0039, 0.0000],\n          [0.0000, 0.0000, 0.0000, 0.0000, 0.0000, 0.0000, 0.0000, 0.0000,\n           0.0000, 0.0000, 0.0000, 0.0000, 0.0118, 0.0000, 0.1412, 0.5333,\n           0.4980, 0.2431, 0.2118, 0.0000, 0.0000, 0.0000, 0.0039, 0.0118,\n           0.0157, 0.0000, 0.0000, 0.0118],\n          [0.0000, 0.0000, 0.0000, 0.0000, 0.0000, 0.0000, 0.0000, 0.0000,\n           0.0000, 0.0000, 0.0000, 0.0000, 0.0235, 0.0000, 0.4000, 0.8000,\n           0.6902, 0.5255, 0.5647, 0.4824, 0.0902, 0.0000, 0.0000, 0.0000,\n           0.0000, 0.0471, 0.0392, 0.0000],\n          [0.0000, 0.0000, 0.0000, 0.0000, 0.0000, 0.0000, 0.0000, 0.0000,\n           0.0000, 0.0000, 0.0000, 0.0000, 0.0000, 0.0000, 0.6078, 0.9255,\n           0.8118, 0.6980, 0.4196, 0.6118, 0.6314, 0.4275, 0.2510, 0.0902,\n           0.3020, 0.5098, 0.2824, 0.0588],\n          [0.0000, 0.0000, 0.0000, 0.0000, 0.0000, 0.0000, 0.0000, 0.0000,\n           0.0000, 0.0000, 0.0000, 0.0039, 0.0000, 0.2706, 0.8118, 0.8745,\n           0.8549, 0.8471, 0.8471, 0.6392, 0.4980, 0.4745, 0.4784, 0.5725,\n           0.5529, 0.3451, 0.6745, 0.2588],\n          [0.0000, 0.0000, 0.0000, 0.0000, 0.0000, 0.0000, 0.0000, 0.0000,\n           0.0000, 0.0039, 0.0039, 0.0039, 0.0000, 0.7843, 0.9098, 0.9098,\n           0.9137, 0.8980, 0.8745, 0.8745, 0.8431, 0.8353, 0.6431, 0.4980,\n           0.4824, 0.7686, 0.8980, 0.0000],\n          [0.0000, 0.0000, 0.0000, 0.0000, 0.0000, 0.0000, 0.0000, 0.0000,\n           0.0000, 0.0000, 0.0000, 0.0000, 0.0000, 0.7176, 0.8824, 0.8471,\n           0.8745, 0.8941, 0.9216, 0.8902, 0.8784, 0.8706, 0.8784, 0.8667,\n           0.8745, 0.9608, 0.6784, 0.0000],\n          [0.0000, 0.0000, 0.0000, 0.0000, 0.0000, 0.0000, 0.0000, 0.0000,\n           0.0000, 0.0000, 0.0000, 0.0000, 0.0000, 0.7569, 0.8941, 0.8549,\n           0.8353, 0.7765, 0.7059, 0.8314, 0.8235, 0.8275, 0.8353, 0.8745,\n           0.8627, 0.9529, 0.7922, 0.0000],\n          [0.0000, 0.0000, 0.0000, 0.0000, 0.0000, 0.0000, 0.0000, 0.0000,\n           0.0000, 0.0039, 0.0118, 0.0000, 0.0471, 0.8588, 0.8627, 0.8314,\n           0.8549, 0.7529, 0.6627, 0.8902, 0.8157, 0.8549, 0.8784, 0.8314,\n           0.8863, 0.7725, 0.8196, 0.2039],\n          [0.0000, 0.0000, 0.0000, 0.0000, 0.0000, 0.0000, 0.0000, 0.0000,\n           0.0000, 0.0000, 0.0235, 0.0000, 0.3882, 0.9569, 0.8706, 0.8627,\n           0.8549, 0.7961, 0.7765, 0.8667, 0.8431, 0.8353, 0.8706, 0.8627,\n           0.9608, 0.4667, 0.6549, 0.2196],\n          [0.0000, 0.0000, 0.0000, 0.0000, 0.0000, 0.0000, 0.0000, 0.0000,\n           0.0000, 0.0157, 0.0000, 0.0000, 0.2157, 0.9255, 0.8941, 0.9020,\n           0.8941, 0.9412, 0.9098, 0.8353, 0.8549, 0.8745, 0.9176, 0.8510,\n           0.8510, 0.8196, 0.3608, 0.0000],\n          [0.0000, 0.0000, 0.0039, 0.0157, 0.0235, 0.0275, 0.0078, 0.0000,\n           0.0000, 0.0000, 0.0000, 0.0000, 0.9294, 0.8863, 0.8510, 0.8745,\n           0.8706, 0.8588, 0.8706, 0.8667, 0.8471, 0.8745, 0.8980, 0.8431,\n           0.8549, 1.0000, 0.3020, 0.0000],\n          [0.0000, 0.0118, 0.0000, 0.0000, 0.0000, 0.0000, 0.0000, 0.0000,\n           0.0000, 0.2431, 0.5686, 0.8000, 0.8941, 0.8118, 0.8353, 0.8667,\n           0.8549, 0.8157, 0.8275, 0.8549, 0.8784, 0.8745, 0.8588, 0.8431,\n           0.8784, 0.9569, 0.6235, 0.0000],\n          [0.0000, 0.0000, 0.0000, 0.0000, 0.0706, 0.1725, 0.3216, 0.4196,\n           0.7412, 0.8941, 0.8627, 0.8706, 0.8510, 0.8863, 0.7843, 0.8039,\n           0.8275, 0.9020, 0.8784, 0.9176, 0.6902, 0.7373, 0.9804, 0.9725,\n           0.9137, 0.9333, 0.8431, 0.0000],\n          [0.0000, 0.2235, 0.7333, 0.8157, 0.8784, 0.8667, 0.8784, 0.8157,\n           0.8000, 0.8392, 0.8157, 0.8196, 0.7843, 0.6235, 0.9608, 0.7569,\n           0.8078, 0.8745, 1.0000, 1.0000, 0.8667, 0.9176, 0.8667, 0.8275,\n           0.8627, 0.9098, 0.9647, 0.0000],\n          [0.0118, 0.7922, 0.8941, 0.8784, 0.8667, 0.8275, 0.8275, 0.8392,\n           0.8039, 0.8039, 0.8039, 0.8627, 0.9412, 0.3137, 0.5882, 1.0000,\n           0.8980, 0.8667, 0.7373, 0.6039, 0.7490, 0.8235, 0.8000, 0.8196,\n           0.8706, 0.8941, 0.8824, 0.0000],\n          [0.3843, 0.9137, 0.7765, 0.8235, 0.8706, 0.8980, 0.8980, 0.9176,\n           0.9765, 0.8627, 0.7608, 0.8431, 0.8510, 0.9451, 0.2549, 0.2863,\n           0.4157, 0.4588, 0.6588, 0.8588, 0.8667, 0.8431, 0.8510, 0.8745,\n           0.8745, 0.8784, 0.8980, 0.1137],\n          [0.2941, 0.8000, 0.8314, 0.8000, 0.7569, 0.8039, 0.8275, 0.8824,\n           0.8471, 0.7255, 0.7725, 0.8078, 0.7765, 0.8353, 0.9412, 0.7647,\n           0.8902, 0.9608, 0.9373, 0.8745, 0.8549, 0.8314, 0.8196, 0.8706,\n           0.8627, 0.8667, 0.9020, 0.2627],\n          [0.1882, 0.7961, 0.7176, 0.7608, 0.8353, 0.7725, 0.7255, 0.7451,\n           0.7608, 0.7529, 0.7922, 0.8392, 0.8588, 0.8667, 0.8627, 0.9255,\n           0.8824, 0.8471, 0.7804, 0.8078, 0.7294, 0.7098, 0.6941, 0.6745,\n           0.7098, 0.8039, 0.8078, 0.4510],\n          [0.0000, 0.4784, 0.8588, 0.7569, 0.7020, 0.6706, 0.7176, 0.7686,\n           0.8000, 0.8235, 0.8353, 0.8118, 0.8275, 0.8235, 0.7843, 0.7686,\n           0.7608, 0.7490, 0.7647, 0.7490, 0.7765, 0.7529, 0.6902, 0.6118,\n           0.6549, 0.6941, 0.8235, 0.3608],\n          [0.0000, 0.0000, 0.2902, 0.7412, 0.8314, 0.7490, 0.6863, 0.6745,\n           0.6863, 0.7098, 0.7255, 0.7373, 0.7412, 0.7373, 0.7569, 0.7765,\n           0.8000, 0.8196, 0.8235, 0.8235, 0.8275, 0.7373, 0.7373, 0.7608,\n           0.7529, 0.8471, 0.6667, 0.0000],\n          [0.0078, 0.0000, 0.0000, 0.0000, 0.2588, 0.7843, 0.8706, 0.9294,\n           0.9373, 0.9490, 0.9647, 0.9529, 0.9569, 0.8667, 0.8627, 0.7569,\n           0.7490, 0.7020, 0.7137, 0.7137, 0.7098, 0.6902, 0.6510, 0.6588,\n           0.3882, 0.2275, 0.0000, 0.0000],\n          [0.0000, 0.0000, 0.0000, 0.0000, 0.0000, 0.0000, 0.0000, 0.1569,\n           0.2392, 0.1725, 0.2824, 0.1608, 0.1373, 0.0000, 0.0000, 0.0000,\n           0.0000, 0.0000, 0.0000, 0.0000, 0.0000, 0.0000, 0.0000, 0.0000,\n           0.0000, 0.0000, 0.0000, 0.0000],\n          [0.0000, 0.0000, 0.0000, 0.0000, 0.0000, 0.0000, 0.0000, 0.0000,\n           0.0000, 0.0000, 0.0000, 0.0000, 0.0000, 0.0000, 0.0000, 0.0000,\n           0.0000, 0.0000, 0.0000, 0.0000, 0.0000, 0.0000, 0.0000, 0.0000,\n           0.0000, 0.0000, 0.0000, 0.0000],\n          [0.0000, 0.0000, 0.0000, 0.0000, 0.0000, 0.0000, 0.0000, 0.0000,\n           0.0000, 0.0000, 0.0000, 0.0000, 0.0000, 0.0000, 0.0000, 0.0000,\n           0.0000, 0.0000, 0.0000, 0.0000, 0.0000, 0.0000, 0.0000, 0.0000,\n           0.0000, 0.0000, 0.0000, 0.0000]]]),\n 9)"
     },
     "execution_count": 173,
     "metadata": {},
     "output_type": "execute_result"
    }
   ],
   "source": [
    "# See the first training example\n",
    "image, label = train_data[0]\n",
    "image, label"
   ],
   "metadata": {
    "collapsed": false,
    "ExecuteTime": {
     "end_time": "2023-08-21T14:07:24.716688300Z",
     "start_time": "2023-08-21T14:07:21.456576700Z"
    }
   },
   "id": "e86bea99dde5ac0b"
  },
  {
   "cell_type": "code",
   "execution_count": 174,
   "outputs": [
    {
     "data": {
      "text/plain": "['T-shirt/top',\n 'Trouser',\n 'Pullover',\n 'Dress',\n 'Coat',\n 'Sandal',\n 'Shirt',\n 'Sneaker',\n 'Bag',\n 'Ankle boot']"
     },
     "execution_count": 174,
     "metadata": {},
     "output_type": "execute_result"
    }
   ],
   "source": [
    "class_names = train_data.classes\n",
    "class_names"
   ],
   "metadata": {
    "collapsed": false,
    "ExecuteTime": {
     "end_time": "2023-08-21T14:07:24.717695700Z",
     "start_time": "2023-08-21T14:07:21.520828400Z"
    }
   },
   "id": "1b2286ea23a8a27c"
  },
  {
   "cell_type": "code",
   "execution_count": 175,
   "outputs": [
    {
     "data": {
      "text/plain": "{'T-shirt/top': 0,\n 'Trouser': 1,\n 'Pullover': 2,\n 'Dress': 3,\n 'Coat': 4,\n 'Sandal': 5,\n 'Shirt': 6,\n 'Sneaker': 7,\n 'Bag': 8,\n 'Ankle boot': 9}"
     },
     "execution_count": 175,
     "metadata": {},
     "output_type": "execute_result"
    }
   ],
   "source": [
    "class_to_idx = train_data.class_to_idx\n",
    "class_to_idx"
   ],
   "metadata": {
    "collapsed": false,
    "ExecuteTime": {
     "end_time": "2023-08-21T14:07:24.741861300Z",
     "start_time": "2023-08-21T14:07:21.546499500Z"
    }
   },
   "id": "d91140af46f1ef47"
  },
  {
   "cell_type": "code",
   "execution_count": 176,
   "outputs": [
    {
     "data": {
      "text/plain": "tensor([9, 0, 0,  ..., 3, 0, 5])"
     },
     "execution_count": 176,
     "metadata": {},
     "output_type": "execute_result"
    }
   ],
   "source": [
    "train_data.targets"
   ],
   "metadata": {
    "collapsed": false,
    "ExecuteTime": {
     "end_time": "2023-08-21T14:07:24.850473600Z",
     "start_time": "2023-08-21T14:07:21.579478900Z"
    }
   },
   "id": "c9d81ae091406420"
  },
  {
   "cell_type": "markdown",
   "source": [
    "### 1.1 Check input and output shapes of data"
   ],
   "metadata": {
    "collapsed": false
   },
   "id": "b1cb12fadca12779"
  },
  {
   "cell_type": "code",
   "execution_count": 177,
   "outputs": [
    {
     "name": "stdout",
     "output_type": "stream",
     "text": [
      "Image shape: torch.Size([1, 28, 28]) -> [color_channels, height, width]\n",
      "Image label: Ankle boot\n"
     ]
    }
   ],
   "source": [
    "# Check the shape of our image\n",
    "print(f\"Image shape: {image.shape} -> [color_channels, height, width]\")\n",
    "print(f\"Image label: {class_names[label]}\")"
   ],
   "metadata": {
    "collapsed": false,
    "ExecuteTime": {
     "end_time": "2023-08-21T14:07:24.921864500Z",
     "start_time": "2023-08-21T14:07:21.606298Z"
    }
   },
   "id": "ba88d12c6148a9c3"
  },
  {
   "cell_type": "markdown",
   "source": [
    "## FashionMNIST Dataset\n",
    "\n",
    "<img src=\"./assets/fashionmnist.png\">"
   ],
   "metadata": {
    "collapsed": false
   },
   "id": "a73581b3ce90c6c8"
  },
  {
   "cell_type": "markdown",
   "source": [
    "### 1.2 Visualizing our data"
   ],
   "metadata": {
    "collapsed": false
   },
   "id": "dd158e24bf5636fb"
  },
  {
   "cell_type": "code",
   "execution_count": 178,
   "outputs": [
    {
     "name": "stdout",
     "output_type": "stream",
     "text": [
      "Image shape: torch.Size([1, 28, 28])\n"
     ]
    },
    {
     "data": {
      "text/plain": "Text(0.5, 1.0, '9')"
     },
     "execution_count": 178,
     "metadata": {},
     "output_type": "execute_result"
    },
    {
     "data": {
      "text/plain": "<Figure size 640x480 with 1 Axes>",
      "image/png": "[encoded data removed]"
     },
     "metadata": {},
     "output_type": "display_data"
    }
   ],
   "source": [
    "import matplotlib.pyplot as plt\n",
    "image, label = train_data[0]\n",
    "print(f\"Image shape: {image.shape}\")\n",
    "plt.imshow(image.squeeze())\n",
    "plt.title(label)\n",
    "# image"
   ],
   "metadata": {
    "collapsed": false,
    "ExecuteTime": {
     "end_time": "2023-08-21T14:07:25.403644700Z",
     "start_time": "2023-08-21T14:07:21.642509900Z"
    }
   },
   "id": "469c4ac2cb893ebe"
  },
  {
   "cell_type": "code",
   "execution_count": 179,
   "outputs": [
    {
     "data": {
      "text/plain": "(-0.5, 27.5, 27.5, -0.5)"
     },
     "execution_count": 179,
     "metadata": {},
     "output_type": "execute_result"
    },
    {
     "data": {
      "text/plain": "<Figure size 640x480 with 1 Axes>",
      "image/png": "[encoded data removed]"
     },
     "metadata": {},
     "output_type": "display_data"
    }
   ],
   "source": [
    "plt.imshow(image.squeeze(), cmap=\"gray\")\n",
    "plt.title(class_names[label])\n",
    "plt.axis(False)"
   ],
   "metadata": {
    "collapsed": false,
    "ExecuteTime": {
     "end_time": "2023-08-21T14:07:25.404656500Z",
     "start_time": "2023-08-21T14:07:22.805908400Z"
    }
   },
   "id": "a951cd2c014462e8"
  },
  {
   "cell_type": "code",
   "execution_count": 180,
   "outputs": [
    {
     "data": {
      "text/plain": "<Figure size 900x900 with 16 Axes>",
      "image/png": "[encoded data removed]"
     },
     "metadata": {},
     "output_type": "display_data"
    }
   ],
   "source": [
    "# Plot more images\n",
    "torch.manual_seed(42)\n",
    "fig = plt.figure(figsize=(9, 9))\n",
    "rows, cols = 4, 4\n",
    "for i in range(1, rows*cols+1):\n",
    "    random_idx = torch.randint(0, len(train_data), size=[1]).item()\n",
    "    img, label = train_data[random_idx]\n",
    "    fig.add_subplot(rows, cols, i)\n",
    "    plt.imshow(img.squeeze(), cmap='gray')\n",
    "    plt.title(class_names[label])\n",
    "    plt.axis(False)"
   ],
   "metadata": {
    "collapsed": false,
    "ExecuteTime": {
     "end_time": "2023-08-21T14:07:26.873855800Z",
     "start_time": "2023-08-21T14:07:23.042607Z"
    }
   },
   "id": "b6097859821fa154"
  },
  {
   "cell_type": "markdown",
   "source": [
    "Do you think these items of clothing (images) could be modelled with pure linear lines? Or do you think we'll need non-linearities?"
   ],
   "metadata": {
    "collapsed": false
   },
   "id": "2362dd010b552f09"
  },
  {
   "cell_type": "code",
   "execution_count": 181,
   "outputs": [
    {
     "data": {
      "text/plain": "(Dataset FashionMNIST\n     Number of datapoints: 60000\n     Root location: data\n     Split: Train\n     StandardTransform\n Transform: ToTensor(),\n Dataset FashionMNIST\n     Number of datapoints: 10000\n     Root location: data\n     Split: Test\n     StandardTransform\n Transform: ToTensor())"
     },
     "execution_count": 181,
     "metadata": {},
     "output_type": "execute_result"
    }
   ],
   "source": [
    "train_data, test_data"
   ],
   "metadata": {
    "collapsed": false,
    "ExecuteTime": {
     "end_time": "2023-08-21T14:07:26.902829200Z",
     "start_time": "2023-08-21T14:07:26.866446500Z"
    }
   },
   "id": "48435c396c1919df"
  },
  {
   "cell_type": "markdown",
   "source": [
    "## 2. Prepare DataLoader\n",
    "\n",
    "Right now, our data is in the form of PyTorch Datasets.\n",
    "\n",
    "DataLoader turns our dataset into a Python iterable.\n",
    "\n",
    "More specifically, we want to turn our data into batches (or mini-batches).\n",
    "\n",
    "Why would we do this?\n",
    "\n",
    "1. It is more computationally efficient, as in, your computing hardware may not be able to look (store in memory) at 6000 images in one hit. So we break it down to 32 images at a time (batch size of 32).\n",
    "2. It gives our neural network more chances to update its gradients per epoch.\n",
    "\n",
    "For more on mini-batches, see here: https://youtu.be/l4lSUAcvHFs\n",
    "\n",
    "<img src=\"./assets/f_batched.png\">"
   ],
   "metadata": {
    "collapsed": false
   },
   "id": "34180daf243872bb"
  },
  {
   "cell_type": "code",
   "execution_count": 182,
   "outputs": [
    {
     "data": {
      "text/plain": "(<torch.utils.data.dataloader.DataLoader at 0x237a75e7c10>,\n <torch.utils.data.dataloader.DataLoader at 0x237a75e76a0>)"
     },
     "execution_count": 182,
     "metadata": {},
     "output_type": "execute_result"
    }
   ],
   "source": [
    "from torch.utils.data import DataLoader\n",
    "\n",
    "# Setup the batch size hyperparameter\n",
    "BATCH_SIZE = 32\n",
    "\n",
    "# Turn datasets into iterables (batches)\n",
    "train_dataloader = DataLoader(dataset=train_data, \n",
    "                              batch_size=BATCH_SIZE,\n",
    "                              shuffle=True)\n",
    "\n",
    "test_dataloader = DataLoader(dataset=test_data,\n",
    "                             batch_size=BATCH_SIZE,\n",
    "                             shuffle=False)\n",
    "\n",
    "train_dataloader, test_dataloader"
   ],
   "metadata": {
    "collapsed": false,
    "ExecuteTime": {
     "end_time": "2023-08-21T14:07:27.081419300Z",
     "start_time": "2023-08-21T14:07:26.882713300Z"
    }
   },
   "id": "7dd26bc19eac6e25"
  },
  {
   "cell_type": "code",
   "execution_count": 183,
   "outputs": [
    {
     "name": "stdout",
     "output_type": "stream",
     "text": [
      "DataLoaders: (<torch.utils.data.dataloader.DataLoader object at 0x00000237A75E7C10>, <torch.utils.data.dataloader.DataLoader object at 0x00000237A75E76A0>)\n",
      "Length of train_dataloader: 1875 batches of 32...\n",
      "Length of test_dataloader: 313 batches of 32...\n"
     ]
    }
   ],
   "source": [
    "# Let's check out what we've created\n",
    "print(f\"DataLoaders: {train_dataloader, test_dataloader}\")\n",
    "print(f\"Length of train_dataloader: {len(train_dataloader)} batches of {BATCH_SIZE}...\")\n",
    "print(f\"Length of test_dataloader: {len(test_dataloader)} batches of {BATCH_SIZE}...\")"
   ],
   "metadata": {
    "collapsed": false,
    "ExecuteTime": {
     "end_time": "2023-08-21T14:07:27.083433100Z",
     "start_time": "2023-08-21T14:07:26.912620700Z"
    }
   },
   "id": "a73aee61aa7b5239"
  },
  {
   "cell_type": "code",
   "execution_count": 184,
   "outputs": [
    {
     "data": {
      "text/plain": "(torch.Size([32, 1, 28, 28]), torch.Size([32]))"
     },
     "execution_count": 184,
     "metadata": {},
     "output_type": "execute_result"
    }
   ],
   "source": [
    "# Check out what's inside the training dataloader\n",
    "train_features_batch, train_labels_batch = next(iter(train_dataloader))\n",
    "train_features_batch.shape, train_labels_batch.shape"
   ],
   "metadata": {
    "collapsed": false,
    "ExecuteTime": {
     "end_time": "2023-08-21T14:07:27.084434100Z",
     "start_time": "2023-08-21T14:07:26.929841600Z"
    }
   },
   "id": "f93fc493dfe6df08"
  },
  {
   "cell_type": "code",
   "execution_count": 185,
   "outputs": [
    {
     "name": "stdout",
     "output_type": "stream",
     "text": [
      "Image size: torch.Size([1, 28, 28])\n",
      "Label: 6, label size: torch.Size([])\n"
     ]
    },
    {
     "data": {
      "text/plain": "<Figure size 640x480 with 1 Axes>",
      "image/png": "[encoded data removed]"
     },
     "metadata": {},
     "output_type": "display_data"
    }
   ],
   "source": [
    "# Show a sample\n",
    "torch.manual_seed(42)\n",
    "random_idx = torch.randint(0, len(train_features_batch), size=[1]).item()\n",
    "img, label = train_features_batch[random_idx], train_labels_batch[random_idx]\n",
    "plt.imshow(img.squeeze(), cmap=\"gray\")\n",
    "plt.title(class_names[label])\n",
    "plt.axis(False)\n",
    "print(f\"Image size: {img.shape}\")\n",
    "print(f\"Label: {label}, label size: {label.shape}\")"
   ],
   "metadata": {
    "collapsed": false,
    "ExecuteTime": {
     "end_time": "2023-08-21T14:07:27.277622600Z",
     "start_time": "2023-08-21T14:07:26.975650200Z"
    }
   },
   "id": "280c186066d2633c"
  },
  {
   "cell_type": "markdown",
   "source": [
    "## 3. Model 0: Build a baseline model\n",
    "\n",
    "When starting to build a series of machine learning modelling experiments, it's best practice to start with a baseline model.\n",
    "\n",
    "A baseline model is a simple model you will try and improve upon with subsequent models/experiments.\n",
    "\n",
    "In other words: start simply and add complexity when necessary."
   ],
   "metadata": {
    "collapsed": false
   },
   "id": "69abb54e1e11886f"
  },
  {
   "cell_type": "code",
   "execution_count": 186,
   "outputs": [
    {
     "name": "stdout",
     "output_type": "stream",
     "text": [
      "Shape before flattening: torch.Size([1, 28, 28]) -> [color_channels, height, width]\n",
      "Shape after flattening: torch.Size([1, 784]) -> [color_channels, height*width]\n"
     ]
    }
   ],
   "source": [
    "# Create a flatten layer\n",
    "flatten_model = nn.Flatten()\n",
    "\n",
    "# Get a single sample\n",
    "x = train_features_batch[0]\n",
    "\n",
    "# Flatten the sample\n",
    "output = flatten_model(x) # perform forward pass\n",
    "\n",
    "# Print out what happened\n",
    "print(f\"Shape before flattening: {x.shape} -> [color_channels, height, width]\") \n",
    "print(f\"Shape after flattening: {output.shape} -> [color_channels, height*width]\")"
   ],
   "metadata": {
    "collapsed": false,
    "ExecuteTime": {
     "end_time": "2023-08-21T14:07:27.280409700Z",
     "start_time": "2023-08-21T14:07:27.209893600Z"
    }
   },
   "id": "900256587f17545"
  },
  {
   "cell_type": "code",
   "execution_count": 187,
   "outputs": [],
   "source": [
    "from torch import nn\n",
    "class FashionMNISTModelV0(nn.Module):\n",
    "    def __init__(self,\n",
    "                 input_shape: int,\n",
    "                 hidden_units: int,\n",
    "                 output_shape:int):\n",
    "        super().__init__()\n",
    "        self.layer_stack = nn.Sequential(\n",
    "            nn.Flatten(),\n",
    "            nn.Linear(in_features=input_shape,\n",
    "                      out_features=hidden_units),\n",
    "            nn.Linear(in_features=hidden_units,\n",
    "                      out_features=output_shape)\n",
    "        )\n",
    "    \n",
    "    def forward(self, x):\n",
    "        return self.layer_stack(x)"
   ],
   "metadata": {
    "collapsed": false,
    "ExecuteTime": {
     "end_time": "2023-08-21T14:07:27.315049900Z",
     "start_time": "2023-08-21T14:07:27.227668500Z"
    }
   },
   "id": "6dcd738b2f04c257"
  },
  {
   "cell_type": "code",
   "execution_count": 188,
   "outputs": [
    {
     "data": {
      "text/plain": "FashionMNISTModelV0(\n  (layer_stack): Sequential(\n    (0): Flatten(start_dim=1, end_dim=-1)\n    (1): Linear(in_features=784, out_features=10, bias=True)\n    (2): Linear(in_features=10, out_features=10, bias=True)\n  )\n)"
     },
     "execution_count": 188,
     "metadata": {},
     "output_type": "execute_result"
    }
   ],
   "source": [
    "torch.manual_seed(42)\n",
    "\n",
    "# Setup model with input parameters\n",
    "model_0 = FashionMNISTModelV0(\n",
    "    input_shape=784, # this is 28*28\n",
    "    hidden_units=10, # how many units in the hidden layer\n",
    "    output_shape=len(class_names) # one for every class\n",
    ").to(\"cpu\")\n",
    "\n",
    "model_0"
   ],
   "metadata": {
    "collapsed": false,
    "ExecuteTime": {
     "end_time": "2023-08-21T14:07:27.422706800Z",
     "start_time": "2023-08-21T14:07:27.258005500Z"
    }
   },
   "id": "308319013e391706"
  },
  {
   "cell_type": "code",
   "execution_count": 189,
   "outputs": [
    {
     "data": {
      "text/plain": "tensor([[-0.0315,  0.3171,  0.0531, -0.2525,  0.5959,  0.2112,  0.3233,  0.2694,\n         -0.1004,  0.0157]], grad_fn=<AddmmBackward0>)"
     },
     "execution_count": 189,
     "metadata": {},
     "output_type": "execute_result"
    }
   ],
   "source": [
    "dummy_x = torch.rand([1, 1, 28, 28])\n",
    "model_0(dummy_x)"
   ],
   "metadata": {
    "collapsed": false,
    "ExecuteTime": {
     "end_time": "2023-08-21T14:07:27.665779200Z",
     "start_time": "2023-08-21T14:07:27.287931400Z"
    }
   },
   "id": "91c16caad302cd93"
  },
  {
   "cell_type": "code",
   "execution_count": 190,
   "outputs": [
    {
     "data": {
      "text/plain": "OrderedDict([('layer_stack.1.weight',\n              tensor([[ 0.0273,  0.0296, -0.0084,  ..., -0.0142,  0.0093,  0.0135],\n                      [-0.0188, -0.0354,  0.0187,  ..., -0.0106, -0.0001,  0.0115],\n                      [-0.0008,  0.0017,  0.0045,  ..., -0.0127, -0.0188,  0.0059],\n                      ...,\n                      [-0.0116,  0.0273, -0.0344,  ...,  0.0176,  0.0283, -0.0011],\n                      [-0.0230,  0.0257,  0.0291,  ..., -0.0187, -0.0087,  0.0001],\n                      [ 0.0176, -0.0147,  0.0053,  ..., -0.0336, -0.0221,  0.0205]])),\n             ('layer_stack.1.bias',\n              tensor([-0.0093,  0.0283, -0.0033,  0.0255,  0.0017,  0.0037, -0.0302, -0.0123,\n                       0.0018,  0.0163])),\n             ('layer_stack.2.weight',\n              tensor([[ 0.0614, -0.0687,  0.0021,  0.2718,  0.2109,  0.1079, -0.2279, -0.1063,\n                        0.2019,  0.2847],\n                      [-0.1495,  0.1344, -0.0740,  0.2006, -0.0475, -0.2514, -0.3130, -0.0118,\n                        0.0932, -0.1864],\n                      [ 0.2488,  0.1500,  0.1907,  0.1457, -0.3050, -0.0580,  0.1643,  0.1565,\n                       -0.2877, -0.1792],\n                      [ 0.2305, -0.2618,  0.2397, -0.0610,  0.0232,  0.1542,  0.0851, -0.2027,\n                        0.1030, -0.2715],\n                      [-0.1596, -0.0555, -0.0633,  0.2302, -0.1726,  0.2654,  0.1473,  0.1029,\n                        0.2252, -0.2160],\n                      [-0.2725,  0.0118,  0.1559,  0.1596,  0.0132,  0.3024,  0.1124,  0.1366,\n                       -0.1533,  0.0965],\n                      [-0.1184, -0.2555, -0.2057, -0.1909, -0.0477, -0.1324,  0.2905,  0.1307,\n                       -0.2629,  0.0133],\n                      [ 0.2727, -0.0127,  0.0513,  0.0863, -0.1043, -0.2047, -0.1185, -0.0825,\n                        0.2488, -0.2571],\n                      [ 0.0425, -0.1209, -0.0336, -0.0281, -0.1227,  0.0730,  0.0747, -0.1816,\n                        0.1943,  0.2853],\n                      [-0.1310,  0.0645, -0.1171,  0.2168, -0.0245, -0.2820,  0.0736,  0.2621,\n                        0.0012, -0.0810]])),\n             ('layer_stack.2.bias',\n              tensor([-0.0087,  0.1791,  0.2712, -0.0791,  0.1685,  0.1762,  0.2825,  0.2266,\n                      -0.2612, -0.2613]))])"
     },
     "execution_count": 190,
     "metadata": {},
     "output_type": "execute_result"
    }
   ],
   "source": [
    "model_0.state_dict()"
   ],
   "metadata": {
    "collapsed": false,
    "ExecuteTime": {
     "end_time": "2023-08-21T14:07:27.675910800Z",
     "start_time": "2023-08-21T14:07:27.320195900Z"
    }
   },
   "id": "c0b749395dc8582"
  },
  {
   "cell_type": "markdown",
   "source": [
    "### 3.1 Setup loss, optimizer and evaluation metrics\n",
    "\n",
    "* Loss function - since we're working with multi-class data, our loss function will be `nn.CrossEntropyLoss()`\n",
    "* Optimizer - our optimizer `torch.optim.SGD()` (stochastic gradient descent)\n",
    "* Evaluation metric - since we're working on a classification problem, let's use accuracy as our evaluation metric"
   ],
   "metadata": {
    "collapsed": false
   },
   "id": "f22423b5c5e369d5"
  },
  {
   "cell_type": "code",
   "execution_count": 191,
   "outputs": [
    {
     "name": "stdout",
     "output_type": "stream",
     "text": [
      "helper_functions.py already exists, skipping download...\n"
     ]
    }
   ],
   "source": [
    "import requests\n",
    "from pathlib import Path\n",
    "\n",
    "# Download helper functions from Learn PyTorch repo\n",
    "if Path(\"helper_functions.py\").is_file():\n",
    "    print(\"helper_functions.py already exists, skipping download...\")\n",
    "else:\n",
    "    print(\"Downloading helper_functions.py\")\n",
    "    requests = requests.get(\"https://raw.githubusercontent.com/mrdbourke/pytorch-deep-learning/main/helper_functions.py\")\n",
    "    with open(\"helper_functions.py\", \"wb\") as f:\n",
    "        f.write(requests.content)"
   ],
   "metadata": {
    "collapsed": false,
    "ExecuteTime": {
     "end_time": "2023-08-21T14:07:27.676902600Z",
     "start_time": "2023-08-21T14:07:27.353965400Z"
    }
   },
   "id": "acab3122cb30c1dc"
  },
  {
   "cell_type": "code",
   "execution_count": 192,
   "outputs": [],
   "source": [
    "# Import accuracy metric\n",
    "from helper_functions import accuracy_fn\n",
    "\n",
    "# Setup loss function and optimizer\n",
    "loss_fn = nn.CrossEntropyLoss()\n",
    "optimizer = torch.optim.SGD(params=model_0.parameters(),\n",
    "                            lr=0.1)"
   ],
   "metadata": {
    "collapsed": false,
    "ExecuteTime": {
     "end_time": "2023-08-21T14:07:27.676902600Z",
     "start_time": "2023-08-21T14:07:27.381833700Z"
    }
   },
   "id": "a6e73e0576baedb5"
  },
  {
   "cell_type": "markdown",
   "source": [
    "### 3.2 Creating a function to time our experiments\n",
    "\n",
    "Machine learning is very experimental.\n",
    "\n",
    "Two of the main things you'll often want to track are:\n",
    "1. Model's performance (loss and accuracy values etc)\n",
    "2. How fast it runs"
   ],
   "metadata": {
    "collapsed": false
   },
   "id": "c602ca88408ac466"
  },
  {
   "cell_type": "code",
   "execution_count": 193,
   "outputs": [],
   "source": [
    "from timeit import default_timer as timer\n",
    "def print_train_time(start: float,\n",
    "                     end: float,\n",
    "                     device: torch.device = None):\n",
    "    \"\"\"Prints difference between start and end time.\"\"\"\n",
    "    total_time = end - start\n",
    "    print(f\"Train time on {device}: {total_time:.3f} seconds\")\n",
    "    return total_time"
   ],
   "metadata": {
    "collapsed": false,
    "ExecuteTime": {
     "end_time": "2023-08-21T14:07:27.676902600Z",
     "start_time": "2023-08-21T14:07:27.397889800Z"
    }
   },
   "id": "a45289c4c1b3ce85"
  },
  {
   "cell_type": "code",
   "execution_count": 194,
   "outputs": [
    {
     "name": "stdout",
     "output_type": "stream",
     "text": [
      "Train time on cpu: 0.000 seconds\n"
     ]
    },
    {
     "data": {
      "text/plain": "4.789999911736231e-05"
     },
     "execution_count": 194,
     "metadata": {},
     "output_type": "execute_result"
    }
   ],
   "source": [
    "start_time = timer()\n",
    "# some code...\n",
    "end_time = timer()\n",
    "print_train_time(start=start_time, end=end_time, device=\"cpu\")"
   ],
   "metadata": {
    "collapsed": false,
    "ExecuteTime": {
     "end_time": "2023-08-21T14:07:27.721392Z",
     "start_time": "2023-08-21T14:07:27.411562100Z"
    }
   },
   "id": "c48c7bf4371246ba"
  },
  {
   "cell_type": "code",
   "execution_count": 195,
   "outputs": [],
   "source": [
    "# UPTOHERE: 3.3 Creating a training loop and training a model on batches of data...\n",
    "# Highlight that the optimizer will update a model's parameters once per batch rather than once per epoch..."
   ],
   "metadata": {
    "collapsed": false,
    "ExecuteTime": {
     "end_time": "2023-08-21T14:07:27.724375700Z",
     "start_time": "2023-08-21T14:07:27.441692500Z"
    }
   },
   "id": "a4aa40073a9e116c"
  },
  {
   "cell_type": "markdown",
   "source": [
    "### 3.3 Creating a training loop and training a model on batches of data\n",
    "\n",
    "1. Loop through epochs.\n",
    "2. Loop through training batches, perform training steps, calculate the train loss *per batch*.\n",
    "3. Loop through testing batches, perform testing steps, calculate the test loss *per batch*.\n",
    "4. Print out what's happening.\n",
    "5. Time it all (for fun)."
   ],
   "metadata": {
    "collapsed": false
   },
   "id": "f85d39278ac5b96d"
  },
  {
   "cell_type": "code",
   "execution_count": 196,
   "outputs": [
    {
     "data": {
      "text/plain": "  0%|          | 0/3 [00:00<?, ?it/s]",
      "application/vnd.jupyter.widget-view+json": {
       "version_major": 2,
       "version_minor": 0,
       "model_id": "0dda32455610471c8a37adbe3ccf0a84"
      }
     },
     "metadata": {},
     "output_type": "display_data"
    },
    {
     "name": "stdout",
     "output_type": "stream",
     "text": [
      "Epoch: 0\n",
      "------\n",
      "Looked at 0/60000 samples.\n",
      "Looked at 12800/60000 samples.\n",
      "Looked at 25600/60000 samples.\n",
      "Looked at 38400/60000 samples.\n",
      "Looked at 51200/60000 samples.\n",
      "\n",
      "Train loss: 0.5904 | Test loss: 0.5095, Test acc: 82.0387\n",
      "Epoch: 1\n",
      "------\n",
      "Looked at 0/60000 samples.\n",
      "Looked at 12800/60000 samples.\n",
      "Looked at 25600/60000 samples.\n",
      "Looked at 38400/60000 samples.\n",
      "Looked at 51200/60000 samples.\n",
      "\n",
      "Train loss: 0.4763 | Test loss: 0.4799, Test acc: 83.1969\n",
      "Epoch: 2\n",
      "------\n",
      "Looked at 0/60000 samples.\n",
      "Looked at 12800/60000 samples.\n",
      "Looked at 25600/60000 samples.\n",
      "Looked at 38400/60000 samples.\n",
      "Looked at 51200/60000 samples.\n",
      "\n",
      "Train loss: 0.4550 | Test loss: 0.4766, Test acc: 83.4265\n",
      "Train time on cpu: 56.452 seconds\n"
     ]
    }
   ],
   "source": [
    "# Import tqdm for progress bar\n",
    "from tqdm.auto import tqdm\n",
    "\n",
    "# Set the seed and start the timer\n",
    "torch.manual_seed(42)\n",
    "train_time_start_on_cpu = timer()\n",
    "\n",
    "# Set the number of epochs (we'll keep this small for faster training time)\n",
    "epochs = 3\n",
    "\n",
    "# Create training and test loop\n",
    "for epoch in tqdm(range(epochs)):\n",
    "    print(f\"Epoch: {epoch}\\n------\")\n",
    "    ### Training\n",
    "    train_loss = 0\n",
    "    # Add a loop to loop through the training batches\n",
    "    for batch, (X, y) in enumerate(train_dataloader):\n",
    "        model_0.train()\n",
    "        # 1. Forward pass\n",
    "        y_pred = model_0(X)\n",
    "        \n",
    "        # 2. Calculate loss (per batch)\n",
    "        loss = loss_fn(y_pred, y)\n",
    "        train_loss += loss # accumulate train loss\n",
    "        \n",
    "        # 3. Optimizer zero grad\n",
    "        optimizer.zero_grad()\n",
    "        \n",
    "        # 4. Loss backward\n",
    "        loss.backward()\n",
    "        \n",
    "        # 5. Optimizer step\n",
    "        optimizer.step()\n",
    "        \n",
    "        # Print out what's happening\n",
    "        if batch % 400 == 0:\n",
    "            print(f\"Looked at {batch * len(X)}/{len(train_dataloader.dataset)} samples.\")\n",
    "    \n",
    "    # Divide total train loss by length of train dataloader\n",
    "    train_loss /= len(train_dataloader)\n",
    "    \n",
    "    ### Testing\n",
    "    test_loss, test_acc = 0, 0\n",
    "    model_0.eval()\n",
    "    with torch.inference_mode():\n",
    "        for X_test, y_test in test_dataloader:\n",
    "            # 1. Forward pass\n",
    "            test_pred = model_0(X_test)\n",
    "            \n",
    "            # 2. Calculate loss (accumulatively)\n",
    "            test_loss += loss_fn(test_pred, y_test)\n",
    "            \n",
    "            # 3. Calculate accuracy\n",
    "            test_acc += accuracy_fn(y_true=y_test, y_pred=test_pred.argmax(dim=1))\n",
    "            \n",
    "        # Calculate the test loss average per batch\n",
    "        test_loss /= len(test_dataloader)\n",
    "        \n",
    "        # Calculate the test acc average per batch\n",
    "        test_acc /= len(test_dataloader)\n",
    "        \n",
    "    # Print out what's happening\n",
    "    print(f\"\\nTrain loss: {train_loss:.4f} | Test loss: {test_loss:.4f}, Test acc: {test_acc:.4f}\")\n",
    "    \n",
    "# Calculate training time\n",
    "train_time_end_on_cpu = timer()\n",
    "total_train_time_model_0 = print_train_time(start=train_time_start_on_cpu,\n",
    "                                            end=train_time_end_on_cpu,\n",
    "                                            device=str(next(model_0.parameters()).device))"
   ],
   "metadata": {
    "collapsed": false,
    "ExecuteTime": {
     "end_time": "2023-08-21T14:08:23.949623500Z",
     "start_time": "2023-08-21T14:07:27.460858700Z"
    }
   },
   "id": "2f3bd79f885fb37"
  },
  {
   "cell_type": "markdown",
   "source": [
    "## 4. Make predictions and get Model 0 results"
   ],
   "metadata": {
    "collapsed": false
   },
   "id": "be07134474359d43"
  },
  {
   "cell_type": "code",
   "execution_count": 197,
   "outputs": [
    {
     "data": {
      "text/plain": "  0%|          | 0/313 [00:00<?, ?it/s]",
      "application/vnd.jupyter.widget-view+json": {
       "version_major": 2,
       "version_minor": 0,
       "model_id": "a637a705e504458fb29d07083c9ea18c"
      }
     },
     "metadata": {},
     "output_type": "display_data"
    },
    {
     "data": {
      "text/plain": "{'model_name': 'FashionMNISTModelV0',\n 'model_loss': 0.47663894295692444,\n 'model_acc': 83.42651757188499}"
     },
     "execution_count": 197,
     "metadata": {},
     "output_type": "execute_result"
    }
   ],
   "source": [
    "torch.manual_seed(42)\n",
    "\n",
    "def eval_model(model: torch.nn.Module,\n",
    "               data_loader: torch.utils.data.DataLoader,\n",
    "               loss_fn: torch.nn.Module,\n",
    "               accuracy_fn,\n",
    "               device=device):\n",
    "    \"\"\"Returns a dictionary containing the results of model predicting on data_loader.\"\"\"\n",
    "    loss, acc = 0, 0\n",
    "    model.eval()\n",
    "    with torch.inference_mode():\n",
    "        for X, y in tqdm(data_loader):\n",
    "            # Make our data device agnostic\n",
    "            X, y = X.to(device), y.to(device)\n",
    "                        \n",
    "            # Make predictions\n",
    "            y_pred = model(X)\n",
    "        \n",
    "            # Accumulate the loss and acc values per batch\n",
    "            loss += loss_fn(y_pred, y)\n",
    "            acc += accuracy_fn(y_true=y,\n",
    "                               y_pred=y_pred.argmax(dim=1))\n",
    "            \n",
    "        # Scale loss and acc to find the average loss/acc per batch\n",
    "        loss /= len(data_loader)\n",
    "        acc /= len(data_loader)\n",
    "        \n",
    "    return {\"model_name\": model.__class__.__name__, # only works when model was created with a class\n",
    "            \"model_loss\": loss.item(),\n",
    "            \"model_acc\": acc}\n",
    "\n",
    "# Calculate model 0 results on test dataset\n",
    "model_0_results = eval_model(model=model_0,\n",
    "                             data_loader=test_dataloader,\n",
    "                             loss_fn=loss_fn,\n",
    "                             accuracy_fn=accuracy_fn)\n",
    "model_0_results"
   ],
   "metadata": {
    "collapsed": false,
    "ExecuteTime": {
     "end_time": "2023-08-21T14:08:25.811294Z",
     "start_time": "2023-08-21T14:08:23.971660900Z"
    }
   },
   "id": "6eb356f3fc32e802"
  },
  {
   "cell_type": "markdown",
   "source": [
    "## 5. Setup device agnostic-code (for using a GPU if there is one)"
   ],
   "metadata": {
    "collapsed": false
   },
   "id": "c73e962c2154ca6e"
  },
  {
   "cell_type": "code",
   "execution_count": 198,
   "outputs": [
    {
     "name": "stderr",
     "output_type": "stream",
     "text": [
      "'nvidia-smi' is not recognized as an internal or external command,\n",
      "operable program or batch file.\n"
     ]
    }
   ],
   "source": [
    "!nvidia-smi"
   ],
   "metadata": {
    "collapsed": false,
    "ExecuteTime": {
     "end_time": "2023-08-21T14:08:25.922632800Z",
     "start_time": "2023-08-21T14:08:25.814322200Z"
    }
   },
   "id": "c76bedb37f2efcf"
  },
  {
   "cell_type": "code",
   "execution_count": 199,
   "outputs": [
    {
     "data": {
      "text/plain": "False"
     },
     "execution_count": 199,
     "metadata": {},
     "output_type": "execute_result"
    }
   ],
   "source": [
    "torch.cuda.is_available()"
   ],
   "metadata": {
    "collapsed": false,
    "ExecuteTime": {
     "end_time": "2023-08-21T14:08:26.012331Z",
     "start_time": "2023-08-21T14:08:25.924635500Z"
    }
   },
   "id": "91816fe5032a9f03"
  },
  {
   "cell_type": "code",
   "execution_count": 200,
   "outputs": [
    {
     "data": {
      "text/plain": "'cpu'"
     },
     "execution_count": 200,
     "metadata": {},
     "output_type": "execute_result"
    }
   ],
   "source": [
    "# Setup device-agnostic code\n",
    "import torch\n",
    "device = \"cuda\" if torch.cuda.is_available() else \"cpu\"\n",
    "device"
   ],
   "metadata": {
    "collapsed": false,
    "ExecuteTime": {
     "end_time": "2023-08-21T14:08:26.045472800Z",
     "start_time": "2023-08-21T14:08:25.938184800Z"
    }
   },
   "id": "c7ad13315193c7e2"
  },
  {
   "cell_type": "markdown",
   "source": [
    "## 6. Model 1: Building a better model with non-linearity\n",
    "\n",
    "We learned about the power of non-linearity - https://www.learnpytorch.io/02_pytorch_classification/#6-the-missing-piece-non-linearity"
   ],
   "metadata": {
    "collapsed": false
   },
   "id": "6bea82deceeb2e89"
  },
  {
   "cell_type": "code",
   "execution_count": 201,
   "outputs": [],
   "source": [
    "# Create a model with non-linear and linear layers\n",
    "class FashionMNISTModelV1(nn.Module):\n",
    "    def __init__(self,\n",
    "                 input_shape: int,\n",
    "                 hidden_units: int,\n",
    "                 output_shape: int):\n",
    "        super().__init__()\n",
    "        self.layer_stack = nn.Sequential(\n",
    "            nn.Flatten(), # flatten inputs into a single vectors\n",
    "            nn.Linear(in_features=input_shape,\n",
    "                      out_features=hidden_units),\n",
    "            nn.ReLU(),\n",
    "            nn.Linear(in_features=hidden_units,\n",
    "                      out_features=output_shape),\n",
    "            nn.ReLU()\n",
    "        )\n",
    "        \n",
    "    def forward(self, x: torch.Tensor):\n",
    "        return self.layer_stack(x)"
   ],
   "metadata": {
    "collapsed": false,
    "ExecuteTime": {
     "end_time": "2023-08-21T14:08:26.049467300Z",
     "start_time": "2023-08-21T14:08:25.960183300Z"
    }
   },
   "id": "efcb55c4941f029"
  },
  {
   "cell_type": "code",
   "execution_count": 202,
   "outputs": [
    {
     "data": {
      "text/plain": "device(type='cpu')"
     },
     "execution_count": 202,
     "metadata": {},
     "output_type": "execute_result"
    }
   ],
   "source": [
    "# Create an instance of model_1\n",
    "torch.manual_seed(42)\n",
    "model_1 = FashionMNISTModelV1(input_shape=784, # this is the output of the flatten after our 28*28 image goes in \n",
    "                              hidden_units=10,\n",
    "                              output_shape=len(class_names)).to(device) # send to the GPU if it's available\n",
    "\n",
    "next(model_1.parameters()).device"
   ],
   "metadata": {
    "collapsed": false,
    "ExecuteTime": {
     "end_time": "2023-08-21T14:08:26.056468600Z",
     "start_time": "2023-08-21T14:08:25.973191100Z"
    }
   },
   "id": "33ba3e889a921aa1"
  },
  {
   "cell_type": "markdown",
   "source": [
    "### 6.1 Setup loss, optimizer and evaluation metrics"
   ],
   "metadata": {
    "collapsed": false
   },
   "id": "f3539e7bfc11a97b"
  },
  {
   "cell_type": "code",
   "execution_count": 203,
   "outputs": [],
   "source": [
    "from helper_functions import accuracy_fn\n",
    "\n",
    "loss_fn = nn.CrossEntropyLoss() # measure how wrong our model is\n",
    "optimizer = torch.optim.SGD(params=model_1.parameters(), # tries to update our model's parameters to reduce the loss\n",
    "                            lr=0.1)"
   ],
   "metadata": {
    "collapsed": false,
    "ExecuteTime": {
     "end_time": "2023-08-21T14:08:26.073477300Z",
     "start_time": "2023-08-21T14:08:26.004185700Z"
    }
   },
   "id": "f7b077ecf3e874c1"
  },
  {
   "cell_type": "markdown",
   "source": [
    "### 6.2 Functionizing training and evaluation/testing loops\n",
    "\n",
    "Let's create a function for:\n",
    "* training loop - `train_step()`\n",
    "* testing loop - `test_step()`"
   ],
   "metadata": {
    "collapsed": false
   },
   "id": "393035bd374f5386"
  },
  {
   "cell_type": "code",
   "execution_count": 204,
   "outputs": [],
   "source": [
    "def train_step(model: torch.nn.Module,\n",
    "               data_loader: torch.utils.data.DataLoader,\n",
    "               loss_fn: torch.nn.Module,\n",
    "               optimizer: torch.optim.Optimizer,\n",
    "               accuracy_fn,\n",
    "               device: torch.device = device):\n",
    "    \"\"\"Performs a train step with model trying to learn on data_loader.\"\"\"\n",
    "    \n",
    "    train_loss, train_acc = 0, 0\n",
    "    \n",
    "    # Put model into training mode\n",
    "    model.train()\n",
    "    \n",
    "    # Add a loop to loop through the training batches\n",
    "    for batch, (X, y) in enumerate(data_loader):\n",
    "        # Put data on target device\n",
    "        X, y = X.to(device), y.to(device)\n",
    "        \n",
    "        # 1. Forward pass (outputs the raw logits from the model\n",
    "        y_pred = model(X)\n",
    "        \n",
    "        # 2. calculate loss (per batch)\n",
    "        loss = loss_fn(y_pred, y)\n",
    "        train_loss += loss # acccumulate train loss\n",
    "        train_acc += accuracy_fn(y_true=y,\n",
    "                                 y_pred=y_pred.argmax(dim=1)) # go from logits -> prediction labels\n",
    "        \n",
    "        # 3. Optimizer zero grad\n",
    "        optimizer.zero_grad()\n",
    "        \n",
    "        # 4. Loss backward\n",
    "        loss.backward()\n",
    "        \n",
    "        # 5. Optimizer step (update the model's parameters once *per batch*)\n",
    "        optimizer.step()\n",
    "        \n",
    "    # Divide total train loss and acc by length of train dataloader\n",
    "    train_loss /= len(data_loader)\n",
    "    train_acc /= len(data_loader)\n",
    "    print(f\"Train loss: {train_loss:.5f} | Train acc: {train_acc:.2f}%\")"
   ],
   "metadata": {
    "collapsed": false,
    "ExecuteTime": {
     "end_time": "2023-08-21T14:08:26.089473900Z",
     "start_time": "2023-08-21T14:08:26.024364900Z"
    }
   },
   "id": "cc5ed2236cf0a31a"
  },
  {
   "cell_type": "code",
   "execution_count": 205,
   "outputs": [],
   "source": [
    "def test_step(model: torch.nn.Module,\n",
    "              data_loader: torch.utils.data.DataLoader,\n",
    "              loss_fn: torch.nn.Module,\n",
    "              accuracy_fn,\n",
    "              device: torch.device = device):\n",
    "    \"\"\"Performs a testing loop step on model going over data_loader.\"\"\"\n",
    "    test_loss, test_acc = 0, 0\n",
    "    \n",
    "    # Put the model in eval mode\n",
    "    model.eval()\n",
    "    \n",
    "    # Turn on inference mode context manager\n",
    "    with torch.inference_mode():\n",
    "        for X, y in data_loader:\n",
    "            # Send the data to the target device\n",
    "            X, y = X.to(device), y.to(device)\n",
    "            \n",
    "            # 1. Forward pass\n",
    "            test_pred = model(X)\n",
    "            \n",
    "            # 2. Calculate the loss/acc\n",
    "            test_loss += loss_fn(test_pred, y)\n",
    "            test_acc += accuracy_fn(y_true=y,\n",
    "                                    y_pred=test_pred.argmax(dim=1)) # go from logits -> prediction labels\n",
    "            \n",
    "        # Adjust metrics and print out\n",
    "        test_loss /= len(data_loader)\n",
    "        test_acc /= len(data_loader)\n",
    "        print(f\"Test loss: {test_loss:.5f} | Test acc: {test_acc:.2f}%\\n\")"
   ],
   "metadata": {
    "collapsed": false,
    "ExecuteTime": {
     "end_time": "2023-08-21T14:08:26.373094900Z",
     "start_time": "2023-08-21T14:08:26.036474500Z"
    }
   },
   "id": "201140eb74a0339e"
  },
  {
   "cell_type": "code",
   "execution_count": 206,
   "outputs": [
    {
     "data": {
      "text/plain": "  0%|          | 0/3 [00:00<?, ?it/s]",
      "application/vnd.jupyter.widget-view+json": {
       "version_major": 2,
       "version_minor": 0,
       "model_id": "810c28309b064c369a2e197a87739c80"
      }
     },
     "metadata": {},
     "output_type": "display_data"
    },
    {
     "name": "stdout",
     "output_type": "stream",
     "text": [
      "Epoch: 0\n",
      "----------\n",
      "Train loss: 1.09199 | Train acc: 61.34%\n",
      "Test loss: 0.95636 | Test acc: 65.00%\n",
      "\n",
      "Epoch: 1\n",
      "----------\n",
      "Train loss: 0.78101 | Train acc: 71.93%\n",
      "Test loss: 0.72227 | Test acc: 73.91%\n",
      "\n",
      "Epoch: 2\n",
      "----------\n",
      "Train loss: 0.67027 | Train acc: 75.94%\n",
      "Test loss: 0.68500 | Test acc: 75.02%\n",
      "\n",
      "Train time on cpu: 42.931 seconds\n"
     ]
    }
   ],
   "source": [
    "torch.manual_seed(42)\n",
    "\n",
    "# Measure time\n",
    "from timeit import default_timer as timer\n",
    "train_time_start_on_gpu = timer()\n",
    "\n",
    "# Set epochs\n",
    "epochs = 3\n",
    "\n",
    "# Create a optimization and evaluation loop using train_step() and test_step()\n",
    "for epoch in tqdm(range(epochs)):\n",
    "    print(f\"Epoch: {epoch}\\n----------\")\n",
    "    train_step(model=model_1,\n",
    "               data_loader=train_dataloader,\n",
    "               loss_fn=loss_fn,\n",
    "               optimizer=optimizer,\n",
    "               accuracy_fn=accuracy_fn,\n",
    "               device=device)\n",
    "    \n",
    "    test_step(model=model_1,\n",
    "              data_loader=test_dataloader,\n",
    "              loss_fn=loss_fn,\n",
    "              accuracy_fn=accuracy_fn,\n",
    "              device=device)\n",
    "    \n",
    "train_time_end_on_gpu = timer()\n",
    "total_train_time_model_1 = print_train_time(start=train_time_start_on_gpu,\n",
    "                                            end=train_time_end_on_gpu,\n",
    "                                            device=device)"
   ],
   "metadata": {
    "collapsed": false,
    "ExecuteTime": {
     "end_time": "2023-08-21T14:09:09.011926900Z",
     "start_time": "2023-08-21T14:08:26.051467900Z"
    }
   },
   "id": "baf697e209a723a9"
  },
  {
   "cell_type": "markdown",
   "source": [
    "**Note:** Sometimes, depending on your data/hardware you might find that your model trains faster on CPU than GPU.\n",
    "\n",
    "Why is this?\n",
    "\n",
    "1. It could be that the overhead for copying data/model to and from the GPU outweighs the compute benefits offered by the GPU.\n",
    "2. The hardware you're using has a better CPU in terms compute capability than the GPU.\n",
    "\n",
    "For more on how to make your models compute faster, see here: https://horace.io/brrr_intro.html"
   ],
   "metadata": {
    "collapsed": false
   },
   "id": "9d61ae2cd51c5c6"
  },
  {
   "cell_type": "code",
   "execution_count": 207,
   "outputs": [
    {
     "data": {
      "text/plain": "{'model_name': 'FashionMNISTModelV0',\n 'model_loss': 0.47663894295692444,\n 'model_acc': 83.42651757188499}"
     },
     "execution_count": 207,
     "metadata": {},
     "output_type": "execute_result"
    }
   ],
   "source": [
    "model_0_results"
   ],
   "metadata": {
    "collapsed": false,
    "ExecuteTime": {
     "end_time": "2023-08-21T14:09:09.054490300Z",
     "start_time": "2023-08-21T14:09:09.013938400Z"
    }
   },
   "id": "a4f69b3ad6cede"
  },
  {
   "cell_type": "code",
   "execution_count": 208,
   "outputs": [
    {
     "data": {
      "text/plain": "56.45203969999966"
     },
     "execution_count": 208,
     "metadata": {},
     "output_type": "execute_result"
    }
   ],
   "source": [
    "# Train time on CPU\n",
    "total_train_time_model_0"
   ],
   "metadata": {
    "collapsed": false,
    "ExecuteTime": {
     "end_time": "2023-08-21T14:09:09.110504Z",
     "start_time": "2023-08-21T14:09:09.046493Z"
    }
   },
   "id": "e9656af7a2622c18"
  },
  {
   "cell_type": "code",
   "execution_count": 209,
   "outputs": [
    {
     "data": {
      "text/plain": "  0%|          | 0/313 [00:00<?, ?it/s]",
      "application/vnd.jupyter.widget-view+json": {
       "version_major": 2,
       "version_minor": 0,
       "model_id": "cfc6a2d45cac420ab98dbc30096654e4"
      }
     },
     "metadata": {},
     "output_type": "display_data"
    },
    {
     "data": {
      "text/plain": "{'model_name': 'FashionMNISTModelV1',\n 'model_loss': 0.6850008964538574,\n 'model_acc': 75.01996805111821}"
     },
     "execution_count": 209,
     "metadata": {},
     "output_type": "execute_result"
    }
   ],
   "source": [
    "# Get model_1 results dictionary\n",
    "model_1_results = eval_model(model=model_1,\n",
    "                             data_loader=test_dataloader,\n",
    "                             loss_fn=loss_fn,\n",
    "                             accuracy_fn=accuracy_fn,\n",
    "                             device=device)\n",
    "model_1_results"
   ],
   "metadata": {
    "collapsed": false,
    "ExecuteTime": {
     "end_time": "2023-08-21T14:09:11.609241500Z",
     "start_time": "2023-08-21T14:09:09.076487600Z"
    }
   },
   "id": "289e636eafb7bd11"
  },
  {
   "cell_type": "markdown",
   "source": [
    "## Model 2: Building a Convolutional Neural Network (CNN)\n",
    "\n",
    "CNN's are also known ConvNets.\n",
    "\n",
    "CNN's are known for their capabilities to find patterns in visual data.\n",
    "\n",
    "<img src=\"./assets/typ_cnn_arch.png\">\n",
    "\n",
    "To find out what's happening inside a CNN, see this website: https://poloclub.github.io/cnn-explainer/"
   ],
   "metadata": {
    "collapsed": false
   },
   "id": "47b118846648ba1b"
  },
  {
   "cell_type": "code",
   "execution_count": 210,
   "outputs": [],
   "source": [
    "# Create a convolutional neural network\n",
    "class FashionMNISTModelV2(nn.Module):\n",
    "    \"\"\"\n",
    "    Model architecture that replicates the TinnyVGG\n",
    "    model from CNN explainer website.\n",
    "    \"\"\"\n",
    "    def __init__(self, input_shape: int, hidden_units:int, output_shape: int):\n",
    "        super().__init__()\n",
    "        self.conv_block_1 = nn.Sequential(\n",
    "            # Create a conv layer - https://pytorch.org/docs/stable/generated/torch.nn.Conv2d.html\n",
    "            nn.Conv2d(in_channels=input_shape,\n",
    "                      out_channels=hidden_units,\n",
    "                      kernel_size=3,\n",
    "                      stride=1,\n",
    "                      padding=1), # values we can set ourselves in our NN's are called hyperparameters\n",
    "            nn.ReLU(),\n",
    "            nn.Conv2d(in_channels=hidden_units,\n",
    "                      out_channels=hidden_units,\n",
    "                      kernel_size=3,\n",
    "                      stride=1,\n",
    "                      padding=1),\n",
    "            nn.ReLU(),\n",
    "            nn.MaxPool2d(kernel_size=2)\n",
    "        )\n",
    "        self.conv_block_2 = nn.Sequential(\n",
    "            nn.Conv2d(in_channels=hidden_units,\n",
    "                      out_channels=hidden_units,\n",
    "                      kernel_size=3,\n",
    "                      stride=1,\n",
    "                      padding=1),\n",
    "            nn.ReLU(),\n",
    "            nn.Conv2d(in_channels=hidden_units,\n",
    "                      out_channels=hidden_units,\n",
    "                      kernel_size=3,\n",
    "                      stride=1,\n",
    "                      padding=1),\n",
    "            nn.ReLU(),\n",
    "            nn.MaxPool2d(kernel_size=2)\n",
    "        )\n",
    "        self.classifier = nn.Sequential(\n",
    "            nn.Flatten(),\n",
    "            nn.Linear(in_features=hidden_units*7*7, # there's a trick to calculating this...\n",
    "                      out_features=output_shape)\n",
    "        )\n",
    "    \n",
    "    def forward(self, x):\n",
    "        x = self.conv_block_1(x)\n",
    "        # print(f\"Output shape of conv_block_1: {x.shape}\")\n",
    "        x = self.conv_block_2(x)\n",
    "        # print(f\"Output shape of conv_block_2: {x.shape}\")\n",
    "        x = self.classifier(x)\n",
    "        # print(f\"Output shape of classifier: {x.shape}\")\n",
    "        return x"
   ],
   "metadata": {
    "collapsed": false,
    "ExecuteTime": {
     "end_time": "2023-08-21T14:09:11.694766Z",
     "start_time": "2023-08-21T14:09:11.611231Z"
    }
   },
   "id": "5ab0bd3ba6d02602"
  },
  {
   "cell_type": "code",
   "execution_count": 211,
   "outputs": [
    {
     "data": {
      "text/plain": "torch.Size([1, 28, 28])"
     },
     "execution_count": 211,
     "metadata": {},
     "output_type": "execute_result"
    }
   ],
   "source": [
    "image.shape"
   ],
   "metadata": {
    "collapsed": false,
    "ExecuteTime": {
     "end_time": "2023-08-21T14:09:11.705771200Z",
     "start_time": "2023-08-21T14:09:11.670766300Z"
    }
   },
   "id": "5de92b48c3d10187"
  },
  {
   "cell_type": "code",
   "execution_count": 212,
   "outputs": [],
   "source": [
    "torch.manual_seed(42)\n",
    "model_2 = FashionMNISTModelV2(input_shape=1,\n",
    "                              hidden_units=10,\n",
    "                              output_shape=len(class_names)).to(device)"
   ],
   "metadata": {
    "collapsed": false,
    "ExecuteTime": {
     "end_time": "2023-08-21T14:09:11.739782600Z",
     "start_time": "2023-08-21T14:09:11.687765900Z"
    }
   },
   "id": "de968624859bec02"
  },
  {
   "cell_type": "code",
   "execution_count": 213,
   "outputs": [
    {
     "data": {
      "text/plain": "torch.Size([1, 28, 28])"
     },
     "execution_count": 213,
     "metadata": {},
     "output_type": "execute_result"
    }
   ],
   "source": [
    "rand_image_tensor = torch.randn(size=(1, 28, 28))\n",
    "rand_image_tensor.shape"
   ],
   "metadata": {
    "collapsed": false,
    "ExecuteTime": {
     "end_time": "2023-08-21T14:09:11.917485800Z",
     "start_time": "2023-08-21T14:09:11.720776400Z"
    }
   },
   "id": "209975936b01e4aa"
  },
  {
   "cell_type": "code",
   "execution_count": 214,
   "outputs": [
    {
     "data": {
      "text/plain": "tensor([[ 0.0366, -0.0940,  0.0686, -0.0485,  0.0068,  0.0290,  0.0132,  0.0084,\n         -0.0030, -0.0185]], grad_fn=<AddmmBackward0>)"
     },
     "execution_count": 214,
     "metadata": {},
     "output_type": "execute_result"
    }
   ],
   "source": [
    "# Pass image through model\n",
    "model_2(rand_image_tensor.unsqueeze(0).to(device))"
   ],
   "metadata": {
    "collapsed": false,
    "ExecuteTime": {
     "end_time": "2023-08-21T14:09:11.935499700Z",
     "start_time": "2023-08-21T14:09:11.752954400Z"
    }
   },
   "id": "c501ab7957284257"
  },
  {
   "cell_type": "code",
   "execution_count": 215,
   "outputs": [
    {
     "data": {
      "text/plain": "<matplotlib.image.AxesImage at 0x237a74aaac0>"
     },
     "execution_count": 215,
     "metadata": {},
     "output_type": "execute_result"
    },
    {
     "data": {
      "text/plain": "<Figure size 640x480 with 1 Axes>",
      "image/png": "[encoded data removed]"
     },
     "metadata": {},
     "output_type": "display_data"
    }
   ],
   "source": [
    "plt.imshow(image.squeeze(), cmap=\"gray\")"
   ],
   "metadata": {
    "collapsed": false,
    "ExecuteTime": {
     "end_time": "2023-08-21T14:09:12.172123900Z",
     "start_time": "2023-08-21T14:09:11.783954700Z"
    }
   },
   "id": "ebd410ee3a6db3b9"
  },
  {
   "cell_type": "markdown",
   "source": [
    "### 7.1 Stepping through `nn.Conv2d()`\n",
    "\n",
    "See the documentation for `nn.Conv2d()` here - https://pytorch.org/docs/stable/generated/torch.nn.Conv2d.html"
   ],
   "metadata": {
    "collapsed": false
   },
   "id": "7ab51be35b9d334e"
  },
  {
   "cell_type": "code",
   "execution_count": 216,
   "outputs": [
    {
     "name": "stdout",
     "output_type": "stream",
     "text": [
      "Image batch shape: torch.Size([32, 3, 64, 64])\n",
      "Single image shape: torch.Size([3, 64, 64])\n",
      "Test image:\n",
      " tensor([[[ 1.9269,  1.4873,  0.9007,  ...,  1.8446, -1.1845,  1.3835],\n",
      "         [ 1.4451,  0.8564,  2.2181,  ...,  0.3399,  0.7200,  0.4114],\n",
      "         [ 1.9312,  1.0119, -1.4364,  ..., -0.5558,  0.7043,  0.7099],\n",
      "         ...,\n",
      "         [-0.5610, -0.4830,  0.4770,  ..., -0.2713, -0.9537, -0.6737],\n",
      "         [ 0.3076, -0.1277,  0.0366,  ..., -2.0060,  0.2824, -0.8111],\n",
      "         [-1.5486,  0.0485, -0.7712,  ..., -0.1403,  0.9416, -0.0118]],\n",
      "\n",
      "        [[-0.5197,  1.8524,  1.8365,  ...,  0.8935, -1.5114, -0.8515],\n",
      "         [ 2.0818,  1.0677, -1.4277,  ...,  1.6612, -2.6223, -0.4319],\n",
      "         [-0.1010, -0.4388, -1.9775,  ...,  0.2106,  0.2536, -0.7318],\n",
      "         ...,\n",
      "         [ 0.2779,  0.7342, -0.3736,  ..., -0.4601,  0.1815,  0.1850],\n",
      "         [ 0.7205, -0.2833,  0.0937,  ..., -0.1002, -2.3609,  2.2465],\n",
      "         [-1.3242, -0.1973,  0.2920,  ...,  0.5409,  0.6940,  1.8563]],\n",
      "\n",
      "        [[-0.7978,  1.0261,  1.1465,  ...,  1.2134,  0.9354, -0.0780],\n",
      "         [-1.4647, -1.9571,  0.1017,  ..., -1.9986, -0.7409,  0.7011],\n",
      "         [-1.3938,  0.8466, -1.7191,  ..., -1.1867,  0.1320,  0.3407],\n",
      "         ...,\n",
      "         [ 0.8206, -0.3745,  1.2499,  ..., -0.0676,  0.0385,  0.6335],\n",
      "         [-0.5589, -0.3393,  0.2347,  ...,  2.1181,  2.4569,  1.3083],\n",
      "         [-0.4092,  1.5199,  0.2401,  ..., -0.2558,  0.7870,  0.9924]]])\n"
     ]
    }
   ],
   "source": [
    "torch.manual_seed(42)\n",
    "\n",
    "# Create a batch of images\n",
    "images = torch.randn(size=(32, 3, 64, 64))\n",
    "test_image = images[0]\n",
    "\n",
    "print(f\"Image batch shape: {images.shape}\")\n",
    "print(f\"Single image shape: {test_image.shape}\")\n",
    "print(f\"Test image:\\n {test_image}\")"
   ],
   "metadata": {
    "collapsed": false,
    "ExecuteTime": {
     "end_time": "2023-08-21T14:09:12.251545200Z",
     "start_time": "2023-08-21T14:09:12.175128600Z"
    }
   },
   "id": "993b9370d172fc57"
  },
  {
   "cell_type": "code",
   "execution_count": 217,
   "outputs": [
    {
     "data": {
      "text/plain": "torch.Size([10, 62, 62])"
     },
     "execution_count": 217,
     "metadata": {},
     "output_type": "execute_result"
    }
   ],
   "source": [
    "torch.manual_seed(42)\n",
    "\n",
    "# Create a single conv2d layer\n",
    "conv_layer = nn.Conv2d(in_channels=3,\n",
    "                       out_channels=10,\n",
    "                       kernel_size=(3, 3),\n",
    "                       stride=1,\n",
    "                       padding=0)\n",
    "\n",
    "# Pass the data through the convolutional layer\n",
    "conv_output = conv_layer(test_image)\n",
    "conv_output.shape"
   ],
   "metadata": {
    "collapsed": false,
    "ExecuteTime": {
     "end_time": "2023-08-21T14:09:12.255543600Z",
     "start_time": "2023-08-21T14:09:12.207980Z"
    }
   },
   "id": "4ade15cddb3bb390"
  },
  {
   "cell_type": "code",
   "execution_count": 218,
   "outputs": [
    {
     "data": {
      "text/plain": "torch.Size([3, 64, 64])"
     },
     "execution_count": 218,
     "metadata": {},
     "output_type": "execute_result"
    }
   ],
   "source": [
    "test_image.shape"
   ],
   "metadata": {
    "collapsed": false,
    "ExecuteTime": {
     "end_time": "2023-08-21T14:09:12.271536100Z",
     "start_time": "2023-08-21T14:09:12.239004300Z"
    }
   },
   "id": "aee25156da03bf2b"
  },
  {
   "cell_type": "markdown",
   "source": [
    "### 7.2 Stepping through `nn. MaxPool2d()`\n",
    "\n",
    "https://pytorch.org/docs/stable/generated/torch.nn.MaxPool2d.html"
   ],
   "metadata": {
    "collapsed": false
   },
   "id": "ac0797c00420fb0b"
  },
  {
   "cell_type": "code",
   "execution_count": 219,
   "outputs": [
    {
     "name": "stdout",
     "output_type": "stream",
     "text": [
      "Test image original shape: torch.Size([3, 64, 64])\n",
      "Test image with unsqueezed dimension: torch.Size([1, 3, 64, 64])\n",
      "Shape after going through conv_layer(): torch.Size([1, 10, 62, 62])\n",
      "Shape after going through conv_layer() and max_pool_layer(): torch.Size([1, 10, 31, 31])\n"
     ]
    }
   ],
   "source": [
    "# Print out original image shape without unsqueezed dimension\n",
    "print(f\"Test image original shape: {test_image.shape}\")\n",
    "print(f\"Test image with unsqueezed dimension: {test_image.unsqueeze(0).shape}\")\n",
    "\n",
    "# Create a sample nn.MaxPool2d layer\n",
    "max_pool_layer = nn.MaxPool2d(kernel_size=2)\n",
    "\n",
    "# Pass data through just the conv_layer\n",
    "test_image_through_conv = conv_layer(test_image.unsqueeze(dim=0))\n",
    "print(f\"Shape after going through conv_layer(): {test_image_through_conv.shape}\")\n",
    "\n",
    "# Pass data through the max pool layer\n",
    "test_image_through_conv_and_max_pool = max_pool_layer(test_image_through_conv)\n",
    "print(f\"Shape after going through conv_layer() and max_pool_layer(): {test_image_through_conv_and_max_pool.shape}\")"
   ],
   "metadata": {
    "collapsed": false,
    "ExecuteTime": {
     "end_time": "2023-08-21T14:09:12.482642400Z",
     "start_time": "2023-08-21T14:09:12.254536900Z"
    }
   },
   "id": "e8031610683aa8ff"
  },
  {
   "cell_type": "code",
   "execution_count": 220,
   "outputs": [
    {
     "name": "stdout",
     "output_type": "stream",
     "text": [
      "\n",
      "Random tensor:\n",
      " tensor([[[[0.3367, 0.1288],\n",
      "          [0.2345, 0.2303]]]])\n",
      "Random tensor shape: torch.Size([1, 1, 2, 2])\n",
      "\n",
      "Max pool tensor:\n",
      " tensor([[[[0.3367]]]])\n",
      "Max pool tensor shape: torch.Size([1, 1, 1, 1])\n"
     ]
    }
   ],
   "source": [
    "torch.manual_seed(42)\n",
    "# Create a random tensor with a similar number of dimensions to our images\n",
    "random_tensor = torch.randn(size=(1, 1, 2, 2))\n",
    "print(f\"\\nRandom tensor:\\n {random_tensor}\")\n",
    "print(f\"Random tensor shape: {random_tensor.shape}\")\n",
    "\n",
    "# Create a max pool layer\n",
    "max_pool_layer = nn.MaxPool2d(kernel_size=2)\n",
    "\n",
    "# Pass the random tensor through the max pool layer\n",
    "max_pool_tensor = max_pool_layer(random_tensor)\n",
    "print(f\"\\nMax pool tensor:\\n {max_pool_tensor}\")\n",
    "print(f\"Max pool tensor shape: {max_pool_tensor.shape}\")"
   ],
   "metadata": {
    "collapsed": false,
    "ExecuteTime": {
     "end_time": "2023-08-21T14:09:12.519651100Z",
     "start_time": "2023-08-21T14:09:12.287554300Z"
    }
   },
   "id": "d63b1cf79b2b7f1b"
  },
  {
   "cell_type": "markdown",
   "source": [
    "CNN Explainer Model\n",
    "<img src=\"./assets/cnn_explain_model.png\">\n",
    "<br>\n",
    "\n",
    "Breakdown of Conv2d Layer\n",
    "<img src=\"./assets/bd_conv2d.png\">\n",
    "<img src=\"./assets/bd_conv2d_2.png\">\n",
    "\n",
    "<br>\n",
    "<img src=\"./assets/fmnist_cnn.png\">"
   ],
   "metadata": {
    "collapsed": false
   },
   "id": "475ed06b14e1c836"
  },
  {
   "cell_type": "markdown",
   "source": [
    "### 7.3 Setup a loss function and optimizer for `model_2`"
   ],
   "metadata": {
    "collapsed": false
   },
   "id": "c15fc1461b509411"
  },
  {
   "cell_type": "code",
   "execution_count": 221,
   "outputs": [],
   "source": [
    "# Setup loss function/eval metrics/optimizer\n",
    "from helper_functions import accuracy_fn\n",
    "\n",
    "loss_fn = nn.CrossEntropyLoss()\n",
    "optimizer = torch.optim.SGD(params=model_2.parameters(),\n",
    "                            lr=0.1)"
   ],
   "metadata": {
    "collapsed": false,
    "ExecuteTime": {
     "end_time": "2023-08-21T14:09:12.535691500Z",
     "start_time": "2023-08-21T14:09:12.320547800Z"
    }
   },
   "id": "9163067c2a0eb0dc"
  },
  {
   "cell_type": "code",
   "execution_count": 222,
   "outputs": [
    {
     "data": {
      "text/plain": "OrderedDict([('conv_block_1.0.weight',\n              tensor([[[[ 0.2548,  0.2767, -0.0781],\n                        [ 0.3062, -0.0730,  0.0673],\n                        [-0.1623,  0.1958,  0.2938]]],\n              \n              \n                      [[[-0.2445,  0.2897,  0.0624],\n                        [ 0.2463,  0.0451,  0.1607],\n                        [-0.0471,  0.2570,  0.0493]]],\n              \n              \n                      [[[-0.1556,  0.0850, -0.1536],\n                        [-0.0391, -0.1354,  0.2211],\n                        [-0.2631, -0.1537, -0.0941]]],\n              \n              \n                      [[[-0.2004,  0.0315, -0.3292],\n                        [ 0.3010, -0.2832,  0.2573],\n                        [ 0.0555, -0.1082,  0.2060]]],\n              \n              \n                      [[[ 0.0520,  0.2693,  0.0364],\n                        [-0.1051,  0.0896, -0.0904],\n                        [ 0.1403,  0.2976,  0.1927]]],\n              \n              \n                      [[[-0.1457,  0.1924,  0.0596],\n                        [ 0.1693, -0.2032, -0.3300],\n                        [-0.1288, -0.2557,  0.2735]]],\n              \n              \n                      [[[ 0.0960,  0.1381,  0.1054],\n                        [-0.0058,  0.2609, -0.2368],\n                        [ 0.0210, -0.2275,  0.1028]]],\n              \n              \n                      [[[-0.1148,  0.1021, -0.0694],\n                        [ 0.2765, -0.1976, -0.1988],\n                        [-0.1988,  0.2998,  0.1111]]],\n              \n              \n                      [[[ 0.3208, -0.2751, -0.3306],\n                        [-0.2608, -0.2242,  0.1350],\n                        [ 0.1194,  0.2770, -0.1721]]],\n              \n              \n                      [[[-0.2272,  0.1769, -0.1347],\n                        [ 0.2023, -0.0791,  0.1907],\n                        [-0.2590, -0.1682,  0.1016]]]])),\n             ('conv_block_1.0.bias',\n              tensor([ 0.0705, -0.0850,  0.1987,  0.2266, -0.2417, -0.1780,  0.3052, -0.1125,\n                      -0.1182, -0.3225])),\n             ('conv_block_1.2.weight',\n              tensor([[[[-0.0604,  0.0263, -0.0139],\n                        [-0.0765,  0.0025, -0.0720],\n                        [-0.0894, -0.0580, -0.0923]],\n              \n                       [[-0.0671,  0.1054,  0.0199],\n                        [ 0.0325, -0.0983, -0.0692],\n                        [-0.0351,  0.0165, -0.0928]],\n              \n                       [[-0.0454, -0.0631,  0.0003],\n                        [-0.0392, -0.0073, -0.0714],\n                        [-0.0724, -0.0615, -0.0361]],\n              \n                       [[-0.0832,  0.0884, -0.0209],\n                        [ 0.0907,  0.0328, -0.0893],\n                        [ 0.0729, -0.0290, -0.0404]],\n              \n                       [[-0.0875, -0.1048,  0.0302],\n                        [-0.0230,  0.0410, -0.0865],\n                        [ 0.0783, -0.0774, -0.0182]],\n              \n                       [[ 0.0220,  0.0544,  0.0851],\n                        [ 0.0960, -0.0836,  0.0265],\n                        [-0.0453, -0.0116, -0.0789]],\n              \n                       [[ 0.0960, -0.0774,  0.0563],\n                        [ 0.0370,  0.0343, -0.0570],\n                        [ 0.0958,  0.0232,  0.0136]],\n              \n                       [[-0.0929,  0.0442, -0.0158],\n                        [-0.0483,  0.0905,  0.0235],\n                        [-0.0583, -0.0534, -0.0050]],\n              \n                       [[ 0.0589, -0.0269, -0.0601],\n                        [-0.0361, -0.0787,  0.0376],\n                        [ 0.0816, -0.0992,  0.0245]],\n              \n                       [[ 0.0545,  0.0191, -0.0375],\n                        [ 0.0550,  0.0554,  0.0394],\n                        [-0.0185, -0.0279,  0.0113]]],\n              \n              \n                      [[[-0.0186, -0.0314,  0.0674],\n                        [ 0.0906, -0.0104, -0.0236],\n                        [ 0.0015, -0.0063,  0.0253]],\n              \n                       [[ 0.0295, -0.0957, -0.0389],\n                        [ 0.0888,  0.0411, -0.0052],\n                        [-0.0636, -0.0645, -0.0944]],\n              \n                       [[-0.0344,  0.0356,  0.0672],\n                        [ 0.0487, -0.0932, -0.0634],\n                        [-0.0166,  0.1020,  0.0152]],\n              \n                       [[-0.0273,  0.0436, -0.0401],\n                        [-0.0682,  0.0769, -0.0479],\n                        [-0.0211, -0.1049,  0.0705]],\n              \n                       [[ 0.0799,  0.0384, -0.0735],\n                        [-0.1040, -0.0856,  0.0786],\n                        [ 0.0506,  0.0887,  0.0552]],\n              \n                       [[ 0.0267, -0.0010, -0.0802],\n                        [-0.0903, -0.0986,  0.0432],\n                        [-0.0518, -0.0212, -0.0607]],\n              \n                       [[-0.0192, -0.0742, -0.0689],\n                        [ 0.0350, -0.0313,  0.0651],\n                        [-0.0338, -0.0773, -0.0186]],\n              \n                       [[-0.0511, -0.0322, -0.1003],\n                        [ 0.0590, -0.0734,  0.0530],\n                        [ 0.0478,  0.0753, -0.0809]],\n              \n                       [[ 0.0758, -0.0498,  0.0391],\n                        [ 0.0990, -0.0149, -0.0008],\n                        [-0.0243, -0.0880,  0.0506]],\n              \n                       [[-0.1046,  0.0654,  0.0789],\n                        [ 0.0997, -0.0249, -0.0866],\n                        [ 0.0237,  0.0582, -0.1049]]],\n              \n              \n                      [[[-0.0239, -0.0632, -0.0092],\n                        [-0.0519, -0.0431, -0.0335],\n                        [-0.1002,  0.0865,  0.0884]],\n              \n                       [[-0.0165, -0.0120, -0.0430],\n                        [-0.0952, -0.1026,  0.0392],\n                        [-0.0579, -0.0678, -0.0082]],\n              \n                       [[-0.0351, -0.0341,  0.0034],\n                        [-0.0224, -0.0363, -0.0505],\n                        [-0.0858,  0.0884, -0.0422]],\n              \n                       [[ 0.0279, -0.0366,  0.0086],\n                        [ 0.0983,  0.0486, -0.0913],\n                        [ 0.0418,  0.1001,  0.0277]],\n              \n                       [[ 0.0707,  0.1039, -0.0162],\n                        [ 0.0219, -0.0733, -0.0217],\n                        [ 0.0781,  0.0540, -0.0667]],\n              \n                       [[-0.0845, -0.0720, -0.1040],\n                        [-0.0813, -0.0261,  0.0711],\n                        [ 0.0176, -0.0802, -0.0846]],\n              \n                       [[ 0.0524, -0.0784, -0.0130],\n                        [ 0.0506, -0.0488, -0.0115],\n                        [-0.0092, -0.0249, -0.0534]],\n              \n                       [[-0.0940, -0.0852, -0.0564],\n                        [ 0.1018, -0.0509, -0.0708],\n                        [ 0.0256,  0.0291,  0.0578]],\n              \n                       [[ 0.0801,  0.0587, -0.1045],\n                        [ 0.0093,  0.0639, -0.0097],\n                        [-0.0621,  0.1005, -0.0394]],\n              \n                       [[-0.0600, -0.0950,  0.0047],\n                        [ 0.0467,  0.0233,  0.0208],\n                        [-0.0799, -0.0984,  0.0019]]],\n              \n              \n                      [[[ 0.0961,  0.0608, -0.0614],\n                        [-0.0137, -0.0777, -0.0509],\n                        [ 0.0191,  0.0574,  0.0873]],\n              \n                       [[-0.0968,  0.0705, -0.0743],\n                        [ 0.0395,  0.0892,  0.0015],\n                        [ 0.0959, -0.0898, -0.0403]],\n              \n                       [[ 0.0615, -0.0230, -0.0216],\n                        [-0.0439,  0.0727,  0.0517],\n                        [ 0.0338, -0.0592, -0.0856]],\n              \n                       [[ 0.0114,  0.0312, -0.0487],\n                        [-0.0295,  0.0712,  0.0084],\n                        [ 0.0048, -0.0259, -0.0955]],\n              \n                       [[-0.0991, -0.0504, -0.0536],\n                        [ 0.0328, -0.0307, -0.0412],\n                        [ 0.1005,  0.0367,  0.0751]],\n              \n                       [[-0.0510, -0.0431,  0.0387],\n                        [-0.0702, -0.0689, -0.0051],\n                        [-0.0386, -0.0790,  0.0625]],\n              \n                       [[ 0.0848,  0.0171, -0.0184],\n                        [-0.0976, -0.0384,  0.0268],\n                        [ 0.0497, -0.0133, -0.0417]],\n              \n                       [[ 0.0587, -0.0839,  0.0666],\n                        [-0.0409,  0.0016, -0.0208],\n                        [ 0.0128, -0.0319,  0.0766]],\n              \n                       [[-0.0027,  0.0823,  0.1013],\n                        [-0.0514, -0.0769,  0.0846],\n                        [ 0.0826, -0.0805, -0.0081]],\n              \n                       [[-0.1039, -0.0863,  0.0204],\n                        [ 0.0280,  0.0223, -0.0287],\n                        [ 0.0972,  0.0151, -0.0622]]],\n              \n              \n                      [[[-0.0060,  0.0253,  0.0369],\n                        [-0.0745,  0.0395, -0.0539],\n                        [-0.0876, -0.0576,  0.1017]],\n              \n                       [[ 0.0901,  0.0944,  0.0619],\n                        [ 0.0796, -0.0141, -0.0580],\n                        [ 0.0527, -0.0546, -0.0711]],\n              \n                       [[-0.0337,  0.0221,  0.0543],\n                        [-0.0409, -0.0620,  0.0142],\n                        [-0.0621, -0.0686,  0.0549]],\n              \n                       [[-0.0177,  0.0963,  0.1025],\n                        [ 0.0315,  0.0363,  0.0243],\n                        [ 0.0017, -0.0077,  0.0014]],\n              \n                       [[ 0.0394,  0.0980, -0.0273],\n                        [-0.0446, -0.0255, -0.0509],\n                        [ 0.0179,  0.0787,  0.0824]],\n              \n                       [[ 0.0484, -0.0776, -0.0566],\n                        [-0.0232, -0.0194,  0.0087],\n                        [-0.0968,  0.0328, -0.0804]],\n              \n                       [[-0.0667, -0.0876,  0.0918],\n                        [-0.0998,  0.0795, -0.0035],\n                        [-0.0123,  0.0659, -0.0097]],\n              \n                       [[ 0.0661,  0.0762, -0.0915],\n                        [ 0.0406,  0.0199,  0.0227],\n                        [ 0.0154,  0.0288, -0.0507]],\n              \n                       [[-0.0135,  0.1002,  0.0708],\n                        [-0.0040, -0.0991,  0.0046],\n                        [-0.0718,  0.0857, -0.0640]],\n              \n                       [[-0.0076, -0.0234,  0.0188],\n                        [ 0.0992,  0.0100,  0.0610],\n                        [ 0.0818,  0.0851, -0.0364]]],\n              \n              \n                      [[[-0.0236,  0.0508, -0.0288],\n                        [ 0.0494, -0.0230, -0.0715],\n                        [ 0.0429,  0.0162,  0.0470]],\n              \n                       [[ 0.1047,  0.0720,  0.0999],\n                        [ 0.0056, -0.0907, -0.0739],\n                        [-0.0655, -0.0929, -0.0528]],\n              \n                       [[-0.0970, -0.0973, -0.0630],\n                        [-0.1039, -0.0647,  0.0402],\n                        [ 0.0879, -0.0314, -0.0307]],\n              \n                       [[ 0.0563, -0.0520, -0.0498],\n                        [ 0.0649, -0.0918,  0.0129],\n                        [ 0.0931,  0.0181,  0.0287]],\n              \n                       [[-0.0614, -0.0015,  0.0058],\n                        [ 0.0259,  0.0410,  0.0916],\n                        [-0.0805,  0.0032, -0.0527]],\n              \n                       [[-0.0834, -0.0084, -0.0928],\n                        [ 0.0736,  0.0122, -0.0568],\n                        [ 0.0551, -0.0998, -0.0408]],\n              \n                       [[-0.0205, -0.0896, -0.0670],\n                        [-0.0172,  0.0800,  0.1018],\n                        [ 0.0671, -0.0629, -0.0690]],\n              \n                       [[ 0.0920,  0.0373,  0.0028],\n                        [ 0.0143, -0.0847, -0.0352],\n                        [ 0.1015, -0.0260, -0.0053]],\n              \n                       [[-0.0875, -0.0590, -0.0022],\n                        [-0.0655, -0.0131,  0.0429],\n                        [-0.1031,  0.0313, -0.0697]],\n              \n                       [[-0.0514,  0.0405,  0.0838],\n                        [-0.0288, -0.0433, -0.0953],\n                        [-0.0544, -0.0923, -0.0241]]],\n              \n              \n                      [[[ 0.0215, -0.0988,  0.0920],\n                        [ 0.0661, -0.1032, -0.0503],\n                        [ 0.0344, -0.0217, -0.0115]],\n              \n                       [[-0.0476,  0.0847, -0.0589],\n                        [ 0.0874,  0.0068,  0.0212],\n                        [ 0.0822, -0.0174, -0.0600]],\n              \n                       [[-0.0170,  0.0855, -0.0782],\n                        [ 0.0239, -0.1036,  0.0553],\n                        [ 0.0389,  0.0045,  0.0452]],\n              \n                       [[ 0.0001,  0.0583, -0.0834],\n                        [-0.0155,  0.0468,  0.1050],\n                        [ 0.0537, -0.0767,  0.0811]],\n              \n                       [[-0.0235, -0.0225, -0.0958],\n                        [-0.0166,  0.0746,  0.0147],\n                        [-0.0614,  0.0324, -0.0338]],\n              \n                       [[ 0.0962, -0.0915, -0.0333],\n                        [-0.1018, -0.0415,  0.0332],\n                        [ 0.1015,  0.0177,  0.1033]],\n              \n                       [[ 0.0206,  0.0609,  0.0845],\n                        [ 0.0881, -0.0590,  0.0969],\n                        [ 0.0639, -0.0493, -0.0503]],\n              \n                       [[-0.0884,  0.0265, -0.0854],\n                        [ 0.0445,  0.0333, -0.0916],\n                        [ 0.0287, -0.0086,  0.0482]],\n              \n                       [[ 0.0605, -0.1048,  0.0967],\n                        [ 0.0884,  0.0419, -0.0963],\n                        [-0.0377, -0.0305, -0.0271]],\n              \n                       [[ 0.0594,  0.0383,  0.0835],\n                        [-0.0395,  0.0355,  0.0375],\n                        [-0.0878, -0.1022, -0.0547]]],\n              \n              \n                      [[[ 0.0722, -0.0992, -0.0918],\n                        [ 0.0591,  0.0569,  0.0867],\n                        [-0.0796, -0.0771,  0.0541]],\n              \n                       [[ 0.0917,  0.0631,  0.0165],\n                        [ 0.0347,  0.1000, -0.0680],\n                        [-0.0479,  0.0737, -0.0721]],\n              \n                       [[-0.0581,  0.0769,  0.0333],\n                        [ 0.0341, -0.0447, -0.0015],\n                        [ 0.0965, -0.0633,  0.0008]],\n              \n                       [[ 0.0501, -0.0728,  0.1024],\n                        [-0.0527, -0.0253, -0.0285],\n                        [-0.0687, -0.1034,  0.0594]],\n              \n                       [[ 0.0280, -0.0987, -0.0678],\n                        [ 0.1042,  0.0403,  0.0423],\n                        [-0.0631, -0.0462, -0.0159]],\n              \n                       [[-0.0193, -0.0722,  0.0087],\n                        [ 0.0105, -0.0133,  0.0146],\n                        [-0.0418,  0.0274,  0.0398]],\n              \n                       [[-0.0555, -0.1045,  0.0552],\n                        [ 0.0251, -0.0536,  0.1016],\n                        [-0.0477,  0.0712,  0.0535]],\n              \n                       [[-0.0884,  0.0680, -0.0969],\n                        [-0.0584, -0.0176, -0.0711],\n                        [ 0.1030, -0.0211,  0.0419]],\n              \n                       [[-0.0941,  0.0607, -0.0328],\n                        [-0.0802,  0.0154,  0.0511],\n                        [ 0.0912, -0.0644, -0.0519]],\n              \n                       [[ 0.0203,  0.0286,  0.0405],\n                        [ 0.0579, -0.0239,  0.0586],\n                        [ 0.0777, -0.0275,  0.0750]]],\n              \n              \n                      [[[ 0.0515,  0.0930, -0.0599],\n                        [-0.0521, -0.0305,  0.0053],\n                        [ 0.0633, -0.0602,  0.0528]],\n              \n                       [[-0.0378,  0.0637, -0.0050],\n                        [-0.0923, -0.0580, -0.0763],\n                        [ 0.0523, -0.0707, -0.0088]],\n              \n                       [[ 0.0227, -0.0578,  0.0304],\n                        [-0.1029, -0.0754, -0.0955],\n                        [-0.0319, -0.0384,  0.0151]],\n              \n                       [[-0.0195,  0.0496,  0.0966],\n                        [ 0.0378, -0.0415, -0.0987],\n                        [ 0.0382, -0.0522,  0.0536]],\n              \n                       [[ 0.0705,  0.0407,  0.0989],\n                        [ 0.1001,  0.0223, -0.0768],\n                        [ 0.0942, -0.0500, -0.0498]],\n              \n                       [[ 0.0882,  0.0817,  0.0318],\n                        [ 0.0066, -0.0887, -0.0109],\n                        [ 0.1011,  0.0268,  0.0090]],\n              \n                       [[-0.0219, -0.0368,  0.0628],\n                        [ 0.0065,  0.0686, -0.0187],\n                        [ 0.0461,  0.0435,  0.0168]],\n              \n                       [[ 0.0662,  0.0661,  0.0977],\n                        [ 0.0810, -0.0270, -0.0892],\n                        [ 0.0193, -0.0009, -0.0275]],\n              \n                       [[-0.0177,  0.0050,  0.0769],\n                        [ 0.0329, -0.0374, -0.0433],\n                        [-0.0261, -0.0407,  0.0948]],\n              \n                       [[ 0.0558,  0.0952,  0.0003],\n                        [ 0.0213,  0.0366, -0.0998],\n                        [ 0.0094, -0.0071, -0.0591]]],\n              \n              \n                      [[[-0.0818,  0.0933,  0.0857],\n                        [ 0.0489,  0.1006, -0.0428],\n                        [-0.0182,  0.0399, -0.0174]],\n              \n                       [[-0.0207, -0.0871,  0.0283],\n                        [-0.0637,  0.0038,  0.1028],\n                        [-0.0324, -0.0332,  0.0636]],\n              \n                       [[-0.0388, -0.0091,  0.0984],\n                        [-0.0432, -0.0754, -0.0590],\n                        [-0.0292, -0.0500, -0.0547]],\n              \n                       [[ 0.0426,  0.0179, -0.0337],\n                        [-0.0819, -0.0332, -0.0445],\n                        [-0.0343, -0.0951,  0.0227]],\n              \n                       [[-0.0774, -0.0821, -0.0861],\n                        [ 0.0440, -0.0635, -0.0435],\n                        [ 0.0826,  0.0560,  0.0604]],\n              \n                       [[-0.1001, -0.0756, -0.0398],\n                        [ 0.0871,  0.0108, -0.0788],\n                        [ 0.0007, -0.0819, -0.0231]],\n              \n                       [[-0.0290,  0.0912,  0.0326],\n                        [-0.0184,  0.0178, -0.0304],\n                        [ 0.0414,  0.0417,  0.0283]],\n              \n                       [[-0.0411,  0.0899, -0.0152],\n                        [-0.0410,  0.0660,  0.0859],\n                        [ 0.1049,  0.0312, -0.0359]],\n              \n                       [[ 0.0535,  0.0904, -0.1034],\n                        [-0.0131, -0.0719,  0.0196],\n                        [ 0.0436, -0.0218, -0.0088]],\n              \n                       [[ 0.0474, -0.0177, -0.0885],\n                        [ 0.0843, -0.0531, -0.0116],\n                        [ 0.0099, -0.0063, -0.0992]]]])),\n             ('conv_block_1.2.bias',\n              tensor([ 0.0484, -0.0479, -0.0547,  0.0252, -0.0550, -0.0487, -0.0355, -0.0396,\n                      -0.0440, -0.0284])),\n             ('conv_block_2.0.weight',\n              tensor([[[[ 2.7393e-02, -8.5299e-02, -6.3802e-02],\n                        [ 1.5381e-03,  1.4659e-02,  5.8217e-02],\n                        [-7.4044e-02,  3.3646e-02,  5.9914e-02]],\n              \n                       [[ 5.8530e-02, -9.8180e-02, -4.0225e-02],\n                        [-9.0606e-02, -6.6704e-02,  5.8711e-02],\n                        [-1.5740e-02,  4.4769e-02, -6.1876e-02]],\n              \n                       [[ 1.6018e-02, -6.3758e-02,  5.2693e-02],\n                        [-4.6104e-02, -2.6432e-02, -9.1456e-02],\n                        [ 3.4823e-04,  1.0008e-01,  5.1163e-02]],\n              \n                       [[-5.6240e-02,  1.4176e-03, -1.1558e-02],\n                        [-8.4862e-02,  8.2650e-02,  1.6993e-03],\n                        [ 2.2199e-02, -4.2567e-02, -4.9323e-02]],\n              \n                       [[ 1.7381e-02,  3.8971e-02,  2.3643e-02],\n                        [-5.0801e-02,  1.0234e-01, -1.5517e-02],\n                        [-6.4554e-02, -4.9301e-02,  1.0377e-01]],\n              \n                       [[ 5.0738e-06, -1.4309e-02, -4.3867e-02],\n                        [-2.7633e-02, -8.8779e-02, -8.3767e-02],\n                        [ 6.1695e-02,  9.0172e-02,  1.0059e-01]],\n              \n                       [[-7.6099e-02,  5.7012e-02, -6.5245e-02],\n                        [ 6.2883e-02,  7.6058e-02,  8.1573e-02],\n                        [ 7.5900e-02,  6.5941e-02,  2.0517e-03]],\n              \n                       [[ 4.8434e-02, -3.7712e-02,  4.5899e-02],\n                        [-3.3879e-02, -1.7700e-03, -9.1746e-02],\n                        [-2.7562e-02, -5.5432e-02, -3.5557e-02]],\n              \n                       [[-6.7313e-02, -9.4810e-02,  6.8639e-03],\n                        [ 6.8408e-02,  9.6001e-02,  6.1512e-02],\n                        [-5.4638e-02, -1.0425e-01,  3.9983e-02]],\n              \n                       [[ 5.9062e-02, -9.0495e-02,  3.7798e-02],\n                        [ 8.9121e-02,  6.3853e-03, -6.3505e-02],\n                        [ 8.6423e-02,  4.5011e-02,  6.9802e-02]]],\n              \n              \n                      [[[-7.1287e-02,  6.1342e-02, -7.2002e-02],\n                        [ 1.0430e-01, -4.4662e-02,  6.3516e-02],\n                        [ 2.1107e-02,  2.7935e-02, -1.6165e-02]],\n              \n                       [[ 4.3295e-02, -4.3932e-02, -9.9357e-02],\n                        [-4.0499e-02,  8.2592e-02, -2.7751e-02],\n                        [ 3.3132e-02, -3.8973e-02,  7.9073e-02]],\n              \n                       [[ 6.3086e-02,  3.7211e-02, -5.3881e-02],\n                        [-8.6133e-02,  3.9686e-03, -6.1839e-02],\n                        [ 8.6667e-02, -1.0130e-01,  4.7104e-02]],\n              \n                       [[ 1.0508e-01,  5.2792e-02,  3.5942e-02],\n                        [-1.0142e-01,  1.0139e-01, -1.8030e-02],\n                        [-9.8495e-02,  1.0406e-01, -4.2894e-02]],\n              \n                       [[-7.4575e-03,  9.6479e-02, -7.3070e-02],\n                        [-7.4576e-02,  1.7141e-02, -1.4109e-02],\n                        [ 2.4280e-02, -8.8407e-02,  3.1524e-03]],\n              \n                       [[-4.6882e-02, -5.1820e-02, -9.6517e-02],\n                        [ 5.5890e-02,  2.0306e-02, -8.9118e-02],\n                        [ 8.3648e-02,  3.1794e-02,  1.9560e-02]],\n              \n                       [[-6.1890e-02,  1.5896e-02,  1.0157e-01],\n                        [ 7.2299e-02, -8.2100e-02,  9.6220e-02],\n                        [ 8.1702e-03,  5.0698e-02,  8.1869e-02]],\n              \n                       [[ 8.9862e-02, -8.2170e-02,  9.2303e-02],\n                        [-7.1591e-02,  7.9021e-03, -7.3656e-02],\n                        [-2.3109e-02, -4.7901e-03, -1.2611e-02]],\n              \n                       [[-1.6652e-02,  8.3137e-03,  1.0398e-01],\n                        [ 6.1244e-02,  5.8973e-02,  4.2190e-02],\n                        [ 8.1606e-02, -4.8645e-03,  8.3813e-03]],\n              \n                       [[ 2.1693e-02, -9.1931e-02, -8.4913e-02],\n                        [ 1.2923e-02, -4.1241e-02, -1.9342e-03],\n                        [-2.4187e-02,  1.6408e-02,  6.8581e-02]]],\n              \n              \n                      [[[-3.4958e-02,  8.4418e-02,  8.3227e-02],\n                        [-8.0901e-02, -8.1400e-02, -8.5284e-02],\n                        [-5.7766e-02, -4.1033e-02, -7.9341e-03]],\n              \n                       [[-2.5635e-02, -5.3258e-02, -3.3488e-02],\n                        [-3.8131e-02,  1.0341e-01, -3.9068e-02],\n                        [-7.5473e-02,  4.3818e-02, -6.0886e-03]],\n              \n                       [[ 8.0698e-02,  6.5863e-02,  9.6843e-02],\n                        [-7.7197e-02,  6.7764e-02,  8.8464e-02],\n                        [-5.2054e-02,  9.6890e-02,  7.9019e-02]],\n              \n                       [[ 1.1544e-03,  5.0823e-02, -3.6853e-02],\n                        [-9.1936e-02,  2.6645e-02,  3.1425e-02],\n                        [-6.8891e-02,  5.1123e-02, -9.0043e-02]],\n              \n                       [[ 9.0718e-02,  1.0208e-01,  2.8699e-02],\n                        [-6.6137e-02,  5.1300e-02,  1.7963e-02],\n                        [ 2.8663e-02,  3.4643e-02,  8.0254e-02]],\n              \n                       [[-4.5309e-02, -2.3711e-02,  2.8746e-02],\n                        [ 1.1486e-02,  8.5000e-02, -5.5365e-02],\n                        [-3.8387e-03,  1.9696e-02, -2.7996e-02]],\n              \n                       [[ 7.1859e-02,  1.1530e-02, -9.7422e-02],\n                        [-1.1420e-02, -4.7809e-02,  1.0243e-02],\n                        [-1.2250e-02, -1.0456e-01, -1.9208e-02]],\n              \n                       [[-1.0096e-02, -3.1083e-02,  9.6848e-02],\n                        [-2.3000e-02,  6.7717e-02,  2.6112e-02],\n                        [-8.8979e-02,  2.4770e-02,  8.7356e-02]],\n              \n                       [[-6.8948e-02, -6.8134e-02,  1.0318e-01],\n                        [ 8.4697e-02, -5.8807e-02,  6.3429e-02],\n                        [-1.3485e-02, -1.0393e-01,  7.9198e-03]],\n              \n                       [[ 3.4057e-02, -3.1619e-02,  3.6670e-02],\n                        [-9.0136e-02,  7.3050e-02,  8.9865e-02],\n                        [ 5.8130e-02,  1.7866e-02,  3.4716e-02]]],\n              \n              \n                      [[[-7.6269e-02, -2.6339e-02, -1.0063e-02],\n                        [-5.8659e-02, -7.7857e-02,  7.0900e-02],\n                        [ 7.1535e-02, -9.5731e-02,  3.3542e-02]],\n              \n                       [[ 4.2881e-02,  1.0014e-01,  6.0985e-02],\n                        [ 9.6907e-02, -3.4510e-02,  7.3827e-02],\n                        [ 8.5740e-02, -9.9541e-02, -8.4613e-02]],\n              \n                       [[ 2.1335e-02,  5.7557e-02, -5.2369e-02],\n                        [ 1.1609e-02, -1.5303e-04,  2.6680e-02],\n                        [-5.6642e-02,  5.9455e-02,  7.0098e-02]],\n              \n                       [[-7.3139e-02,  1.0211e-03,  2.9247e-04],\n                        [ 3.3849e-02,  9.8198e-02,  3.0913e-02],\n                        [-2.3951e-02,  9.4672e-02, -4.0112e-02]],\n              \n                       [[-3.0608e-02,  7.1969e-03, -8.0270e-02],\n                        [ 1.1470e-02, -7.1518e-02,  1.0838e-02],\n                        [ 1.0099e-02,  1.4591e-02, -8.8891e-02]],\n              \n                       [[-1.0012e-01,  4.8501e-02,  9.0399e-02],\n                        [-9.3537e-02,  3.9043e-02, -7.7594e-02],\n                        [ 6.6082e-03,  9.8068e-02,  7.9965e-02]],\n              \n                       [[-7.7069e-02,  6.5203e-02,  5.5057e-02],\n                        [-1.6169e-04,  1.0211e-01, -4.1866e-02],\n                        [-2.4530e-02, -5.3275e-02,  1.5168e-02]],\n              \n                       [[ 2.7911e-02,  8.3990e-03, -5.9307e-02],\n                        [-4.7452e-02,  3.5855e-02, -9.2426e-02],\n                        [-1.6416e-02, -2.3350e-03, -4.2708e-02]],\n              \n                       [[ 3.8360e-02,  6.7940e-03,  7.4004e-02],\n                        [-9.3616e-03, -6.6528e-02,  7.4477e-02],\n                        [ 1.4720e-02, -3.0189e-02, -6.9476e-02]],\n              \n                       [[ 2.4707e-02, -1.0053e-01,  2.7762e-02],\n                        [ 5.2119e-02, -9.2465e-02, -6.9009e-02],\n                        [-7.5781e-02,  8.8597e-02,  8.9611e-02]]],\n              \n              \n                      [[[ 6.5987e-03,  9.8959e-02, -3.5239e-02],\n                        [-1.0233e-01,  3.6819e-02,  3.7343e-02],\n                        [ 1.0334e-01, -3.0510e-05,  8.0785e-02]],\n              \n                       [[ 6.4612e-02,  7.6292e-02, -1.0460e-01],\n                        [ 8.6800e-02, -8.9856e-02,  9.4501e-02],\n                        [-4.3682e-03, -9.3415e-02,  2.9314e-02]],\n              \n                       [[-2.1456e-02, -9.4678e-02, -3.8215e-02],\n                        [ 1.0868e-02,  8.2098e-02, -3.2406e-02],\n                        [ 6.2610e-02,  1.3200e-02,  3.5531e-03]],\n              \n                       [[ 2.0170e-02, -6.9177e-02, -8.7616e-02],\n                        [-3.3121e-02, -9.8226e-02, -4.9158e-02],\n                        [ 4.8494e-03, -6.9424e-02, -4.3723e-02]],\n              \n                       [[-1.8941e-02, -1.2144e-02, -5.8187e-02],\n                        [ 5.0650e-03, -1.4795e-02,  3.0147e-02],\n                        [ 4.7611e-03, -5.2638e-02, -3.6291e-02]],\n              \n                       [[-1.2149e-03, -6.5774e-02,  8.2520e-03],\n                        [-7.4425e-03,  4.0897e-02,  2.4947e-02],\n                        [ 7.8887e-02, -3.4749e-03, -7.7887e-02]],\n              \n                       [[ 4.7119e-02, -7.1240e-02, -1.4489e-02],\n                        [-3.4132e-02, -3.9997e-02, -3.9000e-02],\n                        [ 9.6863e-02,  6.0342e-02,  2.9213e-02]],\n              \n                       [[ 9.8975e-02, -9.5524e-02,  1.7010e-02],\n                        [ 6.7481e-02,  7.0022e-02, -8.3890e-02],\n                        [ 3.7514e-02, -6.0050e-02, -4.1187e-03]],\n              \n                       [[-2.1996e-02, -8.8013e-02, -1.0055e-01],\n                        [-6.9349e-02,  4.7832e-02,  4.8218e-02],\n                        [-9.1681e-02, -3.9586e-02,  1.7218e-03]],\n              \n                       [[-9.1135e-02,  5.9393e-02,  9.5473e-02],\n                        [ 1.8643e-02, -7.8321e-02,  2.4580e-02],\n                        [ 3.8265e-02,  8.3468e-02, -5.6085e-02]]],\n              \n              \n                      [[[-9.4437e-02,  4.6312e-02,  6.5624e-03],\n                        [-3.4345e-02, -4.4169e-02, -5.4351e-02],\n                        [ 8.5328e-02, -1.8187e-02,  7.6022e-02]],\n              \n                       [[ 9.4094e-02,  1.3353e-02,  2.2454e-02],\n                        [-7.1789e-03,  7.2397e-02, -9.4983e-02],\n                        [ 4.1919e-02, -1.7174e-02,  4.8132e-02]],\n              \n                       [[-4.6949e-04, -3.9029e-02, -1.1379e-02],\n                        [ 5.6920e-02, -7.3210e-02, -6.6629e-02],\n                        [-2.3611e-02, -3.8235e-02,  4.1409e-02]],\n              \n                       [[ 7.0937e-02, -1.1289e-02,  9.9672e-02],\n                        [-4.4042e-02, -5.9151e-02, -4.7191e-02],\n                        [-7.2624e-02, -7.3885e-02, -9.3921e-02]],\n              \n                       [[-9.3422e-02,  2.7512e-02,  6.4284e-02],\n                        [ 9.8963e-02,  8.9787e-02, -6.0709e-03],\n                        [ 2.0454e-02, -6.3068e-02,  4.0743e-02]],\n              \n                       [[-1.0107e-01,  4.9719e-02,  1.9334e-02],\n                        [ 3.2393e-02,  3.8595e-02, -4.8394e-02],\n                        [ 9.0452e-02,  5.0307e-02,  6.9243e-02]],\n              \n                       [[ 1.3922e-02,  6.6196e-02,  7.0941e-02],\n                        [ 4.7775e-02,  8.0297e-02, -1.9119e-02],\n                        [ 6.9310e-02,  2.4286e-02,  6.3424e-02]],\n              \n                       [[ 1.0267e-01,  2.3869e-02, -3.9124e-02],\n                        [-1.0488e-02,  2.9676e-02,  1.7773e-02],\n                        [-2.8795e-02,  8.2590e-02,  6.3331e-02]],\n              \n                       [[-6.5475e-02, -8.5889e-03, -1.0119e-02],\n                        [-6.6063e-02,  1.5374e-02, -3.2360e-02],\n                        [-5.4419e-02, -3.3894e-02, -3.7584e-02]],\n              \n                       [[ 1.0084e-01,  4.0432e-02,  1.0373e-01],\n                        [ 2.8903e-02,  2.3868e-02,  4.3333e-02],\n                        [ 1.8092e-02, -8.2722e-02, -6.2334e-02]]],\n              \n              \n                      [[[-2.5538e-02,  1.5846e-03,  3.9709e-02],\n                        [ 4.0588e-02,  8.3623e-02,  2.1458e-02],\n                        [-3.5975e-02, -7.9271e-02, -7.7203e-02]],\n              \n                       [[-6.2965e-02,  3.1792e-02,  5.6950e-02],\n                        [ 9.2224e-02, -3.3342e-02, -8.3150e-03],\n                        [-3.1303e-02, -3.8517e-04,  3.3837e-02]],\n              \n                       [[-2.3160e-03,  4.8799e-03,  1.3354e-02],\n                        [ 3.9256e-02, -3.1981e-02, -6.2855e-02],\n                        [ 2.4869e-02, -1.2481e-02, -4.7753e-02]],\n              \n                       [[ 4.4268e-02,  9.5597e-04, -1.5333e-02],\n                        [-5.1027e-02, -1.3868e-02, -8.9632e-02],\n                        [ 2.3980e-02,  1.5818e-03,  6.3966e-02]],\n              \n                       [[ 6.8063e-03,  8.4277e-03,  2.8715e-02],\n                        [ 8.0210e-02, -4.9812e-02,  6.2930e-02],\n                        [ 2.5779e-02, -7.0320e-02,  3.6702e-02]],\n              \n                       [[-6.3217e-02, -3.3181e-02, -5.0245e-02],\n                        [-7.1711e-02,  8.3017e-02, -9.4217e-02],\n                        [ 5.2706e-02, -9.4870e-02, -1.2829e-02]],\n              \n                       [[ 6.2868e-03,  7.4937e-02, -3.8147e-02],\n                        [ 3.0340e-02,  1.6329e-02,  6.2021e-02],\n                        [ 6.2668e-03,  3.9470e-02, -6.3677e-02]],\n              \n                       [[-7.3250e-02,  9.3928e-02, -7.6808e-02],\n                        [-1.7945e-02, -1.2742e-02,  1.0308e-01],\n                        [-2.2780e-02, -8.0249e-02, -2.6721e-02]],\n              \n                       [[ 5.4372e-02,  4.1773e-02,  8.7204e-02],\n                        [-2.1579e-02,  4.9653e-02, -9.9194e-02],\n                        [ 4.0787e-02,  4.8432e-02,  6.7998e-02]],\n              \n                       [[-6.0446e-02, -2.8142e-02,  2.5502e-02],\n                        [-7.4905e-02, -8.3851e-02, -1.0141e-01],\n                        [ 5.8842e-03,  6.5458e-02,  2.7075e-02]]],\n              \n              \n                      [[[ 6.4263e-03,  3.6727e-02, -6.6240e-02],\n                        [ 1.1113e-02, -2.6186e-02, -5.2193e-02],\n                        [ 9.0902e-02, -8.1550e-02,  1.5448e-02]],\n              \n                       [[-9.2624e-02, -3.5762e-03, -4.6840e-02],\n                        [ 3.4695e-02, -5.9191e-02,  6.7466e-02],\n                        [-8.5536e-02,  6.3313e-02, -7.9181e-02]],\n              \n                       [[ 5.6456e-02, -4.4384e-02, -2.4556e-04],\n                        [-1.9238e-02,  6.8414e-02,  3.4546e-02],\n                        [-9.2887e-02,  9.6914e-03, -7.2718e-02]],\n              \n                       [[ 7.8800e-02,  1.7319e-02, -2.7109e-02],\n                        [-5.3777e-02,  3.6485e-02, -6.3129e-02],\n                        [ 4.9992e-02,  5.7519e-02,  6.4701e-02]],\n              \n                       [[ 2.7537e-02, -9.2272e-02,  7.5823e-02],\n                        [-3.2700e-02, -3.1163e-02, -1.1325e-02],\n                        [ 7.7068e-02,  8.1052e-02,  1.6276e-02]],\n              \n                       [[ 5.0296e-02, -9.8241e-02,  2.4901e-04],\n                        [-9.3254e-02,  3.5876e-02, -7.5099e-02],\n                        [-3.7568e-02,  7.3684e-02,  1.0074e-01]],\n              \n                       [[-6.3286e-02, -5.8503e-02,  1.3055e-02],\n                        [ 4.1437e-02, -1.7168e-02, -3.2918e-02],\n                        [-6.9237e-02,  4.4997e-02,  1.0328e-01]],\n              \n                       [[-5.1026e-02,  4.9718e-02,  5.1481e-02],\n                        [ 8.4728e-02, -1.2001e-02,  3.3202e-03],\n                        [ 7.7444e-02,  6.6631e-02,  1.0411e-01]],\n              \n                       [[-3.0207e-02,  4.1709e-02,  7.3605e-02],\n                        [-7.1553e-02,  2.0940e-02, -2.3586e-02],\n                        [ 6.7760e-02, -4.7342e-02,  7.3933e-03]],\n              \n                       [[ 6.3067e-02, -9.6567e-02, -8.9004e-02],\n                        [-5.3989e-02,  6.7611e-02,  7.0680e-02],\n                        [-7.1991e-02,  2.0100e-02, -5.5854e-02]]],\n              \n              \n                      [[[-4.8926e-02,  9.0907e-02,  5.0914e-02],\n                        [-2.8828e-02,  1.5516e-02,  2.0424e-02],\n                        [ 2.4691e-02, -3.6079e-02, -6.2074e-02]],\n              \n                       [[ 6.9788e-02,  1.4164e-02,  4.4119e-02],\n                        [-3.9922e-02,  5.1057e-02,  7.6713e-02],\n                        [ 6.4107e-02,  2.8660e-02,  1.0371e-01]],\n              \n                       [[-2.3053e-04,  2.2441e-02,  1.0015e-01],\n                        [ 1.0245e-01, -4.4506e-02,  9.4953e-02],\n                        [ 3.8902e-02, -1.1799e-02,  9.2038e-02]],\n              \n                       [[-5.4605e-02,  6.8490e-02,  1.0445e-01],\n                        [-7.2701e-02, -6.2201e-02, -1.0445e-01],\n                        [-1.8970e-02, -9.5733e-02, -3.5304e-02]],\n              \n                       [[ 3.2002e-02,  7.4511e-02,  5.8717e-02],\n                        [ 5.8511e-02,  4.3730e-02, -6.5378e-02],\n                        [-8.3694e-02,  4.3696e-03,  1.0009e-01]],\n              \n                       [[ 5.9351e-03, -9.0662e-03, -7.1545e-02],\n                        [-5.2266e-02, -8.1256e-02,  8.4398e-02],\n                        [-1.7174e-02, -9.3119e-02,  1.1308e-02]],\n              \n                       [[ 7.6494e-03, -1.3023e-02,  3.7733e-02],\n                        [ 5.6687e-02, -9.9128e-02, -8.0753e-02],\n                        [-5.0639e-03, -9.7729e-02, -9.5750e-02]],\n              \n                       [[ 9.3067e-02, -8.0174e-03, -5.2113e-02],\n                        [-3.6157e-02, -8.2295e-02,  8.2258e-02],\n                        [-2.2857e-02, -5.9265e-02, -7.9944e-02]],\n              \n                       [[ 6.1611e-02, -1.4571e-02, -1.1074e-02],\n                        [-2.7473e-02, -5.0883e-02,  1.8751e-02],\n                        [ 8.1099e-02, -6.1093e-02,  5.0504e-03]],\n              \n                       [[-8.0165e-02, -4.9426e-02,  9.2525e-02],\n                        [ 1.1052e-03,  1.0154e-01, -1.8468e-02],\n                        [-5.7453e-02, -6.2981e-02,  9.3426e-02]]],\n              \n              \n                      [[[-8.1058e-02,  5.5318e-02,  2.6203e-02],\n                        [ 3.1107e-02,  5.9476e-02, -2.7577e-02],\n                        [ 6.5223e-02, -8.3982e-02, -3.7087e-02]],\n              \n                       [[ 7.7164e-02,  3.1283e-02, -1.4038e-02],\n                        [-2.4616e-02, -6.4364e-02,  6.4098e-02],\n                        [-3.3520e-03, -3.5664e-03,  2.4929e-02]],\n              \n                       [[ 7.7787e-02, -5.3778e-02, -3.6303e-02],\n                        [ 7.1429e-02,  5.9532e-02, -5.1855e-02],\n                        [-1.0428e-01,  1.9555e-02,  5.5434e-02]],\n              \n                       [[ 2.5178e-02,  7.4768e-02, -8.3640e-02],\n                        [ 5.3156e-02, -6.5531e-02,  5.9325e-02],\n                        [ 7.8394e-02,  3.3385e-02,  8.5284e-02]],\n              \n                       [[-6.9481e-02, -9.4275e-02, -1.0135e-01],\n                        [ 6.6179e-02,  3.6926e-02, -7.7188e-02],\n                        [ 5.1048e-02,  9.6177e-02, -1.0394e-01]],\n              \n                       [[ 7.6466e-02,  1.6167e-02,  9.8053e-03],\n                        [ 9.4847e-02,  9.5458e-02,  4.4414e-02],\n                        [ 8.3288e-02,  4.3853e-02,  1.7176e-02]],\n              \n                       [[-9.2656e-02,  1.9689e-02, -7.4993e-02],\n                        [ 3.2452e-02,  1.8598e-02,  2.3681e-03],\n                        [-7.2071e-02, -6.3899e-02,  7.7912e-02]],\n              \n                       [[ 5.1336e-02,  5.5576e-02, -3.1410e-02],\n                        [-1.8151e-02, -2.7014e-02,  7.2489e-02],\n                        [-4.5504e-02,  6.6394e-02,  7.2679e-02]],\n              \n                       [[-9.6403e-02,  6.4369e-04, -2.0076e-02],\n                        [-5.8273e-02,  4.5507e-02, -1.2807e-02],\n                        [ 9.2287e-02, -6.5976e-02,  4.8976e-02]],\n              \n                       [[-8.9998e-02, -5.2833e-02,  7.1903e-03],\n                        [ 8.3283e-02,  5.5521e-02, -8.6550e-02],\n                        [ 1.1676e-02, -6.2138e-02,  4.5674e-03]]]])),\n             ('conv_block_2.0.bias',\n              tensor([-0.0878, -0.0309,  0.0723, -0.0967, -0.1005,  0.0192,  0.0144, -0.0193,\n                       0.0920, -0.0635])),\n             ('conv_block_2.2.weight',\n              tensor([[[[-6.3992e-02, -7.8791e-02, -1.9619e-02],\n                        [-2.6901e-02,  6.5222e-02, -5.9186e-03],\n                        [ 3.3663e-02, -4.3804e-02,  8.5507e-02]],\n              \n                       [[ 8.8862e-02, -9.4401e-02, -2.7090e-02],\n                        [-8.9439e-02,  4.4781e-02, -9.2094e-02],\n                        [-4.9839e-02,  1.0532e-01, -1.0066e-01]],\n              \n                       [[ 7.7771e-02,  8.9049e-03,  8.4289e-02],\n                        [-5.3494e-02,  6.9236e-02,  1.2718e-02],\n                        [ 8.1073e-03,  7.1945e-02, -1.0019e-01]],\n              \n                       [[-8.4902e-02,  1.0180e-01, -6.3298e-02],\n                        [-7.5980e-02, -5.1539e-03, -3.3742e-02],\n                        [-1.4421e-02, -7.0623e-02,  3.8034e-02]],\n              \n                       [[-9.0703e-02,  8.5374e-03,  6.1510e-02],\n                        [ 2.0253e-02,  1.4006e-02,  1.5418e-02],\n                        [-3.0880e-02, -2.0080e-02, -4.4450e-02]],\n              \n                       [[-7.1207e-02, -5.5810e-02,  1.0420e-01],\n                        [-1.7641e-02,  3.6924e-02,  7.2896e-02],\n                        [-8.2343e-03, -5.6707e-02, -7.1419e-02]],\n              \n                       [[-3.8833e-02,  3.7624e-02, -8.8771e-02],\n                        [-1.2870e-02,  4.0096e-02,  8.5999e-02],\n                        [ 3.1721e-02,  2.0846e-02,  7.2162e-02]],\n              \n                       [[ 4.8708e-02,  3.5661e-02, -3.2682e-02],\n                        [-8.4528e-02, -2.2769e-02, -1.9117e-02],\n                        [ 7.7410e-03, -1.1593e-02,  4.2616e-02]],\n              \n                       [[ 7.0050e-02, -4.2735e-02, -1.0002e-01],\n                        [-5.4081e-02, -5.0436e-02,  5.9750e-02],\n                        [-6.7994e-02, -9.9145e-03, -2.2340e-02]],\n              \n                       [[-6.3976e-02,  4.7780e-02, -4.3909e-02],\n                        [-5.4531e-03, -7.4112e-02, -1.0632e-02],\n                        [ 1.4977e-02, -4.2894e-03, -3.9386e-02]]],\n              \n              \n                      [[[ 3.1315e-02, -2.7311e-02, -5.8439e-02],\n                        [-7.7732e-02, -2.2329e-02, -9.9578e-02],\n                        [ 8.7492e-02, -5.0357e-02, -4.3684e-02]],\n              \n                       [[ 9.7439e-03,  2.7326e-02, -9.9393e-03],\n                        [ 7.2313e-02, -6.1448e-02,  3.7777e-02],\n                        [-2.3773e-04, -8.5747e-02, -4.0824e-02]],\n              \n                       [[ 2.6825e-02,  2.0138e-02,  7.6647e-02],\n                        [ 7.0518e-02, -5.7493e-02, -4.5013e-02],\n                        [-2.2351e-02, -7.5517e-02, -2.8459e-02]],\n              \n                       [[-8.6258e-02,  4.0092e-02,  7.4583e-02],\n                        [ 8.3459e-03, -7.5460e-02, -7.9827e-02],\n                        [-4.1036e-02,  3.0659e-02,  2.5711e-03]],\n              \n                       [[ 1.9166e-02,  9.9346e-02,  4.8956e-02],\n                        [ 2.2665e-02, -2.1327e-02,  4.9864e-02],\n                        [ 3.8563e-02, -9.4879e-02, -6.2266e-02]],\n              \n                       [[ 3.5381e-03,  3.9997e-02,  5.1282e-02],\n                        [-6.2748e-02, -1.0458e-01, -5.4909e-03],\n                        [-1.2050e-02,  3.0588e-02, -2.8988e-02]],\n              \n                       [[ 8.0588e-02,  7.0333e-03,  7.6975e-02],\n                        [-7.3398e-02,  4.2167e-02,  1.2560e-02],\n                        [-5.2720e-02,  5.2256e-02, -1.0372e-01]],\n              \n                       [[ 8.5220e-02,  8.4947e-03,  1.0178e-02],\n                        [ 4.8746e-02,  8.7503e-03,  4.5184e-02],\n                        [ 6.7063e-02, -8.2268e-02,  6.9735e-02]],\n              \n                       [[-1.5784e-02, -2.4513e-02,  2.1217e-02],\n                        [ 8.2446e-02, -5.7302e-02, -7.1039e-02],\n                        [ 6.5418e-02, -4.9507e-02,  3.3937e-02]],\n              \n                       [[-1.5530e-02,  2.9014e-02,  8.0439e-02],\n                        [-5.3421e-02, -5.1151e-02,  5.1716e-02],\n                        [ 5.7714e-03, -1.1601e-02, -9.2590e-02]]],\n              \n              \n                      [[[ 8.9309e-02, -3.9919e-03, -1.9415e-02],\n                        [-4.3269e-02, -2.0801e-02,  5.1233e-02],\n                        [-2.4227e-03,  9.0147e-02, -6.0858e-03]],\n              \n                       [[-1.5122e-02,  5.9498e-02, -2.7275e-03],\n                        [-2.1039e-02,  3.5231e-02,  8.3129e-02],\n                        [ 2.6305e-02,  7.3398e-02,  6.8309e-02]],\n              \n                       [[ 2.9810e-02,  3.6650e-02,  3.4014e-02],\n                        [ 1.0934e-02,  8.9675e-02,  9.7308e-02],\n                        [ 3.7524e-02, -5.2640e-03,  9.4509e-02]],\n              \n                       [[-8.2042e-02,  7.7453e-02,  5.5849e-02],\n                        [ 6.7687e-02, -8.0992e-03, -7.8646e-02],\n                        [ 7.5193e-02, -4.6091e-02,  2.7734e-02]],\n              \n                       [[ 5.9719e-02, -9.8508e-02,  6.9954e-03],\n                        [-3.7444e-02,  7.4815e-02, -6.7114e-02],\n                        [ 6.4001e-02,  6.5730e-02,  5.8156e-02]],\n              \n                       [[ 1.0119e-01,  1.5964e-02, -9.5541e-02],\n                        [ 7.5248e-02,  9.6499e-03,  2.0918e-03],\n                        [-1.0041e-01, -2.3691e-02, -5.1162e-02]],\n              \n                       [[ 1.0324e-01,  7.5054e-02,  7.8634e-02],\n                        [ 7.2188e-02, -6.5340e-02, -4.5270e-02],\n                        [-4.1252e-02, -4.2257e-02,  8.2054e-02]],\n              \n                       [[ 3.5815e-02,  8.4470e-02, -4.9309e-03],\n                        [-9.3965e-02, -3.0582e-02,  7.4081e-02],\n                        [ 6.4174e-02,  3.2632e-02, -3.0919e-02]],\n              \n                       [[-9.8386e-02, -5.6639e-02,  5.4958e-02],\n                        [-4.2518e-02,  5.0421e-02,  2.8781e-02],\n                        [-4.0486e-02,  6.4202e-02, -3.3871e-02]],\n              \n                       [[-3.5020e-03, -4.0152e-02, -9.9988e-02],\n                        [ 1.6996e-02,  3.0460e-02, -5.3072e-02],\n                        [ 6.4663e-02, -9.4558e-02, -1.0161e-01]]],\n              \n              \n                      [[[-6.5106e-02, -3.6430e-02, -1.1707e-02],\n                        [-2.0370e-02,  4.8108e-02, -9.2510e-02],\n                        [ 1.5521e-02,  1.8254e-03,  2.7842e-02]],\n              \n                       [[ 1.0479e-01,  6.4874e-02, -5.8366e-02],\n                        [-8.6378e-02, -2.5520e-02, -5.2876e-02],\n                        [ 3.6820e-02,  9.6628e-04,  8.4783e-02]],\n              \n                       [[ 4.1405e-02, -1.9382e-02,  3.6229e-03],\n                        [ 2.5244e-02, -1.3080e-02,  8.5058e-02],\n                        [-8.2420e-02,  5.1377e-02, -6.7192e-02]],\n              \n                       [[-9.2347e-02, -2.1640e-02,  5.1366e-02],\n                        [ 7.4478e-02,  2.6452e-02, -9.1104e-03],\n                        [-5.9092e-03, -4.2731e-02, -9.4592e-03]],\n              \n                       [[-7.2831e-03,  8.9699e-02,  6.1690e-02],\n                        [-8.4351e-02,  4.3605e-04, -6.4834e-02],\n                        [-1.6733e-02, -8.3776e-02,  2.7402e-02]],\n              \n                       [[-7.6008e-02,  1.0406e-01,  7.9605e-02],\n                        [-7.2559e-02, -9.9239e-02,  4.1128e-03],\n                        [-2.9425e-02,  3.0945e-02, -7.1353e-02]],\n              \n                       [[ 4.3148e-02, -9.1047e-02, -5.5632e-02],\n                        [-5.5414e-02,  5.1007e-02, -2.7597e-03],\n                        [-1.0130e-01, -6.0201e-02, -4.8781e-02]],\n              \n                       [[-9.7802e-02,  1.3497e-02,  3.7561e-02],\n                        [-1.9340e-02, -4.1947e-02, -6.3926e-04],\n                        [-8.3725e-02, -6.4184e-02, -2.4040e-03]],\n              \n                       [[ 9.3643e-02, -3.2414e-02,  5.2247e-02],\n                        [-4.1484e-02, -2.8060e-02, -1.0034e-01],\n                        [ 8.7330e-02,  1.0264e-01, -2.2139e-03]],\n              \n                       [[ 6.6974e-02,  8.6219e-02,  5.2359e-02],\n                        [ 5.4288e-02, -1.0035e-01, -9.9050e-02],\n                        [-8.0906e-02,  3.2970e-02, -9.1177e-02]]],\n              \n              \n                      [[[-8.0464e-02, -5.1092e-02, -9.7154e-02],\n                        [ 1.4203e-04,  1.5207e-02, -6.1686e-02],\n                        [ 6.9018e-02, -4.0018e-02, -2.9676e-02]],\n              \n                       [[ 8.0309e-02,  9.0499e-02, -1.2093e-02],\n                        [-7.5671e-02, -5.2881e-02,  1.3423e-02],\n                        [ 6.1790e-02,  5.2477e-02, -4.6547e-02]],\n              \n                       [[-9.9650e-02, -9.2249e-02, -3.3537e-02],\n                        [ 1.3223e-03, -4.7347e-02, -8.3348e-02],\n                        [ 1.1109e-02, -8.3668e-02, -8.0946e-02]],\n              \n                       [[-8.5692e-02, -2.8563e-02,  9.3104e-02],\n                        [ 4.1207e-02, -1.2498e-02,  2.1694e-02],\n                        [ 4.1975e-02,  6.1414e-04, -8.5020e-02]],\n              \n                       [[-6.4944e-02, -7.1610e-02, -2.6766e-03],\n                        [-9.6492e-02, -1.9166e-02, -3.8545e-02],\n                        [ 1.0345e-01,  8.5679e-02,  6.1227e-02]],\n              \n                       [[ 5.9116e-03, -3.4129e-02,  2.6887e-02],\n                        [-7.2830e-02, -4.4957e-02, -2.1175e-02],\n                        [-2.4766e-02, -9.9854e-02,  4.1903e-02]],\n              \n                       [[ 8.6803e-02, -5.8141e-02,  2.8415e-02],\n                        [-1.2225e-02, -3.8445e-03,  6.1443e-03],\n                        [ 9.1346e-02,  1.4124e-02, -6.6690e-02]],\n              \n                       [[-3.7917e-02,  5.1495e-02,  3.2893e-02],\n                        [ 2.0487e-03, -1.3912e-02, -4.1012e-02],\n                        [-3.7413e-02, -5.5602e-02,  1.7273e-02]],\n              \n                       [[ 2.9603e-02,  8.0717e-02, -2.3813e-02],\n                        [ 7.5461e-03,  6.8125e-02,  4.5852e-02],\n                        [ 1.3544e-02,  3.2390e-02,  5.4714e-03]],\n              \n                       [[-9.0419e-02,  4.0636e-03, -2.3040e-02],\n                        [ 9.5123e-02,  9.5145e-02,  2.0912e-02],\n                        [ 9.4215e-02, -5.4288e-02,  9.1619e-02]]],\n              \n              \n                      [[[ 9.0756e-02, -4.0288e-03, -8.4592e-02],\n                        [-3.4015e-02, -2.8189e-02,  1.7411e-03],\n                        [-9.5569e-02,  1.9535e-02, -4.3839e-02]],\n              \n                       [[-2.6989e-02, -5.4443e-02, -2.2255e-02],\n                        [-9.7896e-02, -5.5885e-02,  9.7108e-03],\n                        [ 6.9072e-02,  9.5790e-02, -7.9737e-02]],\n              \n                       [[ 4.4264e-02, -5.9419e-02, -8.1498e-02],\n                        [-4.6417e-03, -6.0468e-02, -9.0783e-02],\n                        [-9.8509e-02, -7.0556e-02,  8.6619e-02]],\n              \n                       [[ 5.8788e-02, -4.1726e-02, -7.0553e-02],\n                        [-8.1085e-02, -6.2246e-02, -4.3376e-02],\n                        [ 6.3308e-02,  3.4496e-02, -4.0622e-02]],\n              \n                       [[ 7.2567e-02, -6.5484e-02, -8.5876e-02],\n                        [ 2.3006e-02, -5.8123e-02,  2.9987e-02],\n                        [ 8.9306e-02, -4.9849e-02, -7.3556e-02]],\n              \n                       [[ 3.9676e-02, -9.5200e-02,  9.4044e-02],\n                        [-4.9780e-02,  5.0961e-02, -8.3818e-02],\n                        [-7.1348e-02,  1.1611e-02,  3.7463e-02]],\n              \n                       [[ 8.1734e-02,  8.8158e-02, -6.0623e-03],\n                        [-1.3552e-02,  1.7424e-02, -2.4486e-02],\n                        [ 3.5882e-03, -9.9828e-02, -8.6531e-02]],\n              \n                       [[ 7.2233e-02, -6.1597e-02,  8.3008e-02],\n                        [ 1.1568e-02,  2.5676e-02,  9.5804e-02],\n                        [-5.8628e-02, -1.6640e-02,  1.8675e-02]],\n              \n                       [[ 3.6012e-02, -1.0259e-01,  3.7464e-02],\n                        [-6.2163e-02,  1.3846e-02,  7.1315e-02],\n                        [-1.0500e-02, -3.3346e-03, -7.8757e-03]],\n              \n                       [[ 8.7962e-02,  5.9907e-02,  1.7727e-02],\n                        [-6.3437e-02, -5.7241e-02,  8.3964e-02],\n                        [ 7.5834e-02,  6.1033e-02, -8.2189e-02]]],\n              \n              \n                      [[[ 8.2092e-02, -1.0076e-02,  7.7661e-02],\n                        [ 9.1553e-02,  1.1554e-02, -4.3863e-02],\n                        [ 9.9153e-02, -5.4931e-02,  6.8876e-02]],\n              \n                       [[-1.0108e-01, -3.3153e-02, -9.1902e-02],\n                        [-4.7284e-02,  4.4759e-02, -7.5529e-02],\n                        [-9.1158e-02,  7.5371e-02,  5.6270e-02]],\n              \n                       [[-1.1527e-03, -7.4309e-02, -2.7927e-02],\n                        [-3.4129e-02,  6.5100e-02, -3.4478e-02],\n                        [-3.0360e-02, -7.4720e-02, -4.9646e-02]],\n              \n                       [[ 5.7074e-02,  6.7914e-02,  1.5315e-02],\n                        [-3.9549e-02,  1.0124e-01,  2.0806e-02],\n                        [-4.0688e-02, -3.6535e-02, -1.4752e-02]],\n              \n                       [[ 4.9974e-02,  3.8555e-02,  7.6418e-02],\n                        [-4.7494e-03,  8.7183e-02, -4.2816e-02],\n                        [-4.8547e-02, -3.8927e-02, -9.8896e-02]],\n              \n                       [[-6.9195e-02, -9.5382e-02, -6.2294e-03],\n                        [ 9.9374e-04, -2.7358e-02, -7.2035e-02],\n                        [ 9.5637e-02, -3.4926e-02,  5.0233e-02]],\n              \n                       [[ 7.3408e-02, -6.9292e-02, -1.3179e-02],\n                        [ 6.0923e-02,  1.0218e-01, -1.3299e-02],\n                        [ 7.6382e-02, -8.2732e-02, -6.8489e-02]],\n              \n                       [[ 8.6682e-02, -9.9801e-03,  1.0414e-01],\n                        [ 7.6651e-03, -4.3714e-02,  1.0011e-01],\n                        [ 9.2179e-02,  9.7826e-03, -6.3900e-02]],\n              \n                       [[-4.5639e-03, -5.0693e-02,  7.6810e-02],\n                        [ 4.8829e-03,  2.2191e-02,  6.3927e-02],\n                        [ 3.4916e-02, -6.5803e-02,  8.7566e-02]],\n              \n                       [[ 6.4758e-02, -6.5073e-02,  7.9700e-02],\n                        [ 2.9905e-02, -2.0750e-02, -7.5385e-02],\n                        [-1.7490e-02, -1.0335e-01,  6.0163e-02]]],\n              \n              \n                      [[[ 7.6343e-02, -3.0347e-02,  9.7720e-02],\n                        [-3.9032e-02,  1.8051e-02, -7.3459e-02],\n                        [-4.4565e-03,  4.2610e-02,  4.5403e-02]],\n              \n                       [[-3.5346e-03, -5.3154e-02,  7.3680e-02],\n                        [ 6.9788e-02,  1.6916e-02, -4.8475e-02],\n                        [ 2.2349e-02,  2.8186e-04,  9.6302e-02]],\n              \n                       [[ 1.5621e-02,  8.1301e-03,  7.2057e-03],\n                        [ 5.6079e-02, -1.3024e-03,  9.0351e-02],\n                        [ 5.4917e-02, -7.9650e-02, -1.2070e-06]],\n              \n                       [[-8.9472e-02, -8.0934e-02,  2.0480e-02],\n                        [ 2.3687e-02, -9.2246e-03,  1.0019e-01],\n                        [-5.6627e-02, -4.4176e-02, -1.6881e-02]],\n              \n                       [[ 6.3911e-04, -8.9284e-03,  9.4909e-02],\n                        [-4.4519e-02, -5.5137e-02,  9.0599e-03],\n                        [ 7.9171e-02,  2.5019e-02,  5.6787e-02]],\n              \n                       [[ 2.0406e-02,  8.9839e-02,  6.3311e-02],\n                        [ 7.5428e-02, -1.4198e-02, -8.7268e-02],\n                        [-5.0002e-02,  3.5910e-02,  7.3950e-02]],\n              \n                       [[-4.1184e-02,  8.7218e-02,  1.5150e-02],\n                        [ 4.1869e-04,  4.1093e-03, -1.8623e-02],\n                        [ 9.8683e-02,  4.5784e-03,  6.4564e-02]],\n              \n                       [[-8.8967e-02, -5.4309e-02,  1.1852e-02],\n                        [ 8.4169e-02,  5.0184e-02,  2.0076e-02],\n                        [-1.0414e-01,  1.9816e-03, -6.9581e-02]],\n              \n                       [[-9.0006e-02,  1.4414e-02, -6.6693e-02],\n                        [ 9.5674e-02, -5.7294e-02,  3.3970e-02],\n                        [ 6.1871e-02, -8.1928e-02,  5.3946e-02]],\n              \n                       [[-1.4114e-02,  5.4619e-02,  1.0201e-01],\n                        [-4.4922e-02, -4.5653e-02,  8.3753e-02],\n                        [ 1.1722e-02, -1.0513e-02,  7.9971e-02]]],\n              \n              \n                      [[[-5.0928e-02, -5.2047e-03,  7.2403e-02],\n                        [ 4.1195e-02, -6.8180e-02,  2.7398e-02],\n                        [-8.0368e-02, -5.7245e-02,  6.7779e-02]],\n              \n                       [[-2.8093e-02, -5.3691e-02,  7.4717e-03],\n                        [ 2.5759e-02, -6.5524e-02, -7.1084e-02],\n                        [-1.0209e-01,  2.7236e-02, -6.8013e-02]],\n              \n                       [[ 8.0331e-03, -2.3576e-02, -6.8923e-02],\n                        [-3.3636e-02, -8.1027e-02, -5.5797e-02],\n                        [-3.2857e-03, -9.0116e-02, -9.2447e-02]],\n              \n                       [[ 7.8958e-02,  9.9188e-03, -4.6618e-02],\n                        [-3.5047e-03,  7.8168e-02, -8.7939e-02],\n                        [-5.5886e-02, -7.6226e-02, -7.6634e-03]],\n              \n                       [[-3.6274e-03, -8.2146e-02,  7.3163e-02],\n                        [-8.0946e-02,  9.8414e-02, -7.2560e-02],\n                        [-1.4446e-02,  1.9710e-02, -4.6852e-02]],\n              \n                       [[ 9.6939e-02, -7.2673e-02, -5.8427e-03],\n                        [-7.7398e-02,  2.9261e-02,  8.9871e-02],\n                        [ 9.7776e-02,  1.2514e-02, -5.2773e-02]],\n              \n                       [[ 1.0244e-01,  7.8667e-03,  7.1317e-02],\n                        [-5.4751e-02, -4.8920e-02, -8.7504e-02],\n                        [ 9.6990e-02,  1.7486e-02, -7.5704e-02]],\n              \n                       [[ 9.0535e-03, -4.5211e-02,  5.2659e-03],\n                        [ 3.4988e-02, -5.2308e-02,  1.8394e-02],\n                        [-6.6553e-02,  2.0312e-02, -1.0178e-01]],\n              \n                       [[ 1.6797e-02,  1.0473e-01,  9.7094e-02],\n                        [ 3.8451e-02,  7.7563e-02,  1.0248e-01],\n                        [ 2.9870e-02,  3.5156e-02,  1.3707e-02]],\n              \n                       [[ 9.3322e-02,  9.0551e-02, -4.9570e-02],\n                        [-4.3333e-03, -5.3110e-02,  3.7824e-02],\n                        [-1.0214e-01,  3.7301e-02, -2.8929e-02]]],\n              \n              \n                      [[[ 3.8227e-02,  3.2899e-02, -5.2454e-02],\n                        [ 5.4687e-02,  4.4762e-02, -8.9602e-02],\n                        [ 1.0517e-01,  9.0731e-02,  6.5584e-02]],\n              \n                       [[-1.0699e-02,  3.7345e-02, -5.7028e-02],\n                        [-3.5818e-02,  4.9749e-02,  4.6925e-02],\n                        [ 4.1741e-02, -1.0053e-01,  8.7350e-02]],\n              \n                       [[-4.4028e-02,  9.1223e-02,  8.6852e-02],\n                        [ 3.9070e-02,  1.0502e-01,  6.0528e-02],\n                        [ 6.1821e-02, -3.5794e-02,  9.7766e-02]],\n              \n                       [[ 2.7627e-02,  6.2280e-02, -2.3834e-02],\n                        [ 7.6340e-02,  9.3509e-02, -8.0770e-02],\n                        [ 8.6415e-02, -6.9664e-02, -7.2571e-02]],\n              \n                       [[-8.8089e-02,  3.0459e-02, -7.9144e-02],\n                        [-3.9680e-02, -5.2988e-02,  2.8172e-02],\n                        [-1.0349e-01, -4.8324e-02,  7.7112e-04]],\n              \n                       [[ 9.4660e-03, -4.7605e-02,  3.7764e-02],\n                        [-6.9544e-02, -8.9270e-02, -1.4986e-02],\n                        [-5.6989e-02,  6.6443e-02, -7.2049e-02]],\n              \n                       [[-8.8494e-03,  4.3782e-02, -9.2311e-02],\n                        [ 8.1599e-02, -4.7895e-02, -2.8684e-02],\n                        [-6.4480e-02, -3.9279e-02, -4.0645e-02]],\n              \n                       [[-9.3801e-02,  3.6019e-02, -3.3768e-04],\n                        [ 1.0311e-01,  7.1117e-02,  9.1699e-02],\n                        [ 3.1014e-02,  5.5388e-02,  9.8704e-02]],\n              \n                       [[ 8.6545e-02, -8.0996e-02, -2.3636e-02],\n                        [-1.0166e-01,  3.9877e-03, -3.7229e-02],\n                        [ 9.1486e-02,  1.6666e-02,  1.1601e-03]],\n              \n                       [[-7.6248e-02, -8.2718e-02,  1.6594e-02],\n                        [-5.2376e-02, -4.8409e-02,  7.3938e-02],\n                        [-5.4952e-02, -4.6918e-02,  8.0934e-02]]]])),\n             ('conv_block_2.2.bias',\n              tensor([ 0.0412, -0.0599,  0.0319,  0.0531, -0.0936,  0.0197,  0.0241, -0.0041,\n                       0.1011, -0.0697])),\n             ('classifier.1.weight',\n              tensor([[ 0.0245, -0.0240, -0.0387,  ...,  0.0094, -0.0015, -0.0225],\n                      [ 0.0228,  0.0067, -0.0439,  ..., -0.0302,  0.0368,  0.0293],\n                      [ 0.0303,  0.0347, -0.0211,  ...,  0.0207, -0.0423, -0.0240],\n                      ...,\n                      [-0.0359, -0.0343,  0.0166,  ...,  0.0324,  0.0113, -0.0143],\n                      [-0.0294, -0.0316,  0.0251,  ..., -0.0056,  0.0300, -0.0396],\n                      [-0.0246, -0.0035, -0.0046,  ..., -0.0146, -0.0358,  0.0175]])),\n             ('classifier.1.bias',\n              tensor([ 0.0320, -0.0445,  0.0246, -0.0357, -0.0442,  0.0156, -0.0010, -0.0277,\n                       0.0404,  0.0037]))])"
     },
     "execution_count": 222,
     "metadata": {},
     "output_type": "execute_result"
    }
   ],
   "source": [
    "model_2.state_dict()"
   ],
   "metadata": {
    "collapsed": false,
    "ExecuteTime": {
     "end_time": "2023-08-21T14:09:12.575217500Z",
     "start_time": "2023-08-21T14:09:12.336582300Z"
    }
   },
   "id": "51e13f3065d0dcee"
  },
  {
   "cell_type": "markdown",
   "source": [
    "### 7.4 Training and testing `model_2` using our training and test functions"
   ],
   "metadata": {
    "collapsed": false
   },
   "id": "c2d5530539eea5bb"
  },
  {
   "cell_type": "code",
   "execution_count": 223,
   "outputs": [
    {
     "data": {
      "text/plain": "  0%|          | 0/3 [00:00<?, ?it/s]",
      "application/vnd.jupyter.widget-view+json": {
       "version_major": 2,
       "version_minor": 0,
       "model_id": "0ee5ce9f7280488d9372e918423955e5"
      }
     },
     "metadata": {},
     "output_type": "display_data"
    },
    {
     "name": "stdout",
     "output_type": "stream",
     "text": [
      "Epochs: 0\n",
      "-------\n",
      "Train loss: 0.59126 | Train acc: 78.49%\n",
      "Test loss: 0.39599 | Test acc: 86.01%\n",
      "\n",
      "Epochs: 1\n",
      "-------\n",
      "Train loss: 0.35998 | Train acc: 87.10%\n",
      "Test loss: 0.35612 | Test acc: 86.89%\n",
      "\n",
      "Epochs: 2\n",
      "-------\n",
      "Train loss: 0.32228 | Train acc: 88.32%\n",
      "Test loss: 0.33301 | Test acc: 88.16%\n",
      "\n",
      "Train time on cpu: 189.811 seconds\n"
     ]
    }
   ],
   "source": [
    "torch.manual_seed(42)\n",
    "torch.cuda.manual_seed(42)\n",
    "\n",
    "# Measure time\n",
    "from timeit import default_timer as timer\n",
    "train_time_start_model_2 = timer()\n",
    "\n",
    "# Train and test model\n",
    "epochs = 3\n",
    "for epoch in tqdm(range(epochs)):\n",
    "    print(f\"Epochs: {epoch}\\n-------\")\n",
    "    train_step(model=model_2,\n",
    "               data_loader=train_dataloader,\n",
    "               loss_fn=loss_fn,\n",
    "               optimizer=optimizer,\n",
    "               accuracy_fn=accuracy_fn,\n",
    "               device=device)\n",
    "    test_step(model=model_2,\n",
    "              data_loader=test_dataloader,\n",
    "              loss_fn=loss_fn,\n",
    "              accuracy_fn=accuracy_fn,\n",
    "              device=device)\n",
    "\n",
    "train_time_end_model_2 = timer()\n",
    "total_train_time_model_2 = print_train_time(start=train_time_start_model_2,\n",
    "                                            end=train_time_end_model_2,\n",
    "                                            device=device)"
   ],
   "metadata": {
    "collapsed": false,
    "ExecuteTime": {
     "end_time": "2023-08-21T14:12:22.354474600Z",
     "start_time": "2023-08-21T14:09:12.496653900Z"
    }
   },
   "id": "cd00b492088de046"
  },
  {
   "cell_type": "code",
   "execution_count": 224,
   "outputs": [
    {
     "data": {
      "text/plain": "  0%|          | 0/313 [00:00<?, ?it/s]",
      "application/vnd.jupyter.widget-view+json": {
       "version_major": 2,
       "version_minor": 0,
       "model_id": "b67b1e0ace344aacbd77b8cf536057a0"
      }
     },
     "metadata": {},
     "output_type": "display_data"
    },
    {
     "data": {
      "text/plain": "{'model_name': 'FashionMNISTModelV2',\n 'model_loss': 0.3330090641975403,\n 'model_acc': 88.15894568690096}"
     },
     "execution_count": 224,
     "metadata": {},
     "output_type": "execute_result"
    }
   ],
   "source": [
    "# Get model_2 results\n",
    "model_2_results = eval_model(\n",
    "    model=model_2,\n",
    "    data_loader=test_dataloader,\n",
    "    loss_fn=loss_fn,\n",
    "    accuracy_fn=accuracy_fn,\n",
    "    device=device\n",
    ")\n",
    "\n",
    "model_2_results"
   ],
   "metadata": {
    "collapsed": false,
    "ExecuteTime": {
     "end_time": "2023-08-21T14:34:31.154194400Z",
     "start_time": "2023-08-21T14:34:21.703165300Z"
    }
   },
   "id": "ef46ca399ecb1d47"
  },
  {
   "cell_type": "code",
   "execution_count": 225,
   "outputs": [
    {
     "data": {
      "text/plain": "{'model_name': 'FashionMNISTModelV0',\n 'model_loss': 0.47663894295692444,\n 'model_acc': 83.42651757188499}"
     },
     "execution_count": 225,
     "metadata": {},
     "output_type": "execute_result"
    }
   ],
   "source": [
    "model_0_results"
   ],
   "metadata": {
    "collapsed": false,
    "ExecuteTime": {
     "end_time": "2023-08-21T14:34:31.301915600Z",
     "start_time": "2023-08-21T14:34:31.163254700Z"
    }
   },
   "id": "5e1dc3ace993f9a6"
  },
  {
   "cell_type": "markdown",
   "source": [
    "## 8. Compare model results and training time"
   ],
   "metadata": {
    "collapsed": false
   },
   "id": "35957de2ab19752f"
  },
  {
   "cell_type": "code",
   "execution_count": 227,
   "outputs": [
    {
     "data": {
      "text/plain": "            model_name  model_loss  model_acc\n0  FashionMNISTModelV0    0.476639  83.426518\n1  FashionMNISTModelV1    0.685001  75.019968\n2  FashionMNISTModelV2    0.333009  88.158946",
      "text/html": "<div>\n<style scoped>\n    .dataframe tbody tr th:only-of-type {\n        vertical-align: middle;\n    }\n\n    .dataframe tbody tr th {\n        vertical-align: top;\n    }\n\n    .dataframe thead th {\n        text-align: right;\n    }\n</style>\n<table border=\"1\" class=\"dataframe\">\n  <thead>\n    <tr style=\"text-align: right;\">\n      <th></th>\n      <th>model_name</th>\n      <th>model_loss</th>\n      <th>model_acc</th>\n    </tr>\n  </thead>\n  <tbody>\n    <tr>\n      <th>0</th>\n      <td>FashionMNISTModelV0</td>\n      <td>0.476639</td>\n      <td>83.426518</td>\n    </tr>\n    <tr>\n      <th>1</th>\n      <td>FashionMNISTModelV1</td>\n      <td>0.685001</td>\n      <td>75.019968</td>\n    </tr>\n    <tr>\n      <th>2</th>\n      <td>FashionMNISTModelV2</td>\n      <td>0.333009</td>\n      <td>88.158946</td>\n    </tr>\n  </tbody>\n</table>\n</div>"
     },
     "execution_count": 227,
     "metadata": {},
     "output_type": "execute_result"
    }
   ],
   "source": [
    "import pandas as pd\n",
    "compare_results = pd.DataFrame([model_0_results,\n",
    "                                model_1_results,\n",
    "                                model_2_results])\n",
    "compare_results"
   ],
   "metadata": {
    "collapsed": false,
    "ExecuteTime": {
     "end_time": "2023-08-21T14:36:33.747258300Z",
     "start_time": "2023-08-21T14:36:29.027109400Z"
    }
   },
   "id": "5d05e4463f3a4783"
  },
  {
   "cell_type": "code",
   "execution_count": 228,
   "outputs": [
    {
     "data": {
      "text/plain": "            model_name  model_loss  model_acc  training_time\n0  FashionMNISTModelV0    0.476639  83.426518      56.452040\n1  FashionMNISTModelV1    0.685001  75.019968      42.930974\n2  FashionMNISTModelV2    0.333009  88.158946     189.811097",
      "text/html": "<div>\n<style scoped>\n    .dataframe tbody tr th:only-of-type {\n        vertical-align: middle;\n    }\n\n    .dataframe tbody tr th {\n        vertical-align: top;\n    }\n\n    .dataframe thead th {\n        text-align: right;\n    }\n</style>\n<table border=\"1\" class=\"dataframe\">\n  <thead>\n    <tr style=\"text-align: right;\">\n      <th></th>\n      <th>model_name</th>\n      <th>model_loss</th>\n      <th>model_acc</th>\n      <th>training_time</th>\n    </tr>\n  </thead>\n  <tbody>\n    <tr>\n      <th>0</th>\n      <td>FashionMNISTModelV0</td>\n      <td>0.476639</td>\n      <td>83.426518</td>\n      <td>56.452040</td>\n    </tr>\n    <tr>\n      <th>1</th>\n      <td>FashionMNISTModelV1</td>\n      <td>0.685001</td>\n      <td>75.019968</td>\n      <td>42.930974</td>\n    </tr>\n    <tr>\n      <th>2</th>\n      <td>FashionMNISTModelV2</td>\n      <td>0.333009</td>\n      <td>88.158946</td>\n      <td>189.811097</td>\n    </tr>\n  </tbody>\n</table>\n</div>"
     },
     "execution_count": 228,
     "metadata": {},
     "output_type": "execute_result"
    }
   ],
   "source": [
    "# Add training time to results comparison\n",
    "compare_results[\"training_time\"] = [total_train_time_model_0,\n",
    "                                    total_train_time_model_1,\n",
    "                                    total_train_time_model_2]\n",
    "compare_results"
   ],
   "metadata": {
    "collapsed": false,
    "ExecuteTime": {
     "end_time": "2023-08-21T14:38:23.937184900Z",
     "start_time": "2023-08-21T14:38:23.593688700Z"
    }
   },
   "id": "b7aa7111927827e6"
  },
  {
   "cell_type": "code",
   "execution_count": 229,
   "outputs": [
    {
     "data": {
      "text/plain": "Text(0, 0.5, 'model')"
     },
     "execution_count": 229,
     "metadata": {},
     "output_type": "execute_result"
    },
    {
     "data": {
      "text/plain": "<Figure size 640x480 with 1 Axes>",
      "image/png": "[encoded data removed]"
     },
     "metadata": {},
     "output_type": "display_data"
    }
   ],
   "source": [
    "# Visualize our model results\n",
    "compare_results.set_index(\"model_name\")[\"model_acc\"].plot(kind=\"barh\")\n",
    "plt.xlabel(\"accuracy (%)\")\n",
    "plt.ylabel(\"model\")"
   ],
   "metadata": {
    "collapsed": false,
    "ExecuteTime": {
     "end_time": "2023-08-21T14:41:03.064232600Z",
     "start_time": "2023-08-21T14:41:02.406617200Z"
    }
   },
   "id": "b7c5d7bf7fbbae08"
  },
  {
   "cell_type": "markdown",
   "source": [
    "## 9. Make and evaluate random predictions with best model"
   ],
   "metadata": {
    "collapsed": false
   },
   "id": "a365b5510a99eb25"
  },
  {
   "cell_type": "code",
   "execution_count": 238,
   "outputs": [],
   "source": [
    "def make_predictions(model: torch.nn.Module,\n",
    "                     data: list,\n",
    "                     device: torch.device = device):\n",
    "    pred_probs = []\n",
    "    model.eval()\n",
    "    with torch.inference_mode():\n",
    "        for sample in data:\n",
    "            # Prepare the sample (add a batch dimension and pass to target device)\n",
    "            sample = torch.unsqueeze(sample, dim=0).to(device)\n",
    "            \n",
    "            # Forward pass (model outputs raw logits)\n",
    "            pred_logit = model(sample)\n",
    "            \n",
    "            # Get prediction probability (logit -> prediction probability)\n",
    "            pred_prob = torch.softmax(pred_logit.squeeze(), dim=0)\n",
    "            \n",
    "            # Get pred_prob off the GPU for further calculations\n",
    "            pred_probs.append(pred_prob.cpu())\n",
    "            \n",
    "    # Stack the pred_probs to turn list into a tensor\n",
    "    return torch.stack(pred_probs)"
   ],
   "metadata": {
    "collapsed": false,
    "ExecuteTime": {
     "end_time": "2023-08-21T14:52:35.224045500Z",
     "start_time": "2023-08-21T14:52:35.060976900Z"
    }
   },
   "id": "e6f487aceef91e0c"
  },
  {
   "cell_type": "code",
   "execution_count": 251,
   "outputs": [
    {
     "data": {
      "text/plain": "torch.Size([1, 28, 28])"
     },
     "execution_count": 251,
     "metadata": {},
     "output_type": "execute_result"
    }
   ],
   "source": [
    "import random\n",
    "# random.seed(42)\n",
    "test_samples = []\n",
    "test_labels = []\n",
    "\n",
    "for sample, label in random.sample(list(test_data), k=9):\n",
    "    test_samples.append(sample)\n",
    "    test_labels.append(label)\n",
    "\n",
    "# View the first sample shape\n",
    "test_samples[0].shape"
   ],
   "metadata": {
    "collapsed": false,
    "ExecuteTime": {
     "end_time": "2023-08-21T15:02:26.303935500Z",
     "start_time": "2023-08-21T15:02:20.370018Z"
    }
   },
   "id": "839a7934ecc31cf1"
  },
  {
   "cell_type": "code",
   "execution_count": 252,
   "outputs": [
    {
     "data": {
      "text/plain": "Text(0.5, 1.0, 'Pullover')"
     },
     "execution_count": 252,
     "metadata": {},
     "output_type": "execute_result"
    },
    {
     "data": {
      "text/plain": "<Figure size 640x480 with 1 Axes>",
      "image/png": "[encoded data removed]"
     },
     "metadata": {},
     "output_type": "display_data"
    }
   ],
   "source": [
    "plt.imshow(test_samples[0].squeeze(), cmap=\"gray\")\n",
    "plt.title(class_names[test_labels[0]])"
   ],
   "metadata": {
    "collapsed": false,
    "ExecuteTime": {
     "end_time": "2023-08-21T15:02:26.744877800Z",
     "start_time": "2023-08-21T15:02:26.296904900Z"
    }
   },
   "id": "1645eecb46c8f1ed"
  },
  {
   "cell_type": "code",
   "execution_count": 253,
   "outputs": [
    {
     "data": {
      "text/plain": "tensor([[2.8825e-02, 2.0798e-03, 4.8261e-01, 4.1815e-03, 4.4402e-01, 1.5318e-04,\n         1.0451e-02, 5.4909e-05, 2.7604e-02, 2.1202e-05],\n        [1.2576e-04, 1.9420e-06, 5.9339e-03, 9.9999e-05, 9.9110e-01, 1.4959e-07,\n         2.4833e-03, 2.3077e-07, 2.5660e-04, 2.0637e-07]])"
     },
     "execution_count": 253,
     "metadata": {},
     "output_type": "execute_result"
    }
   ],
   "source": [
    "# Make predictions\n",
    "pred_probs = make_predictions(model=model_2,\n",
    "                              data=test_samples)\n",
    "\n",
    "# View first two prediction probabilities\n",
    "pred_probs[:2]"
   ],
   "metadata": {
    "collapsed": false,
    "ExecuteTime": {
     "end_time": "2023-08-21T15:02:26.804302100Z",
     "start_time": "2023-08-21T15:02:26.742882900Z"
    }
   },
   "id": "62907099354fa15"
  },
  {
   "cell_type": "code",
   "execution_count": 254,
   "outputs": [
    {
     "data": {
      "text/plain": "tensor([2, 4, 4, 3, 2, 2, 0, 1, 1])"
     },
     "execution_count": 254,
     "metadata": {},
     "output_type": "execute_result"
    }
   ],
   "source": [
    "# Convert prediction probabilities to labels\n",
    "pred_classes = pred_probs.argmax(dim=1)\n",
    "pred_classes"
   ],
   "metadata": {
    "collapsed": false,
    "ExecuteTime": {
     "end_time": "2023-08-21T15:02:26.883805600Z",
     "start_time": "2023-08-21T15:02:26.786934600Z"
    }
   },
   "id": "604b883390bab775"
  },
  {
   "cell_type": "code",
   "execution_count": 255,
   "outputs": [
    {
     "data": {
      "text/plain": "[2, 4, 6, 3, 2, 2, 0, 1, 1]"
     },
     "execution_count": 255,
     "metadata": {},
     "output_type": "execute_result"
    }
   ],
   "source": [
    "test_labels"
   ],
   "metadata": {
    "collapsed": false,
    "ExecuteTime": {
     "end_time": "2023-08-21T15:02:26.982119Z",
     "start_time": "2023-08-21T15:02:26.817142900Z"
    }
   },
   "id": "84eeedf8e25d390c"
  },
  {
   "cell_type": "code",
   "execution_count": 256,
   "outputs": [
    {
     "data": {
      "text/plain": "<Figure size 900x900 with 9 Axes>",
      "image/png": "[encoded data removed]"
     },
     "metadata": {},
     "output_type": "display_data"
    }
   ],
   "source": [
    "# Plot predictions\n",
    "plt.figure(figsize=(9, 9))\n",
    "nrows = 3\n",
    "ncols = 3\n",
    "for i, sample in enumerate(test_samples):\n",
    "    # Create subplot\n",
    "    plt.subplot(nrows, ncols, i+1)\n",
    "    \n",
    "    # Plot the target image\n",
    "    plt.imshow(sample.squeeze(), cmap=\"gray\")\n",
    "    \n",
    "    # Find the predictions (in text form, e.g \"Sandal\")\n",
    "    pred_label = class_names[pred_classes[i]]\n",
    "    \n",
    "    # Get the truth label (in text form)\n",
    "    truth_label = class_names[test_labels[i]]\n",
    "    \n",
    "    # Create a title for the plot\n",
    "    title_text = f\"Pred: {pred_label} | Truth: {truth_label}\"\n",
    "    \n",
    "    # Check for equiality between pred and truth and change color of title text\n",
    "    if pred_label == truth_label:\n",
    "        plt.title(title_text, fontsize=10, c=\"g\") # green text if prediction same as truth\n",
    "    else:\n",
    "        plt.title(title_text, fontsize=10, c=\"r\")\n",
    "        \n",
    "    plt.axis(False)"
   ],
   "metadata": {
    "collapsed": false,
    "ExecuteTime": {
     "end_time": "2023-08-21T15:02:28.386837900Z",
     "start_time": "2023-08-21T15:02:26.842123600Z"
    }
   },
   "id": "9e76b84fb40fec60"
  },
  {
   "cell_type": "markdown",
   "source": [
    "## 10. Making a confusion matrix for further prediction evaluation\n",
    "\n",
    "A confusion matrix is a fantastic way of evaluating your classification models visually: https://www.learnpytorch.io/02_pytorch_classification/#9-more-classification-evaluation-metrics\n",
    "\n",
    "1. Make predictions with our trained model on the test dataset\n",
    "2. Make a confusion matrix `torchmetrics.ConfusionMatrix` - https://torchmetrics.readthedocs.io/en/stable/classification/confusion_matrix.html\n",
    "3. Plot the confusion matrix using `mlxtend.plotting.plot_confusion_matrix()` - http://rasbt.github.io/mlxtend/user_guide/plotting/plot_confusion_matrix/\n"
   ],
   "metadata": {
    "collapsed": false
   },
   "id": "c6510231976d31fd"
  },
  {
   "cell_type": "code",
   "execution_count": 262,
   "outputs": [
    {
     "data": {
      "text/plain": "Making predictions...:   0%|          | 0/313 [00:00<?, ?it/s]",
      "application/vnd.jupyter.widget-view+json": {
       "version_major": 2,
       "version_minor": 0,
       "model_id": "d09b5f0421764602a9d5c449f14e8ba8"
      }
     },
     "metadata": {},
     "output_type": "display_data"
    },
    {
     "data": {
      "text/plain": "tensor([3, 2, 7, 5, 0, 4, 5, 2, 8, 9])"
     },
     "execution_count": 262,
     "metadata": {},
     "output_type": "execute_result"
    }
   ],
   "source": [
    "# Import tqdm.auto\n",
    "from tqdm.auto import tqdm\n",
    "\n",
    "# 1. Make predictions with trained model\n",
    "y_preds = []\n",
    "model_2.eval()\n",
    "with torch.inference_mode():\n",
    "    for X, y in tqdm(test_dataloader, desc=\"Making predictions...\"):\n",
    "        # Send the data and targets to target device\n",
    "        X, y = X.to(device), y.to(device)\n",
    "        # Do the forward pass\n",
    "        y_logit = model_2(X)\n",
    "        # Turn predictions from logits -> prediction probabilities -> prediction labels\n",
    "        y_pred = torch.softmax(y_logit.squeeze(), dim=0).argmax(dim=1)\n",
    "        # Put prediction on CPU for evaluation\n",
    "        y_preds.append(y_pred.cpu())\n",
    "\n",
    "# Concatenate list of predictions into a tensor\n",
    "# print(y_preds)\n",
    "y_pred_tensor = torch.cat(y_preds)\n",
    "y_pred[:10]"
   ],
   "metadata": {
    "collapsed": false,
    "ExecuteTime": {
     "end_time": "2023-08-21T15:16:18.623899500Z",
     "start_time": "2023-08-21T15:16:05.166678500Z"
    }
   },
   "id": "ce10731c7b80a795"
  },
  {
   "cell_type": "code",
   "execution_count": 264,
   "outputs": [
    {
     "data": {
      "text/plain": "10000"
     },
     "execution_count": 264,
     "metadata": {},
     "output_type": "execute_result"
    }
   ],
   "source": [
    "len(y_pred_tensor)"
   ],
   "metadata": {
    "collapsed": false,
    "ExecuteTime": {
     "end_time": "2023-08-21T15:16:38.719633Z",
     "start_time": "2023-08-21T15:16:38.387442600Z"
    }
   },
   "id": "8c1a7b34acf7a442"
  },
  {
   "cell_type": "code",
   "execution_count": 281,
   "outputs": [
    {
     "name": "stdout",
     "output_type": "stream",
     "text": [
      "mlxtend version: 0.22.0\n"
     ]
    }
   ],
   "source": [
    "# See if required packages are installed and if not, install them...\n",
    "try:\n",
    "    import torchmetrics, mlxtend\n",
    "    print(f\"mlxtend version: {mlxtend.__version__}\")\n",
    "    assert int(mlxtend.__version__.split(\".\")[1]) >= 19, \"mlxtend version should be 0.19.0 or higher\"\n",
    "except:\n",
    "    !pip install torchmetrics -U mlxtend\n",
    "    import torchmetrics, mlxtend\n",
    "    print(f\"mlxtend version: {mlxtend.__version__}\")"
   ],
   "metadata": {
    "collapsed": false,
    "ExecuteTime": {
     "end_time": "2023-08-21T15:23:38.371811200Z",
     "start_time": "2023-08-21T15:23:38.177474400Z"
    }
   },
   "id": "1b04b8342328f159"
  },
  {
   "cell_type": "code",
   "execution_count": 282,
   "outputs": [
    {
     "name": "stdout",
     "output_type": "stream",
     "text": [
      "0.22.0\n"
     ]
    }
   ],
   "source": [
    "import mlxtend\n",
    "print(mlxtend.__version__)"
   ],
   "metadata": {
    "collapsed": false,
    "ExecuteTime": {
     "end_time": "2023-08-21T15:26:05.543951100Z",
     "start_time": "2023-08-21T15:26:05.437371100Z"
    }
   },
   "id": "c44e19e94c28c297"
  },
  {
   "cell_type": "code",
   "execution_count": 288,
   "outputs": [
    {
     "data": {
      "text/plain": "<Figure size 1000x700 with 1 Axes>",
      "image/png": "[encoded data removed]"
     },
     "metadata": {},
     "output_type": "display_data"
    }
   ],
   "source": [
    "from torchmetrics import ConfusionMatrix\n",
    "from mlxtend.plotting import plot_confusion_matrix\n",
    "\n",
    "# 2. Setup confusion instance and compare predictions to targets\n",
    "confmat = ConfusionMatrix(task='multiclass', num_classes=len(class_names))\n",
    "confmat_tensor = confmat(preds=y_pred_tensor,\n",
    "                         target=test_data.targets)\n",
    "\n",
    "# 3. Plot the confusion matrix\n",
    "fig, ax = plot_confusion_matrix(\n",
    "    conf_mat=confmat_tensor.numpy(), # matplotlib likes working with numpy\n",
    "    class_names=class_names,\n",
    "    figsize=(10, 7)\n",
    ")"
   ],
   "metadata": {
    "collapsed": false,
    "ExecuteTime": {
     "end_time": "2023-08-21T15:30:02.848782300Z",
     "start_time": "2023-08-21T15:30:00.180054700Z"
    }
   },
   "id": "104a28a0681a6a8a"
  },
  {
   "cell_type": "code",
   "execution_count": 287,
   "outputs": [
    {
     "data": {
      "text/plain": "tensor([[635,   7,  41,  70,   9,   0, 225,   0,  13,   0],\n        [  9, 905,   7,  56,  12,   1,   5,   1,   3,   1],\n        [  9,   2, 808,  10,  90,   0,  77,   0,   4,   0],\n        [ 28,  17,  28, 841,  39,   0,  40,   0,   4,   3],\n        [  7,   6, 110,  45, 719,   0, 110,   0,   3,   0],\n        [  8,   1,   7,   2,   1, 849,   3,  55,  56,  18],\n        [ 70,   6, 115,  56,  88,   2, 647,   0,  16,   0],\n        [  1,   3,   0,   0,   0,  30,   0, 908,   8,  50],\n        [  4,   2,  11,  10,   6,   9,  33,   6, 918,   1],\n        [  0,   1,   0,   4,   0,  24,   5,  99,  12, 855]])"
     },
     "execution_count": 287,
     "metadata": {},
     "output_type": "execute_result"
    }
   ],
   "source": [
    "confmat_tensor"
   ],
   "metadata": {
    "collapsed": false,
    "ExecuteTime": {
     "end_time": "2023-08-21T15:28:52.543382500Z",
     "start_time": "2023-08-21T15:28:52.430864600Z"
    }
   },
   "id": "ef183cbca260ed31"
  },
  {
   "cell_type": "markdown",
   "source": [
    "## 11. Save and load best performing model"
   ],
   "metadata": {
    "collapsed": false
   },
   "id": "269fa870ae816c82"
  },
  {
   "cell_type": "code",
   "execution_count": 292,
   "outputs": [
    {
     "name": "stdout",
     "output_type": "stream",
     "text": [
      "Saving model to: models\\03_pytorch_computer_vision_model_2.pth\n"
     ]
    }
   ],
   "source": [
    "from pathlib import Path\n",
    "\n",
    "# Create model directory path\n",
    "MODEL_PATH = Path(\"models\")\n",
    "MODEL_PATH.mkdir(parents=True,\n",
    "                 exist_ok=True)\n",
    "\n",
    "# Create model save\n",
    "MODEL_NAME = \"03_pytorch_computer_vision_model_2.pth\"\n",
    "MODEL_SAVE_PATH = MODEL_PATH / MODEL_NAME\n",
    "\n",
    "# Save the model state dict\n",
    "print(f\"Saving model to: {MODEL_SAVE_PATH}\")\n",
    "torch.save(obj=model_2.state_dict(),\n",
    "           f=MODEL_SAVE_PATH)"
   ],
   "metadata": {
    "collapsed": false,
    "ExecuteTime": {
     "end_time": "2023-08-21T15:36:45.809981400Z",
     "start_time": "2023-08-21T15:36:45.620672200Z"
    }
   },
   "id": "61a3492d4885a4b9"
  },
  {
   "cell_type": "code",
   "execution_count": 291,
   "outputs": [
    {
     "data": {
      "text/plain": "OrderedDict([('conv_block_1.0.weight',\n              tensor([[[[ 0.3361,  0.3407, -0.4096],\n                        [ 0.1843,  0.1500, -0.0202],\n                        [-0.3429,  0.1469,  0.3269]]],\n              \n              \n                      [[[-0.3953,  0.4457, -0.0900],\n                        [ 0.2463,  0.3984,  0.0885],\n                        [-0.0940,  0.3540,  0.0410]]],\n              \n              \n                      [[[-0.2823, -0.0840,  0.0268],\n                        [-0.6166, -0.6576,  0.1836],\n                        [-0.7429, -0.6541, -0.1848]]],\n              \n              \n                      [[[-0.7832, -1.0922, -0.7459],\n                        [ 0.3019, -0.5532,  0.2207],\n                        [ 0.3261, -0.0063,  0.3927]]],\n              \n              \n                      [[[-0.0695,  0.3873, -0.1168],\n                        [-0.2899,  0.3148, -0.2102],\n                        [-0.1485,  0.3218,  0.1684]]],\n              \n              \n                      [[[-0.1469,  0.1923,  0.0605],\n                        [ 0.1649, -0.2051, -0.3308],\n                        [-0.1269, -0.2554,  0.2640]]],\n              \n              \n                      [[[ 0.1300,  0.0591, -0.0184],\n                        [ 0.0344,  0.1787, -0.2046],\n                        [-0.0315, -0.4875, -0.0408]]],\n              \n              \n                      [[[-0.1107,  0.0543, -0.1882],\n                        [ 0.3244, -0.2727, -0.3583],\n                        [-0.1942,  0.3808,  0.1734]]],\n              \n              \n                      [[[ 0.5282, -0.2931, -0.4829],\n                        [-0.2802, -0.3657,  0.1208],\n                        [ 0.3315,  0.4464, -0.1008]]],\n              \n              \n                      [[[-0.2272,  0.1753, -0.1356],\n                        [ 0.2001, -0.0809,  0.1884],\n                        [-0.2593, -0.1685,  0.0996]]]])),\n             ('conv_block_1.0.bias',\n              tensor([ 0.0748,  0.1292,  0.1950,  0.2467,  0.0876, -0.1929,  0.1644, -0.0968,\n                      -0.0634, -0.3252])),\n             ('conv_block_1.2.weight',\n              tensor([[[[ 7.7148e-02,  2.1955e-02, -2.5145e-02],\n                        [-1.0163e-01, -1.7245e-01, -1.7352e-01],\n                        [-5.1255e-02, -1.7376e-01, -1.7975e-01]],\n              \n                       [[-7.6912e-02, -3.4881e-02, -7.9136e-02],\n                        [-1.3972e-01, -3.2851e-01, -2.4858e-01],\n                        [-6.3639e-02, -1.8867e-01, -2.5209e-01]],\n              \n                       [[-2.8818e-02, -5.3538e-03,  1.0499e-01],\n                        [ 7.7043e-02,  2.4111e-01,  2.2278e-01],\n                        [-7.7205e-02,  2.2272e-02,  1.2305e-01]],\n              \n                       [[-2.0467e-01, -5.9232e-02, -2.2034e-01],\n                        [ 3.1416e-02, -7.8028e-03, -1.2955e-01],\n                        [ 1.9696e-01,  7.4455e-02,  6.6691e-02]],\n              \n                       [[-1.6263e-01, -1.7638e-01, -2.6572e-02],\n                        [-8.5502e-02, -3.9071e-02, -1.4552e-01],\n                        [ 1.1342e-01, -1.0471e-01, -2.6426e-02]],\n              \n                       [[ 2.2467e-02,  5.4844e-02,  8.4780e-02],\n                        [ 9.6157e-02, -8.3658e-02,  2.8468e-02],\n                        [-4.5152e-02, -1.2506e-02, -7.6985e-02]],\n              \n                       [[ 1.3007e-01, -7.5518e-02, -1.9756e-02],\n                        [ 1.2608e-01,  9.1555e-02, -4.0074e-02],\n                        [ 9.1884e-02,  2.6535e-02, -3.3055e-02]],\n              \n                       [[-8.3821e-02,  4.9037e-02, -9.7455e-03],\n                        [-4.8392e-02,  8.6896e-02,  9.9192e-03],\n                        [-4.2267e-02, -4.4363e-02, -1.6016e-02]],\n              \n                       [[ 6.9153e-02, -1.5205e-02, -4.1957e-02],\n                        [-6.9798e-02, -5.7889e-02,  5.8718e-02],\n                        [ 1.0339e-01, -5.7438e-02,  1.0910e-02]],\n              \n                       [[ 5.4452e-02,  1.9101e-02, -3.7500e-02],\n                        [ 5.5017e-02,  5.5394e-02,  3.9422e-02],\n                        [-1.8523e-02, -2.7913e-02,  1.1272e-02]]],\n              \n              \n                      [[[-2.1635e-02, -2.3326e-02,  9.4694e-02],\n                        [ 9.8397e-02,  1.6841e-02, -1.2586e-03],\n                        [-1.1723e-02, -1.6044e-02,  9.6570e-03]],\n              \n                       [[ 5.4046e-02, -5.4399e-02,  9.9689e-04],\n                        [ 1.0014e-01,  5.5922e-02,  2.6849e-03],\n                        [-1.2249e-01, -1.0305e-01, -1.1951e-01]],\n              \n                       [[-3.6349e-02,  3.2815e-02,  6.2677e-02],\n                        [ 4.1246e-02, -9.8635e-02, -6.5633e-02],\n                        [-2.4225e-02,  1.0364e-01,  2.2366e-02]],\n              \n                       [[-1.3570e-02,  2.9002e-02, -5.1648e-02],\n                        [-6.3528e-02,  7.1796e-02, -5.1902e-02],\n                        [-2.3701e-02, -1.1308e-01,  7.8275e-02]],\n              \n                       [[ 7.8497e-02,  4.1655e-02, -7.1107e-02],\n                        [-1.3379e-01, -1.0461e-01,  7.0378e-02],\n                        [ 2.1103e-02,  7.4229e-02,  4.1109e-02]],\n              \n                       [[ 2.6711e-02, -8.5842e-04, -8.0136e-02],\n                        [-8.9988e-02, -9.8358e-02,  4.3165e-02],\n                        [-5.1505e-02, -2.1351e-02, -6.0815e-02]],\n              \n                       [[-2.7476e-02, -7.7315e-02, -7.3208e-02],\n                        [ 5.8101e-02, -2.2289e-02,  7.9604e-02],\n                        [-2.9636e-03, -7.0011e-02, -1.7036e-02]],\n              \n                       [[-5.4013e-02, -3.4524e-02, -1.0180e-01],\n                        [ 5.8933e-02, -7.3014e-02,  5.4700e-02],\n                        [ 4.8245e-02,  8.0403e-02, -8.0428e-02]],\n              \n                       [[ 7.6423e-02, -4.9167e-02,  3.7745e-02],\n                        [ 9.2631e-02, -1.5230e-02, -3.8994e-03],\n                        [-1.7535e-02, -8.1200e-02,  4.5388e-02]],\n              \n                       [[-1.0464e-01,  6.5444e-02,  7.8886e-02],\n                        [ 9.9710e-02, -2.4891e-02, -8.6609e-02],\n                        [ 2.3696e-02,  5.8231e-02, -1.0492e-01]]],\n              \n              \n                      [[[-2.4670e-02, -6.4583e-02, -1.1806e-02],\n                        [-5.1252e-02, -4.2336e-02, -3.0710e-02],\n                        [-1.0229e-01,  8.7771e-02,  9.1616e-02]],\n              \n                       [[-1.6575e-02, -1.2340e-02, -4.3039e-02],\n                        [-9.5720e-02, -1.0191e-01,  3.9425e-02],\n                        [-6.1669e-02, -6.8454e-02, -6.4094e-03]],\n              \n                       [[-3.8972e-02, -3.9105e-02, -1.2945e-03],\n                        [-2.1756e-02, -3.7249e-02, -5.3134e-02],\n                        [-8.5461e-02,  8.7576e-02, -4.2191e-02]],\n              \n                       [[ 2.3864e-02, -4.0032e-02,  2.3025e-03],\n                        [ 9.5877e-02,  4.7130e-02, -8.8831e-02],\n                        [ 3.5755e-02,  9.4690e-02,  2.7464e-02]],\n              \n                       [[ 7.0175e-02,  1.0328e-01, -1.6494e-02],\n                        [ 2.0925e-02, -7.4510e-02, -2.1093e-02],\n                        [ 7.5364e-02,  5.2811e-02, -6.8081e-02]],\n              \n                       [[-8.4526e-02, -7.2027e-02, -1.0403e-01],\n                        [-8.1338e-02, -2.6125e-02,  7.1270e-02],\n                        [ 1.7623e-02, -8.0056e-02, -8.4562e-02]],\n              \n                       [[ 4.7691e-02, -8.3158e-02, -1.6876e-02],\n                        [ 4.9226e-02, -5.0937e-02, -1.1671e-02],\n                        [-1.0076e-02, -2.5532e-02, -5.3966e-02]],\n              \n                       [[-9.3962e-02, -8.5207e-02, -5.6478e-02],\n                        [ 1.0169e-01, -5.1095e-02, -7.0879e-02],\n                        [ 2.2934e-02,  2.8331e-02,  5.8150e-02]],\n              \n                       [[ 7.9972e-02,  5.8602e-02, -1.0462e-01],\n                        [ 8.8315e-03,  6.4646e-02, -9.7412e-03],\n                        [-6.5189e-02,  9.7661e-02, -3.8798e-02]],\n              \n                       [[-6.0014e-02, -9.5032e-02,  4.7085e-03],\n                        [ 4.6710e-02,  2.3334e-02,  2.0845e-02],\n                        [-7.9941e-02, -9.8440e-02,  1.8562e-03]]],\n              \n              \n                      [[[-1.9307e-02, -1.6588e-01, -1.6064e-01],\n                        [ 1.2704e-01,  9.2043e-02, -5.3870e-02],\n                        [ 7.4579e-02,  2.4023e-01,  1.1071e-01]],\n              \n                       [[ 4.9355e-02, -2.7184e-02,  4.9398e-02],\n                        [ 1.6753e-01,  2.0397e-01,  1.1446e-01],\n                        [-1.9504e-01,  1.8742e-03,  8.5605e-02]],\n              \n                       [[-9.6509e-02, -2.5620e-01, -3.1881e-01],\n                        [-1.2378e-01, -9.1765e-02, -2.4079e-01],\n                        [ 1.0268e-01, -6.2016e-02, -1.8401e-01]],\n              \n                       [[ 1.2953e-01,  3.7548e-02,  8.3692e-02],\n                        [-5.4618e-01, -2.9818e-01, -1.6311e-01],\n                        [-1.9548e-01, -2.4805e-01, -3.7122e-01]],\n              \n                       [[-3.4605e-02, -2.1884e-01, -8.3223e-02],\n                        [ 1.7003e-02,  6.2291e-02,  1.3416e-01],\n                        [-9.4385e-02,  2.6641e-02,  1.2956e-01]],\n              \n                       [[-5.0659e-02, -4.7836e-02,  3.4343e-02],\n                        [-6.8049e-02, -6.9788e-02, -8.1431e-03],\n                        [-3.9307e-02, -7.6712e-02,  5.8862e-02]],\n              \n                       [[ 1.0411e-01, -7.8574e-02,  4.8656e-02],\n                        [-1.4420e-01, -1.1082e-01, -5.8624e-02],\n                        [ 2.2576e-01,  2.1339e-02,  1.3734e-01]],\n              \n                       [[-3.7801e-02, -2.2531e-01, -7.9739e-02],\n                        [-1.0553e-01, -4.4401e-02, -1.0254e-01],\n                        [-1.6992e-02, -2.4565e-03,  2.7677e-03]],\n              \n                       [[ 3.9627e-02, -2.3117e-02, -7.9429e-02],\n                        [-1.8267e-01, -2.4759e-01, -1.2246e-01],\n                        [ 3.0094e-03, -1.2072e-01, -6.3749e-02]],\n              \n                       [[-1.0360e-01, -8.5849e-02,  2.0448e-02],\n                        [ 2.8031e-02,  2.2307e-02, -2.8369e-02],\n                        [ 9.7159e-02,  1.5228e-02, -6.1822e-02]]],\n              \n              \n                      [[[-1.5272e-01, -1.9107e-02,  5.5827e-02],\n                        [-1.2827e-01,  4.8059e-02, -2.1485e-02],\n                        [-1.0406e-01, -2.8641e-02,  1.6282e-01]],\n              \n                       [[ 8.7587e-03,  1.2978e-01,  1.1524e-01],\n                        [ 6.2466e-02,  2.2311e-02, -1.7996e-02],\n                        [ 6.7549e-03, -1.6499e-02, -2.2938e-02]],\n              \n                       [[-3.9663e-02,  7.2222e-03,  3.8313e-02],\n                        [-4.6711e-02, -7.6681e-02, -7.0755e-04],\n                        [-6.8999e-02, -8.0278e-02,  4.0841e-02]],\n              \n                       [[ 8.7766e-03,  5.7431e-02,  4.0028e-02],\n                        [ 1.5591e-02,  9.3385e-03, -2.6291e-03],\n                        [-1.7653e-02, -2.3306e-02, -2.3549e-02]],\n              \n                       [[-1.7989e-02,  1.1082e-01, -4.8709e-03],\n                        [-8.1808e-02,  1.9617e-03, -2.3866e-02],\n                        [-1.1369e-02,  9.1191e-02,  1.0831e-01]],\n              \n                       [[ 4.8863e-02, -7.7583e-02, -5.6487e-02],\n                        [-2.3164e-02, -1.9486e-02,  8.9337e-03],\n                        [-9.7192e-02,  3.3571e-02, -8.0394e-02]],\n              \n                       [[-1.1206e-01, -1.1904e-01,  7.3826e-02],\n                        [-1.4069e-01,  5.4579e-02, -2.9101e-02],\n                        [-3.3526e-02,  4.7326e-02, -2.5093e-02]],\n              \n                       [[ 6.4648e-02,  7.7519e-02, -9.5800e-02],\n                        [ 3.9817e-02,  2.2682e-02,  2.7549e-02],\n                        [ 8.2165e-03,  2.0556e-02, -5.2549e-02]],\n              \n                       [[ 2.5559e-03,  1.0666e-01,  6.9081e-02],\n                        [-7.5088e-03, -1.0175e-01,  3.1289e-03],\n                        [-7.0340e-02,  8.0894e-02, -7.0095e-02]],\n              \n                       [[-7.5863e-03, -2.3394e-02,  1.8755e-02],\n                        [ 9.9169e-02,  1.0031e-02,  6.1078e-02],\n                        [ 8.1807e-02,  8.5063e-02, -3.6401e-02]]],\n              \n              \n                      [[[ 2.1871e-01,  2.5970e-01,  2.9663e-01],\n                        [ 3.6523e-02, -5.8192e-02, -3.3815e-02],\n                        [-1.7380e-01, -2.0850e-01, -8.1945e-02]],\n              \n                       [[ 2.5089e-01,  2.7750e-01,  4.0009e-01],\n                        [-2.0795e-02, -6.3955e-02,  2.7939e-02],\n                        [-2.7602e-01, -4.1023e-01, -2.9055e-01]],\n              \n                       [[-1.8068e-02, -4.3179e-02, -2.1870e-02],\n                        [-6.3552e-02, -6.2402e-03,  7.5773e-02],\n                        [ 1.6692e-01,  5.9823e-02,  4.7793e-02]],\n              \n                       [[-7.2048e-03, -1.2806e-01, -1.1015e-01],\n                        [ 3.5273e-02, -1.4506e-01, -6.9503e-02],\n                        [ 1.2001e-01,  4.8899e-02, -2.1120e-02]],\n              \n                       [[ 1.2582e-02,  1.0340e-01,  1.4108e-01],\n                        [ 3.5675e-03, -1.2516e-02,  4.2738e-02],\n                        [-2.4951e-01, -1.7744e-01, -1.7652e-01]],\n              \n                       [[-8.3460e-02, -8.1397e-03, -9.2248e-02],\n                        [ 7.3877e-02,  1.2444e-02, -5.6398e-02],\n                        [ 5.6807e-02, -9.9673e-02, -4.0810e-02]],\n              \n                       [[ 6.2449e-02, -6.2726e-02, -7.6288e-02],\n                        [ 5.4512e-02,  5.9505e-02,  8.4541e-02],\n                        [ 2.0561e-01,  7.5161e-02,  1.9941e-03]],\n              \n                       [[ 8.8287e-02,  3.6192e-02,  4.8049e-03],\n                        [-6.1641e-04, -8.6603e-02, -5.4122e-02],\n                        [ 9.1485e-02, -3.8383e-02, -1.1153e-02]],\n              \n                       [[-1.0194e-01, -5.8888e-02,  9.6682e-03],\n                        [-4.0185e-02,  7.5677e-03,  2.9872e-02],\n                        [-9.3362e-02,  3.3923e-02, -1.0249e-01]],\n              \n                       [[-5.1618e-02,  4.0347e-02,  8.3768e-02],\n                        [-2.8794e-02, -4.3329e-02, -9.5273e-02],\n                        [-5.4351e-02, -9.2304e-02, -2.4032e-02]]],\n              \n              \n                      [[[ 1.9973e-01, -1.5698e-01, -6.0626e-02],\n                        [ 1.2505e-01,  5.8846e-02, -2.5475e-01],\n                        [ 2.4103e-01,  3.3242e-01, -1.4996e-01]],\n              \n                       [[ 9.2276e-02,  9.5596e-02, -4.0005e-01],\n                        [ 3.3610e-01,  2.9451e-01, -3.1653e-01],\n                        [ 3.1388e-01,  5.2468e-02, -4.9683e-01]],\n              \n                       [[-1.8239e-01, -2.4243e-01, -1.2786e-01],\n                        [-1.1035e-01, -3.4876e-01,  3.3182e-02],\n                        [ 2.3346e-02, -1.2763e-01,  9.5226e-02]],\n              \n                       [[-2.8892e-01, -1.8809e-01,  3.5021e-02],\n                        [-1.4201e-02, -1.8849e-01,  3.3407e-01],\n                        [-1.1902e-01, -3.6555e-01,  2.0100e-01]],\n              \n                       [[ 4.7794e-02,  7.4943e-02, -2.3170e-01],\n                        [ 1.6565e-02,  2.0202e-01, -2.1259e-01],\n                        [-9.5906e-02,  2.3506e-01, -1.4379e-01]],\n              \n                       [[ 9.6611e-02, -9.2700e-02, -3.6713e-02],\n                        [-9.9634e-02, -4.1159e-02,  3.1470e-02],\n                        [ 1.0496e-01,  1.7704e-02,  1.0120e-01]],\n              \n                       [[-2.0795e-02,  4.9558e-02,  1.4592e-01],\n                        [ 5.7532e-02, -3.9935e-02,  9.9660e-02],\n                        [ 1.4570e-01,  6.8269e-02, -3.1136e-02]],\n              \n                       [[-1.5483e-01, -1.1411e-01, -8.0108e-02],\n                        [-8.3878e-02,  4.7080e-03,  5.7026e-02],\n                        [ 1.0533e-02, -8.4018e-02,  8.8530e-02]],\n              \n                       [[ 7.7986e-02, -2.1417e-01, -1.5435e-02],\n                        [ 3.4628e-02, -2.1082e-01, -1.8050e-01],\n                        [ 2.6756e-02, -1.2285e-01, -9.8508e-02]],\n              \n                       [[ 5.9518e-02,  3.8333e-02,  8.3803e-02],\n                        [-3.9484e-02,  3.5585e-02,  3.7860e-02],\n                        [-8.7987e-02, -1.0211e-01, -5.4652e-02]]],\n              \n              \n                      [[[ 2.0275e-01, -1.1659e-01, -4.0565e-01],\n                        [ 1.9888e-01,  1.6622e-01, -1.7849e-01],\n                        [-9.0845e-02,  1.0685e-01, -4.8288e-03]],\n              \n                       [[ 1.4892e-01,  7.5108e-02, -3.7440e-01],\n                        [ 5.9645e-02,  2.2028e-01, -3.8415e-01],\n                        [-9.6976e-03,  3.3562e-01, -3.4698e-01]],\n              \n                       [[-9.9854e-02, -2.3459e-02,  7.2045e-03],\n                        [-1.6925e-02, -1.4801e-01, -5.4317e-02],\n                        [ 9.4818e-02, -1.3114e-01, -4.7004e-02]],\n              \n                       [[ 6.8847e-04, -3.3809e-02,  3.0727e-01],\n                        [-1.0426e-01, -1.0582e-01,  2.8649e-01],\n                        [-1.0198e-01, -2.0481e-01,  1.4324e-01]],\n              \n                       [[ 5.1768e-02, -8.1949e-02, -2.9720e-01],\n                        [ 1.0239e-01,  1.8336e-01, -1.3361e-01],\n                        [-9.9416e-02,  1.5471e-01, -1.6435e-01]],\n              \n                       [[-1.9483e-02, -7.2224e-02,  8.7722e-03],\n                        [ 1.0791e-02, -1.3894e-02,  1.4238e-02],\n                        [-4.2045e-02,  2.6515e-02,  3.9650e-02]],\n              \n                       [[ 3.0157e-02, -7.3485e-02,  1.2068e-01],\n                        [ 4.6971e-02, -4.4216e-02,  1.0344e-01],\n                        [-7.7646e-02,  9.6113e-02,  8.2914e-02]],\n              \n                       [[-6.2637e-02,  1.2202e-01, -1.1233e-01],\n                        [-1.0455e-01,  2.6074e-02,  5.4778e-02],\n                        [ 9.6150e-02, -3.8940e-02,  4.5115e-02]],\n              \n                       [[-8.4582e-02,  8.4939e-02, -5.4401e-02],\n                        [-9.8526e-02, -2.0426e-03,  4.5498e-02],\n                        [ 8.5914e-02, -8.2636e-02, -5.7017e-02]],\n              \n                       [[ 2.0261e-02,  2.8595e-02,  4.0529e-02],\n                        [ 5.7825e-02, -2.3898e-02,  5.8589e-02],\n                        [ 7.7755e-02, -2.7586e-02,  7.4992e-02]]],\n              \n              \n                      [[[-2.4416e-02,  1.1953e-01, -9.9724e-03],\n                        [ 6.9541e-02,  5.2815e-02,  2.0536e-03],\n                        [ 6.4121e-02, -4.8209e-02, -2.7697e-02]],\n              \n                       [[ 1.2758e-01,  1.3313e-01, -8.2337e-02],\n                        [-2.8069e-02, -7.8766e-02, -1.2710e-01],\n                        [ 1.5412e-01,  7.3066e-02,  1.1452e-01]],\n              \n                       [[-1.5105e-01, -3.0498e-01, -8.5782e-02],\n                        [-2.3476e-01, -2.6424e-01, -2.0583e-01],\n                        [-1.6201e-01, -1.5895e-01, -4.2258e-02]],\n              \n                       [[-3.2457e-02, -6.7943e-02,  2.5498e-01],\n                        [-2.4553e-01, -3.1007e-01,  2.6629e-02],\n                        [ 4.6360e-03, -2.1363e-01,  2.8102e-02]],\n              \n                       [[ 2.9708e-02, -5.0146e-03,  1.8443e-02],\n                        [ 2.3935e-01,  1.2452e-01,  1.0473e-02],\n                        [ 8.3834e-02, -6.2151e-02, -6.8104e-02]],\n              \n                       [[ 8.8796e-02,  8.1260e-02,  3.0394e-02],\n                        [ 6.1117e-03, -9.0323e-02, -1.4332e-02],\n                        [ 1.0266e-01,  2.7184e-02,  5.9333e-03]],\n              \n                       [[-2.0528e-02, -4.0966e-02,  1.2517e-01],\n                        [ 3.0390e-03,  9.7994e-02, -4.7016e-03],\n                        [ 1.1177e-01,  5.3652e-02, -2.5800e-02]],\n              \n                       [[-4.0063e-02, -4.5140e-02,  1.1310e-01],\n                        [ 6.9768e-02, -1.3310e-01, -1.2730e-01],\n                        [-2.2144e-02, -4.1963e-02, -6.9489e-02]],\n              \n                       [[-1.0912e-01, -1.7762e-01, -7.3742e-02],\n                        [ 1.8083e-03, -8.4291e-02, -1.7399e-01],\n                        [-8.6219e-02, -1.7546e-01,  1.0819e-02]],\n              \n                       [[ 5.6043e-02,  9.5052e-02,  4.1401e-04],\n                        [ 2.1144e-02,  3.6738e-02, -9.9537e-02],\n                        [ 9.5037e-03, -6.8633e-03, -5.9071e-02]]],\n              \n              \n                      [[[-1.4210e-01,  2.5714e-01,  4.2031e-01],\n                        [-2.7914e-01, -7.4411e-02,  1.2652e-01],\n                        [-3.5821e-01, -1.4602e-01,  8.7957e-02]],\n              \n                       [[-1.7070e-01, -2.9978e-02,  3.7137e-01],\n                        [-3.4577e-01, -1.0695e-01,  4.5784e-01],\n                        [-2.9341e-01, -1.3775e-01,  3.7611e-01]],\n              \n                       [[-2.5329e-02,  6.2035e-02,  6.8992e-02],\n                        [-3.9896e-02,  5.1862e-02, -6.4919e-02],\n                        [-4.6735e-02,  5.0241e-02, -3.7191e-02]],\n              \n                       [[-1.3329e-01, -4.1884e-02, -1.7628e-01],\n                        [ 6.2826e-02, -9.7199e-02, -2.4491e-01],\n                        [ 1.6461e-01, -1.2070e-01, -1.7466e-01]],\n              \n                       [[-7.7351e-02, -4.9850e-02,  8.1590e-02],\n                        [-4.8105e-02, -1.1382e-01,  2.2129e-01],\n                        [-4.5177e-02, -6.0850e-03,  2.3700e-01]],\n              \n                       [[-9.8320e-02, -7.2132e-02, -3.9361e-02],\n                        [ 9.0758e-02,  1.2774e-02, -7.9506e-02],\n                        [ 1.8067e-03, -8.2138e-02, -2.0949e-02]],\n              \n                       [[ 3.2820e-02,  3.9837e-02, -3.8206e-02],\n                        [ 3.7152e-02, -3.9368e-02, -6.1049e-02],\n                        [ 6.7474e-02, -8.2843e-02, -9.3555e-02]],\n              \n                       [[-3.5278e-02,  5.2132e-02, -8.1573e-02],\n                        [-4.0811e-02,  6.8731e-02,  8.5477e-02],\n                        [ 1.1778e-01,  2.1092e-02, -2.9140e-02]],\n              \n                       [[ 4.2319e-02,  1.3592e-01, -9.6105e-02],\n                        [ 1.8587e-02, -1.1639e-01, -6.0677e-03],\n                        [ 9.0155e-02, -4.0463e-02, -3.3417e-02]],\n              \n                       [[ 4.7453e-02, -1.7701e-02, -8.8367e-02],\n                        [ 8.4276e-02, -5.2933e-02, -1.1521e-02],\n                        [ 9.9446e-03, -6.3306e-03, -9.9087e-02]]]])),\n             ('conv_block_1.2.bias',\n              tensor([ 0.4382, -0.0303, -0.0598,  0.4200, -0.1380,  0.0132,  0.1746,  0.0679,\n                       0.3068,  0.0249])),\n             ('conv_block_2.0.weight',\n              tensor([[[[-5.7799e-02, -8.7952e-02,  7.0303e-02],\n                        [-1.2874e-01,  2.9161e-03,  2.0146e-01],\n                        [-1.4535e-01,  1.3796e-01,  1.8813e-01]],\n              \n                       [[ 6.0551e-02, -1.0533e-01, -4.5824e-02],\n                        [-7.8904e-02, -6.6102e-02,  4.8051e-02],\n                        [-7.4026e-03,  4.6114e-02, -6.7976e-02]],\n              \n                       [[ 1.5864e-02, -6.3916e-02,  5.2183e-02],\n                        [-4.5472e-02, -2.6144e-02, -9.1065e-02],\n                        [ 1.0726e-03,  1.0109e-01,  5.2273e-02]],\n              \n                       [[-2.7327e-01,  5.8877e-02, -2.4105e-01],\n                        [-9.8565e-02,  2.5067e-01, -2.1067e-02],\n                        [ 1.2423e-01, -1.5295e-01, -1.3100e-01]],\n              \n                       [[-1.1397e-02,  4.1975e-02,  2.5313e-02],\n                        [-6.4928e-02,  1.0555e-01, -4.0212e-03],\n                        [-7.0904e-02, -5.1779e-02,  1.0085e-01]],\n              \n                       [[-6.3437e-03, -8.0515e-02, -1.4293e-01],\n                        [-2.5787e-02, -5.4036e-02, -1.0757e-01],\n                        [ 1.8164e-02,  1.3788e-01,  9.2581e-02]],\n              \n                       [[-3.0793e-01,  2.9726e-01, -2.0305e-01],\n                        [ 2.8282e-02,  2.9285e-01,  1.0469e-01],\n                        [ 3.0503e-01,  8.4823e-02, -2.5763e-02]],\n              \n                       [[ 1.1411e-01,  2.0454e-01, -8.9410e-02],\n                        [ 3.3243e-02,  3.0408e-01, -9.6973e-02],\n                        [ 5.7215e-02, -8.4461e-02, -1.0661e-01]],\n              \n                       [[-2.7536e-01,  5.4200e-03, -1.2759e-01],\n                        [ 7.9007e-03,  2.8021e-01,  6.3585e-02],\n                        [-3.8443e-02, -1.3180e-01, -7.8836e-03]],\n              \n                       [[ 2.0910e-01,  1.1784e-01,  1.2409e-01],\n                        [ 1.0859e-01,  1.5266e-01,  6.6004e-02],\n                        [-1.1191e-01,  5.3760e-03,  1.5112e-01]]],\n              \n              \n                      [[[-1.8153e-02, -2.5607e-01, -2.5086e-01],\n                        [ 1.8257e-01, -2.6760e-01,  3.5595e-02],\n                        [ 1.2262e-01,  1.4843e-01,  3.3400e-02]],\n              \n                       [[ 3.4758e-02, -3.8572e-02, -6.6064e-02],\n                        [-6.5607e-02,  7.3372e-02, -2.8924e-02],\n                        [ 8.5492e-02,  1.2397e-02,  1.0017e-01]],\n              \n                       [[ 6.3306e-02,  3.7939e-02, -5.3256e-02],\n                        [-8.6527e-02,  4.4021e-03, -6.1648e-02],\n                        [ 8.6651e-02, -1.0086e-01,  4.6920e-02]],\n              \n                       [[-1.2465e-01,  2.5671e-01,  1.9297e-01],\n                        [-4.0721e-02,  7.9884e-01,  3.1866e-01],\n                        [-8.0737e-01, -1.9231e-01, -1.8582e-01]],\n              \n                       [[ 1.1952e-01,  1.3058e-01, -6.2612e-03],\n                        [-3.3440e-02,  4.1083e-03,  3.5186e-02],\n                        [-6.7082e-03, -1.1016e-01,  1.8535e-02]],\n              \n                       [[-4.8620e-02, -3.2730e-01, -1.7798e-01],\n                        [ 2.7225e-01,  1.6011e-01, -6.4421e-02],\n                        [ 1.2624e-01,  1.7905e-01,  1.0323e-01]],\n              \n                       [[-6.7069e-01,  8.0983e-02,  1.3655e-01],\n                        [-4.7924e-01,  3.2003e-01,  4.4545e-01],\n                        [-3.8859e-01,  3.7852e-02, -1.3249e-01]],\n              \n                       [[-9.4270e-02, -3.0392e-01,  5.0916e-02],\n                        [-3.1669e-01, -3.2409e-02,  9.4579e-03],\n                        [-2.5787e-01, -8.5074e-02, -1.0733e-01]],\n              \n                       [[-4.2475e-01, -1.3391e-02,  3.0478e-01],\n                        [-9.6547e-03,  3.6790e-01,  3.1546e-01],\n                        [-3.1618e-01, -1.4578e-01, -1.4781e-01]],\n              \n                       [[ 3.1437e-01, -1.4905e-01, -1.2547e-01],\n                        [ 6.0625e-02,  3.6538e-02, -2.2823e-01],\n                        [-2.2650e-01,  1.6857e-01,  1.4037e-01]]],\n              \n              \n                      [[[-3.4161e-02,  7.3325e-02,  6.6797e-02],\n                        [-6.6331e-02, -9.1023e-02, -9.5653e-02],\n                        [-5.7587e-02, -3.6350e-02, -1.8277e-02]],\n              \n                       [[-2.3777e-02, -5.2929e-02, -3.2462e-02],\n                        [-4.0630e-02,  1.0152e-01, -3.5780e-02],\n                        [-7.7391e-02,  4.1710e-02,  1.0982e-04]],\n              \n                       [[ 8.0662e-02,  6.5925e-02,  9.6881e-02],\n                        [-7.7189e-02,  6.7718e-02,  8.8486e-02],\n                        [-5.2112e-02,  9.6822e-02,  7.8985e-02]],\n              \n                       [[-4.8025e-02,  3.1194e-02, -6.4022e-02],\n                        [-1.3950e-01,  4.9861e-02,  4.7975e-02],\n                        [-1.2350e-01,  3.3594e-02, -1.0276e-01]],\n              \n                       [[ 8.0688e-02,  1.0187e-01,  1.9691e-02],\n                        [-6.9797e-02,  6.4634e-02,  1.4327e-02],\n                        [ 1.2667e-02,  2.9221e-02,  5.9457e-02]],\n              \n                       [[-5.4461e-02, -4.6919e-02,  2.0289e-02],\n                        [-1.4407e-04,  6.6192e-02, -6.0153e-02],\n                        [-2.8893e-02,  2.7368e-02,  6.2454e-03]],\n              \n                       [[ 3.9434e-02, -1.2786e-02, -7.2726e-02],\n                        [-4.8965e-02, -4.7154e-02,  5.9730e-02],\n                        [-7.5964e-02, -1.2944e-01, -1.3183e-02]],\n              \n                       [[-1.3424e-02, -3.6752e-02,  9.9269e-02],\n                        [-3.1580e-02,  8.4323e-02,  4.4359e-02],\n                        [-1.2323e-01,  1.1766e-02,  8.5214e-02]],\n              \n                       [[-1.1847e-01, -1.0107e-01,  8.9462e-02],\n                        [ 4.3253e-02, -6.2117e-02,  8.9912e-02],\n                        [-6.6913e-02, -1.2377e-01,  2.4599e-03]],\n              \n                       [[ 2.5754e-02,  2.1102e-02,  9.7468e-02],\n                        [-7.6381e-02,  1.5080e-01,  1.2850e-01],\n                        [ 5.8296e-02,  7.8607e-02,  5.2213e-02]]],\n              \n              \n                      [[[-3.0004e-02, -5.4982e-02, -5.5200e-02],\n                        [-1.2697e-01, -6.2295e-02,  1.2577e-01],\n                        [ 3.6827e-02, -6.6401e-02,  1.0681e-01]],\n              \n                       [[ 3.4997e-02,  9.6300e-02,  6.2430e-02],\n                        [ 9.3040e-02, -2.8774e-02,  7.6870e-02],\n                        [ 9.3618e-02, -1.0100e-01, -7.3774e-02]],\n              \n                       [[ 2.1826e-02,  5.7970e-02, -5.2012e-02],\n                        [ 1.1370e-02, -2.9178e-04,  2.6964e-02],\n                        [-5.6760e-02,  5.9329e-02,  7.0002e-02]],\n              \n                       [[-3.7491e-01, -1.2419e-01,  8.3095e-02],\n                        [ 1.6131e-01,  2.8149e-01,  2.1356e-01],\n                        [-9.8704e-02,  1.6451e-01, -4.4656e-02]],\n              \n                       [[-2.0267e-02,  2.7684e-02, -3.5211e-02],\n                        [ 4.5409e-02, -3.2541e-02,  4.6807e-02],\n                        [ 2.8940e-02,  3.2515e-02, -7.5552e-02]],\n              \n                       [[-1.6247e-01,  5.1939e-02,  9.9372e-02],\n                        [-8.3645e-02,  1.2268e-01,  3.5116e-02],\n                        [ 4.5869e-02,  5.3055e-02,  7.7178e-02]],\n              \n                       [[-1.8248e-01, -9.3240e-02, -4.9456e-02],\n                        [-1.5370e-02,  1.7177e-01, -1.1779e-01],\n                        [-1.5036e-01, -9.3532e-02,  5.1490e-02]],\n              \n                       [[ 3.4245e-02, -5.1454e-02, -1.5962e-01],\n                        [-4.9585e-02,  4.6209e-02, -2.4042e-01],\n                        [-9.6777e-02, -1.4372e-02, -1.0180e-01]],\n              \n                       [[-1.4833e-01, -7.8014e-02,  6.9857e-02],\n                        [ 1.2446e-02,  2.9902e-02,  1.4537e-01],\n                        [-3.2823e-02, -3.6506e-02, -9.2560e-02]],\n              \n                       [[ 2.6904e-01,  1.3237e-01,  4.1296e-02],\n                        [ 1.4475e-01, -8.7806e-02, -2.6309e-02],\n                        [-6.1188e-02,  1.3421e-01,  5.0019e-02]]],\n              \n              \n                      [[[ 2.4818e-02,  7.7047e-02, -5.7478e-02],\n                        [-7.2351e-02,  5.4640e-02,  7.7804e-02],\n                        [ 1.2270e-01,  7.4944e-03,  1.4113e-01]],\n              \n                       [[ 7.2223e-02,  7.4662e-02, -1.0756e-01],\n                        [ 8.4520e-02, -9.3051e-02,  9.7341e-02],\n                        [-1.1222e-02, -9.6412e-02,  2.8078e-02]],\n              \n                       [[-2.1350e-02, -9.4809e-02, -3.8332e-02],\n                        [ 1.0899e-02,  8.2192e-02, -3.2209e-02],\n                        [ 6.2153e-02,  1.3319e-02,  3.2322e-03]],\n              \n                       [[ 1.4852e-01, -4.3474e-02, -3.7338e-02],\n                        [ 6.0170e-02, -9.2308e-02, -8.0391e-02],\n                        [ 3.0344e-04, -5.0884e-02, -1.4458e-01]],\n              \n                       [[-1.6520e-02, -9.8580e-03, -5.6897e-02],\n                        [ 5.8565e-03, -1.1030e-02,  2.8052e-02],\n                        [ 1.0730e-02, -4.8558e-02, -3.9005e-02]],\n              \n                       [[ 1.5330e-02, -8.9677e-02,  3.5104e-02],\n                        [ 7.0766e-03,  1.5111e-02,  5.9983e-02],\n                        [ 6.5968e-02, -4.7613e-02, -8.0264e-02]],\n              \n                       [[ 1.3387e-01, -7.1821e-02, -2.3602e-02],\n                        [-3.4767e-03, -1.3846e-03, -7.3554e-02],\n                        [ 2.0215e-02,  1.6623e-01, -2.5093e-02]],\n              \n                       [[ 1.2618e-01, -1.2704e-01,  5.5065e-03],\n                        [ 9.2751e-02,  8.1939e-02, -9.7253e-02],\n                        [-4.8705e-03,  3.0554e-02, -2.9085e-02]],\n              \n                       [[ 5.3426e-02, -5.6186e-02, -1.1072e-01],\n                        [-1.5302e-02,  5.8916e-02,  1.2617e-02],\n                        [-1.2921e-01, -4.7110e-03, -7.4660e-02]],\n              \n                       [[-5.6143e-02,  1.8902e-02,  2.1766e-01],\n                        [ 7.8191e-02, -1.0557e-01,  6.7720e-02],\n                        [ 1.0536e-01,  3.0320e-02, -6.5194e-02]]],\n              \n              \n                      [[[-1.2095e-01,  1.7708e-02,  1.2804e-02],\n                        [-5.2347e-03, -7.6132e-02, -4.0407e-03],\n                        [ 1.2264e-01, -3.8212e-02,  1.3479e-01]],\n              \n                       [[ 9.1955e-02,  6.6129e-03,  1.3879e-02],\n                        [-1.0621e-02,  6.7473e-02, -9.7259e-02],\n                        [ 4.3620e-02, -1.8993e-02,  4.7732e-02]],\n              \n                       [[-1.8019e-04, -3.8853e-02, -1.1394e-02],\n                        [ 5.6786e-02, -7.3325e-02, -6.6525e-02],\n                        [-2.3691e-02, -3.8325e-02,  4.1363e-02]],\n              \n                       [[ 1.6173e-03, -8.7618e-02, -3.7051e-02],\n                        [-1.2162e-01, -9.0871e-02, -1.5187e-01],\n                        [-1.6341e-01, -1.1202e-01, -1.6814e-01]],\n              \n                       [[-1.0909e-01,  1.7020e-02,  5.9370e-02],\n                        [ 8.4505e-02,  8.6026e-02, -2.3158e-03],\n                        [ 1.2784e-02, -6.2703e-02,  5.0161e-02]],\n              \n                       [[-1.0112e-01, -2.6169e-02, -9.4450e-03],\n                        [ 1.6474e-02, -1.8565e-03, -7.6350e-02],\n                        [ 1.0550e-01,  4.8462e-02,  7.8235e-02]],\n              \n                       [[ 1.3667e-03,  5.8455e-02,  1.8157e-02],\n                        [ 3.8230e-02,  1.4593e-01, -1.2390e-02],\n                        [ 4.8950e-03,  9.9068e-02,  1.1090e-01]],\n              \n                       [[ 1.4470e-01,  4.0254e-02, -6.5632e-02],\n                        [ 2.3240e-02,  1.1435e-01,  2.8089e-02],\n                        [-2.3576e-02,  1.9466e-01,  1.2073e-01]],\n              \n                       [[-1.3770e-01, -4.3956e-02, -8.8668e-02],\n                        [-1.2542e-01,  4.9353e-03, -7.8954e-02],\n                        [-1.0953e-01, -3.4519e-02, -7.1085e-02]],\n              \n                       [[ 1.3183e-01,  1.4538e-02,  2.1095e-01],\n                        [ 4.7016e-02,  4.4821e-02,  9.2092e-02],\n                        [ 1.5740e-02, -7.1776e-02, -1.1626e-02]]],\n              \n              \n                      [[[-4.6500e-04,  2.9978e-01,  2.7299e-01],\n                        [-2.4827e-01,  1.5232e-02,  1.0481e-01],\n                        [-1.1728e-01, -3.9497e-01, -4.4394e-01]],\n              \n                       [[-8.1374e-02,  1.1467e-02,  6.1356e-02],\n                        [ 1.0260e-01, -5.2770e-02, -4.9389e-03],\n                        [-3.0035e-03,  1.7748e-02,  4.1628e-02]],\n              \n                       [[-3.7939e-03,  4.0451e-03,  1.5389e-02],\n                        [ 3.8249e-02, -3.3573e-02, -6.3698e-02],\n                        [ 2.5041e-02, -1.2774e-02, -4.7547e-02]],\n              \n                       [[ 7.4619e-02, -2.6233e-01, -6.6105e-01],\n                        [ 3.6241e-01,  2.4273e-01, -3.9146e-01],\n                        [ 5.4845e-02,  3.7833e-01,  2.8680e-01]],\n              \n                       [[-9.5624e-02, -5.5729e-02, -3.2441e-02],\n                        [ 1.5766e-02, -9.5421e-02,  1.6064e-02],\n                        [-2.2372e-02, -7.1878e-02, -4.5860e-02]],\n              \n                       [[-1.6888e-01, -8.6077e-02,  9.2745e-02],\n                        [-1.3983e-01, -4.5341e-02, -7.9148e-02],\n                        [ 3.3583e-01,  9.3586e-02,  5.8458e-02]],\n              \n                       [[-7.8834e-02,  1.9053e-01, -4.7942e-01],\n                        [ 2.5799e-01,  4.1617e-01, -3.0041e-01],\n                        [-1.5158e-01,  5.3805e-02, -1.9070e-01]],\n              \n                       [[-5.5297e-02,  6.5594e-02, -3.0279e-01],\n                        [-3.8419e-02,  1.5693e-01, -1.2399e-01],\n                        [-2.8175e-01, -2.6180e-01, -5.1722e-02]],\n              \n                       [[ 1.3197e-01, -9.5197e-02, -3.3846e-01],\n                        [ 1.7880e-01,  3.0245e-01, -4.4001e-01],\n                        [-2.1897e-02,  3.7358e-01,  1.4413e-01]],\n              \n                       [[-4.3634e-02, -2.7954e-01,  1.3663e-01],\n                        [ 5.4137e-03, -4.3062e-01, -1.6900e-01],\n                        [ 2.4239e-01, -3.0611e-01, -2.5107e-01]]],\n              \n              \n                      [[[ 1.0375e-01,  2.7074e-01,  1.7498e-01],\n                        [-8.3409e-02, -1.7962e-01, -1.8856e-01],\n                        [-2.5491e-02, -9.0699e-02, -4.4155e-02]],\n              \n                       [[-9.3967e-02, -1.2284e-02, -6.0381e-02],\n                        [ 2.9904e-02, -7.2010e-02,  4.7495e-02],\n                        [-8.9839e-02,  4.7097e-02, -8.3533e-02]],\n              \n                       [[ 5.7832e-02, -4.7569e-02, -2.5894e-03],\n                        [-1.9514e-02,  6.6505e-02,  3.2503e-02],\n                        [-9.0262e-02,  1.1138e-02, -7.1598e-02]],\n              \n                       [[-2.1088e-01, -1.8440e-01, -4.5837e-01],\n                        [-2.4481e-02,  3.4459e-01,  1.2383e-01],\n                        [ 1.6467e-01,  4.1803e-01,  9.2636e-02]],\n              \n                       [[ 2.7276e-02, -1.4403e-01,  7.6464e-02],\n                        [ 1.0843e-02, -5.2423e-02, -2.2317e-02],\n                        [ 5.0433e-02,  8.8238e-03, -2.6499e-03]],\n              \n                       [[ 6.0910e-02, -2.7944e-01, -9.2741e-02],\n                        [-1.5895e-01, -1.9642e-01, -3.0423e-01],\n                        [-1.8214e-02, -4.2796e-02,  1.1668e-02]],\n              \n                       [[-2.9055e-01, -9.7911e-02, -7.5897e-02],\n                        [-2.8052e-01, -4.1422e-02,  1.6932e-01],\n                        [-3.9184e-01,  1.3557e-01,  3.3488e-01]],\n              \n                       [[-2.1743e-01, -3.3820e-02, -1.0709e-01],\n                        [-1.8599e-01, -1.8413e-01, -5.7010e-02],\n                        [-1.4365e-01, -5.0967e-02,  5.8207e-03]],\n              \n                       [[-1.5521e-01, -6.6493e-02, -1.5288e-01],\n                        [-1.2922e-01,  1.5882e-01,  2.2320e-01],\n                        [ 7.9579e-02,  9.1471e-02,  1.4587e-01]],\n              \n                       [[ 5.7865e-02, -4.2548e-01,  2.3760e-01],\n                        [-7.9607e-02, -1.8823e-01,  3.7931e-02],\n                        [ 1.5379e-02,  1.1106e-01, -6.0824e-02]]],\n              \n              \n                      [[[-6.4027e-02, -1.3601e-01,  1.6381e-01],\n                        [ 1.2961e-01,  1.7854e-01,  3.1155e-01],\n                        [ 3.6948e-02,  1.8842e-02,  5.1541e-02]],\n              \n                       [[ 4.9459e-02,  3.6210e-02,  3.5929e-02],\n                        [-3.7341e-02,  4.1394e-02,  5.3722e-02],\n                        [ 5.6807e-02,  1.9868e-02,  1.0336e-01]],\n              \n                       [[-2.5503e-04,  2.2382e-02,  1.0010e-01],\n                        [ 1.0203e-01, -4.4831e-02,  9.5085e-02],\n                        [ 3.7178e-02, -1.3311e-02,  9.1542e-02]],\n              \n                       [[ 8.8278e-02,  3.7617e-01,  2.2160e-01],\n                        [-1.0926e-01, -5.3064e-01, -4.2528e-01],\n                        [ 2.0939e-01, -2.0001e-01, -9.3276e-02]],\n              \n                       [[ 5.7457e-02,  9.1208e-02,  8.4069e-03],\n                        [ 5.3383e-02,  3.3124e-02, -1.2056e-01],\n                        [-7.4742e-02, -1.0176e-02,  4.2683e-02]],\n              \n                       [[-4.6601e-02,  1.6127e-01,  5.9994e-02],\n                        [ 3.5713e-03, -1.6735e-02,  2.9280e-02],\n                        [ 5.7462e-03, -1.4909e-01, -6.8692e-02]],\n              \n                       [[ 3.9444e-02,  2.0200e-01,  1.3423e-01],\n                        [ 1.1909e-01, -3.8139e-01, -5.4734e-01],\n                        [ 1.2745e-01, -3.0754e-01, -3.9382e-01]],\n              \n                       [[-1.2495e-01,  5.0567e-02,  1.0176e-01],\n                        [-2.0112e-01, -2.9259e-01, -6.9236e-02],\n                        [ 1.7993e-02, -2.1570e-01, -2.9832e-01]],\n              \n                       [[ 1.6962e-01,  1.8647e-01, -1.7575e-02],\n                        [ 4.8192e-02, -2.8280e-01, -2.9756e-01],\n                        [ 1.9794e-01, -2.6372e-01, -2.3290e-01]],\n              \n                       [[-1.2571e-01, -3.2160e-01,  1.1622e-01],\n                        [-2.0520e-01, -2.1149e-01,  8.9119e-02],\n                        [-2.2569e-01, -3.6407e-01,  1.5308e-01]]],\n              \n              \n                      [[[-1.3389e-01,  4.8022e-02,  3.1919e-02],\n                        [ 5.5973e-02,  9.0299e-02,  2.3265e-02],\n                        [ 1.2807e-01, -9.2837e-02, -8.2557e-02]],\n              \n                       [[ 7.7003e-02,  3.2443e-02, -1.3796e-02],\n                        [-2.2998e-02, -6.4483e-02,  6.3324e-02],\n                        [-2.3568e-03, -5.2043e-03,  2.3559e-02]],\n              \n                       [[ 7.7529e-02, -5.3874e-02, -3.6126e-02],\n                        [ 7.2526e-02,  6.0121e-02, -5.1655e-02],\n                        [-1.0421e-01,  1.9431e-02,  5.5536e-02]],\n              \n                       [[ 3.4189e-03,  2.2905e-02, -1.4409e-01],\n                        [-3.3745e-02, -1.3293e-01,  5.3415e-03],\n                        [-1.3262e-02,  2.7089e-02,  2.1132e-01]],\n              \n                       [[-6.9150e-02, -9.4818e-02, -1.0403e-01],\n                        [ 5.8252e-02,  2.9401e-02, -7.6941e-02],\n                        [ 4.6417e-02,  9.1963e-02, -9.6331e-02]],\n              \n                       [[ 6.2277e-02, -8.5368e-04, -2.2607e-02],\n                        [ 9.6926e-02,  7.7879e-02,  2.9226e-02],\n                        [ 9.7441e-02,  3.9976e-02, -1.9830e-03]],\n              \n                       [[-1.1382e-01, -2.6685e-03, -1.2334e-01],\n                        [-6.6812e-03, -1.2080e-02, -3.5576e-03],\n                        [-1.4723e-01, -1.2760e-01,  1.4541e-01]],\n              \n                       [[ 4.3354e-02,  6.2033e-02, -3.8419e-02],\n                        [-4.2832e-02, -2.3824e-02,  5.2739e-02],\n                        [-8.3792e-02,  5.7505e-02,  1.2282e-01]],\n              \n                       [[-1.0365e-01, -2.1360e-02, -5.1796e-02],\n                        [-9.0300e-02, -5.6363e-03, -4.9941e-02],\n                        [ 3.7199e-02, -8.7162e-02,  1.0911e-01]],\n              \n                       [[-1.2748e-01, -9.4440e-02, -2.9608e-02],\n                        [ 4.7582e-02,  7.9300e-02, -1.1007e-01],\n                        [-6.2389e-03,  4.4521e-02,  4.4331e-02]]]])),\n             ('conv_block_2.0.bias',\n              tensor([-0.1084,  0.1169, -0.0470, -0.0840, -0.0759, -0.0711,  0.3047,  0.3137,\n                       0.7185, -0.0680])),\n             ('conv_block_2.2.weight',\n              tensor([[[[-1.3551e-01, -2.3983e-01, -1.6873e-01],\n                        [-9.3054e-03, -3.0716e-02,  4.6302e-03],\n                        [-4.1444e-02, -1.0184e-01,  3.3030e-01]],\n              \n                       [[-1.7649e-02, -3.1607e-01, -7.7741e-02],\n                        [-2.9053e-02,  6.4290e-02, -3.5983e-01],\n                        [ 2.6490e-01,  1.7665e-01, -6.3608e-01]],\n              \n                       [[-1.3046e-02, -5.6601e-03,  8.9396e-02],\n                        [-1.5504e-01,  6.9595e-02,  1.6884e-02],\n                        [-7.0108e-02,  6.9174e-02, -1.0105e-01]],\n              \n                       [[ 2.6423e-02,  1.8940e-02, -7.3160e-02],\n                        [ 6.2896e-02, -1.9564e-01, -1.4269e-01],\n                        [ 2.8589e-03, -7.4053e-02,  3.8783e-02]],\n              \n                       [[-5.6741e-02,  8.2526e-03,  7.5676e-02],\n                        [-2.4537e-02, -4.8150e-02,  1.5120e-02],\n                        [-3.6098e-02, -8.0725e-02, -1.4654e-01]],\n              \n                       [[-6.2499e-02, -9.8371e-02,  1.2030e-01],\n                        [-1.3035e-02,  2.5393e-02,  8.7111e-02],\n                        [-4.2564e-02, -4.8319e-02, -8.3288e-02]],\n              \n                       [[-4.1299e-01,  2.7480e-02, -5.9418e-01],\n                        [-2.2967e-01,  7.4414e-02,  3.6271e-01],\n                        [-2.8478e-01,  1.6472e-01,  3.2896e-01]],\n              \n                       [[ 3.2458e-01, -1.4216e-02, -1.1592e-01],\n                        [ 1.4962e-01,  1.7760e-03, -1.8676e-01],\n                        [ 1.1782e-01, -1.7355e-01, -1.2225e-01]],\n              \n                       [[ 3.5140e-01, -3.2561e-02,  5.4212e-02],\n                        [-1.2864e-01, -3.9444e-01,  1.4860e-01],\n                        [-3.5813e-01, -4.0703e-01, -1.5777e-01]],\n              \n                       [[-5.6297e-02,  6.7284e-02, -5.7820e-02],\n                        [ 5.3767e-02, -5.3326e-02, -3.3715e-02],\n                        [ 4.2067e-02, -5.7294e-02, -6.0788e-02]]],\n              \n              \n                      [[[ 2.6776e-02,  1.5578e-02, -1.0375e-01],\n                        [-2.0228e-02,  1.3267e-01, -9.6342e-02],\n                        [ 3.8513e-01, -3.8442e-02, -1.2522e-02]],\n              \n                       [[ 6.2773e-03,  3.2156e-01, -1.9761e-01],\n                        [-1.7536e-01, -4.3777e-01,  4.0129e-01],\n                        [-1.2344e-01, -8.0345e-01,  2.6332e-01]],\n              \n                       [[-5.7105e-02, -6.4300e-02,  8.1531e-02],\n                        [ 3.9316e-03, -1.3016e-01, -1.3257e-02],\n                        [-7.4972e-02, -1.2478e-01, -1.1376e-02]],\n              \n                       [[-1.1109e-01, -4.8798e-02, -4.7961e-02],\n                        [ 3.7348e-02, -2.8877e-01, -2.2605e-01],\n                        [-3.8993e-02, -1.0068e-01, -5.7395e-03]],\n              \n                       [[-3.5095e-02, -5.3092e-03,  5.4460e-03],\n                        [ 5.9736e-02, -8.8439e-02,  3.9871e-02],\n                        [ 1.1069e-01, -6.4340e-02, -1.2178e-01]],\n              \n                       [[ 3.2681e-02,  9.4338e-02,  8.3423e-02],\n                        [ 2.5925e-02, -5.7524e-02,  7.4258e-02],\n                        [ 1.8422e-01,  8.4936e-02,  2.2208e-02]],\n              \n                       [[-1.4655e-01, -2.8069e-01,  2.7242e-01],\n                        [-1.8488e-02, -1.5950e-01,  3.4131e-01],\n                        [ 1.5650e-01, -1.8428e-01,  5.3590e-02]],\n              \n                       [[-4.2566e-02, -1.9139e-01,  9.2801e-02],\n                        [ 5.2258e-02, -3.7858e-01,  1.3455e-01],\n                        [-3.8145e-02, -5.0194e-01,  5.8221e-02]],\n              \n                       [[-3.5664e-01, -2.2371e-01, -2.7830e-01],\n                        [ 1.3496e-01,  4.8294e-02, -5.7321e-01],\n                        [ 2.7820e-01,  1.6362e-01, -5.4545e-02]],\n              \n                       [[-2.8447e-02,  1.1263e-01,  1.9793e-01],\n                        [-6.9746e-02, -6.2339e-02,  8.6731e-02],\n                        [-4.6415e-03, -1.7407e-02, -7.7258e-02]]],\n              \n              \n                      [[[ 2.1158e-01,  9.3901e-03, -1.0138e-01],\n                        [-8.9565e-02,  1.0282e-01, -3.2585e-01],\n                        [-1.0950e-02,  1.5461e-01, -8.2110e-02]],\n              \n                       [[-6.1600e-01, -2.1827e-02, -3.2709e-01],\n                        [-2.0856e-01,  3.5739e-01, -2.1351e-01],\n                        [-2.2193e-01,  8.9950e-02,  4.4511e-01]],\n              \n                       [[-6.1112e-03, -3.9055e-02, -3.9716e-02],\n                        [ 9.9523e-03,  2.5558e-02,  5.4465e-02],\n                        [-2.3248e-03, -7.5154e-02,  7.8149e-02]],\n              \n                       [[-2.7468e-01,  1.5928e-01, -4.2398e-02],\n                        [ 2.0473e-01,  1.1097e-01, -1.5947e-01],\n                        [ 9.3712e-02, -5.3982e-02,  2.5039e-02]],\n              \n                       [[ 7.3215e-02, -1.0020e-01, -8.1815e-02],\n                        [-4.2174e-02,  7.5489e-02, -1.2945e-01],\n                        [ 1.0828e-01,  7.1986e-02,  2.9676e-02]],\n              \n                       [[ 1.3609e-01, -4.3716e-02, -1.7359e-01],\n                        [ 1.3698e-01, -1.1727e-02, -8.5270e-02],\n                        [ 1.6106e-03, -3.7261e-03, -1.4229e-01]],\n              \n                       [[-8.0308e-01, -1.2847e-01,  3.3780e-01],\n                        [-4.5362e-01, -9.3642e-02, -6.9904e-02],\n                        [-1.6157e-01,  1.7826e-01,  1.3892e-01]],\n              \n                       [[ 2.4254e-03,  4.5931e-01,  1.9215e-01],\n                        [-2.3780e-01,  1.0935e-01, -1.2623e-01],\n                        [ 2.0408e-02, -3.0144e-01, -2.4650e-01]],\n              \n                       [[-1.8174e-01, -1.3029e-01, -2.6079e-02],\n                        [-7.7565e-02, -1.2481e-01, -8.9038e-02],\n                        [-1.4223e-01, -1.6007e-01, -1.0917e-01]],\n              \n                       [[ 1.1880e-01, -1.2797e-02, -1.0757e-01],\n                        [-7.2839e-02, -3.4315e-02, -5.2709e-02],\n                        [ 3.1302e-02, -1.0107e-01, -1.1125e-01]]],\n              \n              \n                      [[[-2.0353e-01,  5.9667e-02, -4.7571e-02],\n                        [-1.4138e-01,  3.1538e-02, -1.2550e-01],\n                        [-1.3552e-01, -2.7716e-02,  3.4947e-02]],\n              \n                       [[ 2.0979e-01, -1.8720e-02, -3.4983e-01],\n                        [ 3.5548e-02, -2.6151e-01, -9.2685e-02],\n                        [-1.1779e-02, -3.6481e-01,  3.5912e-01]],\n              \n                       [[ 3.5999e-02, -5.1500e-02,  1.3520e-02],\n                        [ 1.9120e-02, -3.9560e-02,  1.3046e-01],\n                        [-9.5522e-02,  2.6488e-02, -4.4711e-02]],\n              \n                       [[-1.1687e-01, -2.7516e-02, -7.5859e-02],\n                        [ 5.9494e-02, -1.8508e-02, -1.2255e-01],\n                        [-1.4097e-02, -1.1870e-01, -1.3833e-01]],\n              \n                       [[-1.7854e-02,  4.7987e-02,  3.0463e-02],\n                        [-8.7938e-02, -5.2876e-02, -1.1567e-01],\n                        [-2.5950e-02, -1.3951e-01,  8.4027e-03]],\n              \n                       [[-1.1284e-01,  7.8955e-02,  8.0403e-02],\n                        [-1.0620e-01, -1.1699e-01,  1.5568e-02],\n                        [-5.8664e-02,  3.3597e-02, -4.8556e-02]],\n              \n                       [[-6.6945e-02, -4.8654e-02, -1.6829e-01],\n                        [-1.6303e-01, -4.5458e-02, -1.4365e-01],\n                        [-1.0208e-01, -1.8147e-01, -1.4407e-01]],\n              \n                       [[-8.3357e-02, -7.6185e-02,  8.7375e-02],\n                        [-4.1681e-02, -5.9085e-02,  1.8637e-01],\n                        [-5.6738e-02, -5.7077e-02, -6.1542e-02]],\n              \n                       [[ 2.6251e-01,  2.4599e-01,  3.6487e-02],\n                        [ 1.1037e-01,  5.6534e-02, -4.8585e-01],\n                        [ 3.3159e-01,  8.7014e-02, -3.3842e-01]],\n              \n                       [[ 5.7687e-02,  6.7547e-02,  9.0540e-02],\n                        [ 2.3478e-02, -1.2373e-01, -7.7684e-02],\n                        [-9.2719e-02,  3.7284e-02, -9.4117e-02]]],\n              \n              \n                      [[[-6.3811e-02, -1.2897e-01,  2.0114e-05],\n                        [-8.0840e-02, -1.9919e-01, -1.1610e-01],\n                        [ 9.5365e-02, -6.8930e-02, -1.8866e-02]],\n              \n                       [[ 3.9039e-01,  4.1506e-01,  2.1462e-01],\n                        [-3.7549e-02, -7.0620e-02, -3.2617e-02],\n                        [-1.6595e-01, -1.6233e-01, -1.4430e-01]],\n              \n                       [[-1.3066e-01, -1.1461e-01, -3.9299e-02],\n                        [-5.6144e-02, -7.7304e-02, -8.9651e-02],\n                        [-1.4104e-02, -8.4052e-02, -7.6086e-02]],\n              \n                       [[ 9.2304e-02, -3.3965e-02,  1.0656e-01],\n                        [ 1.0853e-01, -1.2473e-01, -8.0450e-02],\n                        [-5.7444e-03, -5.0553e-02, -1.1281e-01]],\n              \n                       [[-8.1055e-02, -8.9787e-02, -3.7090e-02],\n                        [-1.2028e-01, -2.4743e-02, -8.6896e-02],\n                        [ 1.1412e-01,  9.7516e-02,  4.4180e-02]],\n              \n                       [[-2.0172e-02, -1.2608e-01,  9.4985e-03],\n                        [-9.7898e-02, -1.0717e-01, -7.5224e-02],\n                        [-2.2099e-02, -9.7664e-02,  4.4943e-02]],\n              \n                       [[ 2.5058e-02, -9.1966e-02,  2.6917e-01],\n                        [-1.1789e-01, -1.4314e-01, -1.2995e-02],\n                        [ 8.8800e-02, -3.9574e-02, -1.9174e-01]],\n              \n                       [[-6.1362e-02,  4.1130e-02, -2.1484e-02],\n                        [-7.1094e-02, -1.2995e-01, -1.3696e-01],\n                        [ 1.1905e-02, -6.0808e-02,  3.1643e-02]],\n              \n                       [[-1.3831e-01,  6.4749e-02, -1.2198e-01],\n                        [-1.7509e-01,  2.1801e-02, -5.5339e-02],\n                        [ 2.2532e-02,  1.0159e-01, -7.1145e-02]],\n              \n                       [[-9.5847e-02,  3.2481e-03, -3.5143e-02],\n                        [ 9.6539e-02,  9.4285e-02,  2.1109e-02],\n                        [ 9.6437e-02, -5.1626e-02,  9.7047e-02]]],\n              \n              \n                      [[[ 2.5368e-01, -1.2773e-01, -3.4039e-01],\n                        [ 2.2948e-02, -8.3255e-02, -3.4486e-02],\n                        [-5.3285e-02, -1.1351e-01,  7.5326e-02]],\n              \n                       [[-5.1085e-01, -4.4143e-01,  4.6003e-02],\n                        [-2.6586e-01, -3.2084e-01, -3.6042e-01],\n                        [ 1.0784e-01,  6.3794e-01,  9.5770e-02]],\n              \n                       [[ 1.9728e-02, -4.4954e-02, -4.4728e-02],\n                        [ 2.8548e-03, -3.1349e-02, -8.8334e-02],\n                        [-3.2108e-02, -3.6852e-02,  1.0044e-01]],\n              \n                       [[-3.9186e-02, -1.8208e-01, -4.3193e-02],\n                        [-2.1222e-01, -9.5712e-02,  3.3717e-02],\n                        [ 9.8464e-02,  2.0338e-01,  1.1729e-01]],\n              \n                       [[-4.9520e-02, -3.5307e-02, -8.1202e-02],\n                        [-1.0956e-01, -6.1584e-02,  2.0638e-02],\n                        [ 7.2012e-02, -5.3239e-02, -9.9330e-02]],\n              \n                       [[-4.3007e-02, -9.1495e-02,  7.9905e-02],\n                        [-1.3748e-01,  3.2873e-02, -7.8960e-02],\n                        [-9.6502e-02, -4.8311e-02,  6.9429e-02]],\n              \n                       [[ 3.6972e-01,  5.4873e-01, -2.2133e-01],\n                        [-4.2809e-01,  7.7013e-02,  3.1949e-02],\n                        [-6.8274e-02, -4.7802e-01, -2.9323e-02]],\n              \n                       [[-2.2393e-01, -2.4619e-01, -3.7741e-02],\n                        [-2.0184e-01,  1.8201e-01,  4.0865e-02],\n                        [-2.7227e-01, -5.3704e-02,  3.1241e-01]],\n              \n                       [[-1.8140e-02, -3.7133e-01,  2.6838e-01],\n                        [-1.2359e-01, -3.6878e-01, -1.4966e-01],\n                        [ 1.9444e-01,  2.1438e-01, -6.0199e-02]],\n              \n                       [[ 1.0209e-01,  1.0841e-01, -1.0363e-01],\n                        [-1.3215e-02, -1.2067e-02,  6.1398e-02],\n                        [ 9.0065e-02,  4.5901e-02, -7.2712e-02]]],\n              \n              \n                      [[[ 1.8354e-01, -1.4924e-01,  2.3413e-01],\n                        [ 1.1897e-02, -3.0337e-01, -1.5655e-01],\n                        [-7.7233e-03,  1.7858e-01,  8.0684e-02]],\n              \n                       [[ 9.7795e-02,  2.7864e-01,  3.2166e-01],\n                        [-2.5951e-01, -2.0254e-01, -4.5443e-01],\n                        [-2.6607e-01, -2.7977e-01,  6.4280e-03]],\n              \n                       [[-8.1966e-03, -6.8931e-02, -1.4992e-02],\n                        [-3.3906e-02,  5.0359e-02, -5.1499e-02],\n                        [-3.9957e-02, -8.8455e-02, -3.7835e-02]],\n              \n                       [[ 5.7041e-02,  4.9312e-02,  2.6657e-02],\n                        [-5.4428e-02,  3.5180e-02, -2.2722e-02],\n                        [-6.9655e-02, -1.4779e-02,  3.4995e-02]],\n              \n                       [[ 9.2498e-02,  1.1619e-01,  3.6152e-02],\n                        [-1.2150e-02,  1.3571e-01, -1.4457e-01],\n                        [-1.2338e-01, -5.0823e-03, -7.7058e-02]],\n              \n                       [[-2.9594e-02, -6.0970e-02,  3.4480e-02],\n                        [ 5.6907e-02,  3.5397e-02, -8.1100e-02],\n                        [ 9.4623e-02,  9.0107e-02,  2.4731e-02]],\n              \n                       [[ 4.2215e-02, -6.0525e-01, -1.1003e-01],\n                        [ 1.0279e-01,  6.2594e-02, -2.6180e-01],\n                        [ 9.0073e-03,  4.9829e-01, -5.7204e-02]],\n              \n                       [[-2.3411e-01, -2.2533e-01, -3.4499e-01],\n                        [-4.2287e-01, -4.7354e-01,  2.9444e-02],\n                        [ 5.2257e-01,  3.6922e-01,  1.9072e-01]],\n              \n                       [[ 3.7670e-02,  2.4632e-01,  6.6405e-02],\n                        [-7.4853e-02,  1.5829e-02,  1.8963e-01],\n                        [-2.5192e-01, -7.3648e-01, -2.7495e-03]],\n              \n                       [[ 5.1140e-02, -8.8000e-02,  2.6774e-02],\n                        [ 3.3092e-02, -7.6702e-02, -5.5597e-02],\n                        [ 6.2900e-03, -1.6800e-01,  2.3734e-02]]],\n              \n              \n                      [[[ 6.9987e-02, -4.0985e-02,  7.0565e-02],\n                        [-2.4677e-02,  2.1038e-02, -6.1989e-02],\n                        [-3.9577e-02, -2.5564e-02, -1.3567e-02]],\n              \n                       [[-1.1850e-01, -1.3344e-01, -1.0730e-02],\n                        [ 7.8638e-02,  2.2908e-02, -2.6415e-02],\n                        [-1.4548e-02, -4.9735e-02,  1.4187e-02]],\n              \n                       [[ 7.9272e-03,  3.3986e-03, -4.9321e-03],\n                        [ 7.0099e-02,  7.0756e-03,  9.1458e-02],\n                        [ 6.0476e-02, -7.3697e-02, -1.7965e-03]],\n              \n                       [[-9.0636e-02, -8.4432e-02,  1.9056e-02],\n                        [ 8.8620e-02,  4.7597e-02,  1.3985e-01],\n                        [-7.1897e-02, -5.5340e-02, -4.5250e-02]],\n              \n                       [[ 5.8065e-04, -8.8206e-03,  9.3288e-02],\n                        [-4.5367e-02, -5.5425e-02,  6.5020e-03],\n                        [ 7.1735e-02,  1.9828e-02,  4.5246e-02]],\n              \n                       [[-1.2913e-02,  6.0414e-02,  2.4450e-02],\n                        [ 5.7541e-02, -2.6865e-02, -1.0778e-01],\n                        [-6.2715e-02,  3.4957e-02,  5.6503e-02]],\n              \n                       [[-1.0888e-01,  1.7574e-02, -5.8595e-02],\n                        [ 1.5997e-02,  4.2892e-02, -7.1534e-03],\n                        [-3.4714e-02, -8.9369e-02, -5.7684e-02]],\n              \n                       [[-1.1082e-01, -7.6031e-02,  6.4601e-04],\n                        [ 1.8133e-01,  1.3698e-01,  1.1156e-01],\n                        [-1.7582e-01, -7.7554e-02, -1.5213e-01]],\n              \n                       [[-1.2589e-01, -3.6557e-02, -1.0814e-01],\n                        [ 3.7553e-02, -1.1004e-01, -2.0830e-02],\n                        [ 1.3262e-02, -1.2574e-01,  1.3301e-02]],\n              \n                       [[-2.6955e-02,  4.1734e-02,  8.4785e-02],\n                        [-7.0422e-02, -7.6625e-02,  6.3937e-02],\n                        [-9.7978e-03, -3.0490e-02,  5.2918e-02]]],\n              \n              \n                      [[[-3.6367e-01, -5.3932e-02,  5.8375e-02],\n                        [-1.3279e-01, -2.3522e-01, -6.6057e-02],\n                        [ 5.2318e-02, -1.5152e-01,  5.1525e-02]],\n              \n                       [[ 1.2975e-01, -4.0853e-01, -9.2306e-02],\n                        [ 3.0746e-01, -1.4959e-01, -2.0209e-01],\n                        [-9.9437e-02, -1.7440e-01, -3.4847e-01]],\n              \n                       [[-3.3504e-03, -2.8904e-02, -7.6217e-02],\n                        [-4.3206e-02, -1.0265e-01, -5.9326e-02],\n                        [-1.3387e-02, -1.1399e-01, -1.0560e-01]],\n              \n                       [[ 1.6511e-01,  1.1003e-01,  1.2542e-02],\n                        [-2.3477e-02,  8.4254e-02, -1.0130e-01],\n                        [-1.4442e-02, -7.1011e-02,  8.2120e-03]],\n              \n                       [[ 1.2215e-01, -2.4991e-01,  1.4087e-01],\n                        [ 5.0054e-02,  1.2123e-01, -3.3520e-02],\n                        [ 5.6005e-02,  3.5904e-02, -6.7737e-02]],\n              \n                       [[ 7.0149e-02, -1.2400e-01, -2.9927e-02],\n                        [-6.5186e-02,  1.5237e-03,  8.2556e-02],\n                        [ 1.7284e-01,  9.6073e-03, -5.0632e-02]],\n              \n                       [[-2.1364e-01, -5.0182e-01,  1.7519e-01],\n                        [-1.4049e-01, -4.4547e-01, -4.1020e-01],\n                        [ 1.1624e-01,  2.0253e-01, -2.1841e-01]],\n              \n                       [[-7.8782e-02, -1.9541e-01, -2.0419e-01],\n                        [-1.5566e-01, -4.1243e-01, -7.3888e-02],\n                        [ 2.0556e-01, -1.2681e-01,  5.9925e-03]],\n              \n                       [[ 1.7451e-01,  1.0353e-01,  3.0853e-01],\n                        [ 1.6191e-01,  2.9049e-01,  3.3243e-01],\n                        [-4.1398e-02, -5.5056e-02,  2.4711e-01]],\n              \n                       [[ 7.0501e-02,  7.4909e-02, -1.0739e-01],\n                        [-4.3916e-02, -1.1301e-01, -3.1698e-02],\n                        [-1.2504e-01, -5.2379e-02, -8.6007e-02]]],\n              \n              \n                      [[[-9.5702e-02, -4.0206e-02, -3.8061e-02],\n                        [-1.2831e-01, -4.6050e-02, -8.2969e-02],\n                        [ 9.4666e-02,  6.1048e-02,  6.6115e-02]],\n              \n                       [[-1.3753e-01, -1.7317e-01, -1.6320e-01],\n                        [-2.6253e-01, -1.4270e-01, -5.9778e-02],\n                        [-2.4798e-01,  3.3667e-02,  1.9116e-01]],\n              \n                       [[-7.6507e-02,  4.2751e-02,  7.3745e-02],\n                        [ 2.2090e-02,  6.0970e-02,  3.9611e-02],\n                        [ 5.4766e-02, -8.9527e-02,  4.8513e-02]],\n              \n                       [[-7.9023e-02,  3.5000e-03,  2.6708e-02],\n                        [-2.5917e-02,  4.8554e-02, -6.2294e-02],\n                        [ 1.8639e-02,  6.4011e-03, -5.5319e-02]],\n              \n                       [[-8.5978e-02,  1.4137e-02, -7.9409e-02],\n                        [-7.8720e-02, -9.1074e-02,  1.8463e-02],\n                        [-1.6019e-01, -9.6239e-02, -2.7273e-02]],\n              \n                       [[-2.0697e-02, -4.2655e-02,  5.6843e-02],\n                        [-1.1279e-01, -1.0501e-01,  6.0905e-03],\n                        [-9.3385e-02,  3.7856e-02, -7.0352e-02]],\n              \n                       [[ 1.4981e-01, -9.9669e-02, -3.3896e-01],\n                        [ 2.7209e-01, -3.1249e-01, -4.6944e-01],\n                        [ 1.7391e-01, -9.7879e-02, -1.9223e-01]],\n              \n                       [[-2.2864e-01,  1.6999e-01,  4.8273e-02],\n                        [-4.2036e-02,  2.3971e-01,  1.4541e-01],\n                        [ 1.8097e-01,  3.5635e-01,  2.9233e-01]],\n              \n                       [[ 3.7621e-01, -1.2186e-01, -3.4047e-01],\n                        [-5.1045e-02, -2.0850e-01, -2.1408e-01],\n                        [-4.5289e-02, -2.6395e-01, -1.1986e-01]],\n              \n                       [[-8.9004e-02, -7.6556e-02,  3.5304e-02],\n                        [-6.7665e-02, -3.7938e-02,  7.8935e-02],\n                        [-8.1749e-02, -2.1504e-02,  5.6665e-02]]]])),\n             ('conv_block_2.2.bias',\n              tensor([ 0.2439, -0.1039,  0.2729,  0.0320, -0.1669,  0.3425,  0.1281, -0.1216,\n                      -0.0605, -0.0622])),\n             ('classifier.1.weight',\n              tensor([[ 0.0129, -0.0674,  0.1728,  ...,  0.0051, -0.0059, -0.0152],\n                      [ 0.0052,  0.1223,  0.0542,  ..., -0.0173,  0.0310,  0.0358],\n                      [-0.0214,  0.0545,  0.0854,  ...,  0.0321, -0.0218,  0.0304],\n                      ...,\n                      [-0.0557, -0.0809, -0.0871,  ...,  0.0239,  0.0049, -0.0141],\n                      [ 0.0749,  0.1744, -0.0477,  ...,  0.0051,  0.0420, -0.0399],\n                      [-0.0501, -0.0903, -0.0775,  ..., -0.0167, -0.0380,  0.0226]])),\n             ('classifier.1.bias',\n              tensor([ 0.0739, -0.1329,  0.4231, -0.0634, -0.3479, -0.1706,  0.1478,  0.0139,\n                       0.1530, -0.1337]))])"
     },
     "execution_count": 291,
     "metadata": {},
     "output_type": "execute_result"
    }
   ],
   "source": [
    "model_2.state_dict()"
   ],
   "metadata": {
    "collapsed": false,
    "ExecuteTime": {
     "end_time": "2023-08-21T15:36:22.748874500Z",
     "start_time": "2023-08-21T15:36:22.150516700Z"
    }
   },
   "id": "b8fbe0a85c8d89b"
  },
  {
   "cell_type": "code",
   "execution_count": 293,
   "outputs": [],
   "source": [
    "image_shape = [1, 28, 28]"
   ],
   "metadata": {
    "collapsed": false,
    "ExecuteTime": {
     "end_time": "2023-08-21T15:39:43.761207200Z",
     "start_time": "2023-08-21T15:39:43.696775900Z"
    }
   },
   "id": "8f83abf182b5d432"
  },
  {
   "cell_type": "code",
   "execution_count": 294,
   "outputs": [
    {
     "data": {
      "text/plain": "FashionMNISTModelV2(\n  (conv_block_1): Sequential(\n    (0): Conv2d(1, 10, kernel_size=(3, 3), stride=(1, 1), padding=(1, 1))\n    (1): ReLU()\n    (2): Conv2d(10, 10, kernel_size=(3, 3), stride=(1, 1), padding=(1, 1))\n    (3): ReLU()\n    (4): MaxPool2d(kernel_size=2, stride=2, padding=0, dilation=1, ceil_mode=False)\n  )\n  (conv_block_2): Sequential(\n    (0): Conv2d(10, 10, kernel_size=(3, 3), stride=(1, 1), padding=(1, 1))\n    (1): ReLU()\n    (2): Conv2d(10, 10, kernel_size=(3, 3), stride=(1, 1), padding=(1, 1))\n    (3): ReLU()\n    (4): MaxPool2d(kernel_size=2, stride=2, padding=0, dilation=1, ceil_mode=False)\n  )\n  (classifier): Sequential(\n    (0): Flatten(start_dim=1, end_dim=-1)\n    (1): Linear(in_features=490, out_features=10, bias=True)\n  )\n)"
     },
     "execution_count": 294,
     "metadata": {},
     "output_type": "execute_result"
    }
   ],
   "source": [
    "# Create a new instance\n",
    "torch.manual_seed(42)\n",
    "\n",
    "loaded_model_2 = FashionMNISTModelV2(input_shape=1,\n",
    "                                     hidden_units=10,\n",
    "                                     output_shape=len(class_names))\n",
    "\n",
    "# Load in the save state_dict()\n",
    "loaded_model_2.load_state_dict(torch.load(f=MODEL_SAVE_PATH))\n",
    "\n",
    "# Send the model to target device\n",
    "loaded_model_2.to(device)"
   ],
   "metadata": {
    "collapsed": false,
    "ExecuteTime": {
     "end_time": "2023-08-21T15:39:59.890270500Z",
     "start_time": "2023-08-21T15:39:59.557593700Z"
    }
   },
   "id": "351eaacde5da24ea"
  },
  {
   "cell_type": "code",
   "execution_count": 296,
   "outputs": [
    {
     "data": {
      "text/plain": "  0%|          | 0/313 [00:00<?, ?it/s]",
      "application/vnd.jupyter.widget-view+json": {
       "version_major": 2,
       "version_minor": 0,
       "model_id": "95382401e3a342238a7b0b90cb18c432"
      }
     },
     "metadata": {},
     "output_type": "display_data"
    },
    {
     "data": {
      "text/plain": "{'model_name': 'FashionMNISTModelV2',\n 'model_loss': 0.3330090641975403,\n 'model_acc': 88.15894568690096}"
     },
     "execution_count": 296,
     "metadata": {},
     "output_type": "execute_result"
    }
   ],
   "source": [
    "# Evaluate loaded model\n",
    "torch.manual_seed(42)\n",
    "\n",
    "loaded_model_2_results = eval_model(\n",
    "    model=loaded_model_2,\n",
    "    data_loader=test_dataloader,\n",
    "    loss_fn=loss_fn,\n",
    "    accuracy_fn=accuracy_fn\n",
    ")\n",
    "\n",
    "loaded_model_2_results"
   ],
   "metadata": {
    "collapsed": false,
    "ExecuteTime": {
     "end_time": "2023-08-21T15:41:46.510581500Z",
     "start_time": "2023-08-21T15:41:38.089230500Z"
    }
   },
   "id": "aca0281cad569b88"
  },
  {
   "cell_type": "code",
   "execution_count": 295,
   "outputs": [
    {
     "data": {
      "text/plain": "{'model_name': 'FashionMNISTModelV2',\n 'model_loss': 0.3330090641975403,\n 'model_acc': 88.15894568690096}"
     },
     "execution_count": 295,
     "metadata": {},
     "output_type": "execute_result"
    }
   ],
   "source": [
    "model_2_results"
   ],
   "metadata": {
    "collapsed": false,
    "ExecuteTime": {
     "start_time": "2023-08-21T15:40:21.853869900Z"
    }
   },
   "id": "ff376b39b4fc19cc"
  },
  {
   "cell_type": "code",
   "execution_count": 299,
   "outputs": [
    {
     "data": {
      "text/plain": "tensor(True)"
     },
     "execution_count": 299,
     "metadata": {},
     "output_type": "execute_result"
    }
   ],
   "source": [
    "# Check if model results are close to each other\n",
    "torch.isclose(torch.tensor(model_2_results[\"model_loss\"]),\n",
    "              torch.tensor(loaded_model_2_results[\"model_loss\"]),\n",
    "              atol=1e-02)"
   ],
   "metadata": {
    "collapsed": false,
    "ExecuteTime": {
     "end_time": "2023-08-21T15:43:13.716096300Z",
     "start_time": "2023-08-21T15:43:13.454477400Z"
    }
   },
   "id": "254b44366ccfa5b"
  },
  {
   "cell_type": "code",
   "execution_count": null,
   "outputs": [],
   "source": [],
   "metadata": {
    "collapsed": false
   },
   "id": "bf2361d18791565e"
  }
 ],
 "metadata": {
  "kernelspec": {
   "display_name": "Python 3",
   "language": "python",
   "name": "python3"
  },
  "language_info": {
   "codemirror_mode": {
    "name": "ipython",
    "version": 2
   },
   "file_extension": ".py",
   "mimetype": "text/x-python",
   "name": "python",
   "nbconvert_exporter": "python",
   "pygments_lexer": "ipython2",
   "version": "2.7.6"
  }
 },
 "nbformat": 4,
 "nbformat_minor": 5
}
